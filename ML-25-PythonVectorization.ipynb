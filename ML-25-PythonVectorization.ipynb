{
 "cells": [
  {
   "cell_type": "markdown",
   "id": "temporal-judge",
   "metadata": {},
   "source": [
    "---\n",
    "layout: default\n",
    "title: \"Python vectorization\"\n",
    "categories: deeplearning\n",
    "permalink: /ML25/\n",
    "order: 25\n",
    "comments: true\n",
    "---"
   ]
  },
  {
   "cell_type": "code",
   "execution_count": 1,
   "id": "otherwise-badge",
   "metadata": {
    "tags": [
     "remove_cell"
    ]
   },
   "outputs": [
    {
     "name": "stdout",
     "output_type": "stream",
     "text": [
      "Populating the interactive namespace from numpy and matplotlib\n"
     ]
    }
   ],
   "source": [
    "%pylab --no-import-all inline\n",
    "import pandas as pd"
   ]
  },
  {
   "cell_type": "markdown",
   "id": "adequate-damages",
   "metadata": {},
   "source": [
    "# Python vectorization\n",
    "In the pre-deep-learning era vectorization was optional, in the deep-learning era vectorization absolutely necessary since both the size of networks and of data is vastly increased.\n",
    "\n",
    "## Vector-vector product\n",
    "In particular, in deep learning (and in machine learning in general) we need to calculate \n",
    "\n",
    "$$\n",
    "z = w^Tx+b\n",
    "$$\n",
    "\n",
    "for \n",
    "\n",
    "$$\n",
    "w =\n",
    "\\begin{bmatrix}\n",
    "\\vdots \\\\ \\vdots\n",
    "\\end{bmatrix} \\in \\mathbb{R}^{n_x}\n",
    "\\qquad \n",
    "x = \\begin{bmatrix}\n",
    "\\vdots \\\\ \\vdots\n",
    "\\end{bmatrix} \\in \\mathbb{R}^{n_x}\n",
    "$$\n",
    "\n",
    "The vectorized form of this operation in python is "
   ]
  },
  {
   "cell_type": "code",
   "execution_count": 2,
   "id": "adverse-easter",
   "metadata": {
    "tags": [
     "remove_input"
    ]
   },
   "outputs": [],
   "source": [
    "w, x, b = np.random.rand(3, 10)"
   ]
  },
  {
   "cell_type": "code",
   "execution_count": 3,
   "id": "extraordinary-reporter",
   "metadata": {
    "tags": [
     "remove_output"
    ]
   },
   "outputs": [
    {
     "data": {
      "text/plain": [
       "array([2.81191537, 2.20477375, 2.57003904, 2.58126235, 2.44640661,\n",
       "       2.23185713, 2.47469393, 2.5696126 , 2.21937415, 2.76542584])"
      ]
     },
     "execution_count": 3,
     "metadata": {},
     "output_type": "execute_result"
    }
   ],
   "source": [
    "np.dot(w, x) + b"
   ]
  },
  {
   "cell_type": "markdown",
   "id": "legitimate-excess",
   "metadata": {},
   "source": [
    "where `np.dot(w, x)` $\\equiv w^Tx$"
   ]
  },
  {
   "cell_type": "markdown",
   "id": "faced-reliance",
   "metadata": {},
   "source": [
    "## Matrix-vector product\n",
    "Incidentally, the matrix-vector product $Av$, where \n",
    "\n",
    "$$\n",
    "A = \\begin{bmatrix}\n",
    "\\ddots &  \\\\\n",
    "&   \\\\\n",
    "&  \\ddots \\\\\n",
    "\\end{bmatrix} \\in \\mathbb{R}^{m \\times n} \\qquad \n",
    "v=\\begin{bmatrix}\n",
    "\\vdots \\\\ \\vdots\n",
    "\\end{bmatrix} \\in \\mathbb{R}^n\n",
    "$$"
   ]
  },
  {
   "cell_type": "code",
   "execution_count": 4,
   "id": "radical-bride",
   "metadata": {
    "tags": [
     "remove_input"
    ]
   },
   "outputs": [],
   "source": [
    "v = np.random.rand(10)\n",
    "A = np.random.rand(3, 10)"
   ]
  },
  {
   "cell_type": "code",
   "execution_count": 5,
   "id": "color-parks",
   "metadata": {
    "tags": [
     "remove_output"
    ]
   },
   "outputs": [
    {
     "data": {
      "text/plain": [
       "array([2.75986483, 3.33456935, 3.2864353 ])"
      ]
     },
     "execution_count": 5,
     "metadata": {},
     "output_type": "execute_result"
    }
   ],
   "source": [
    "np.dot(A, v)"
   ]
  },
  {
   "cell_type": "markdown",
   "id": "progressive-settle",
   "metadata": {},
   "source": [
    "Notice that the exact same syntax performs both vecto-vector and matrix-vector multiplication, this is due to the overload implemented in the `np.dot` function. To know more about it, check out [its documentation](https://numpy.org/doc/stable/reference/generated/numpy.dot.html)\n",
    "\n",
    "## Vectorized element-wise operations\n",
    "To apply a function element by element to whole arrays you can simply use`np.ufuncs` ([numpy universal functions](https://numpy.org/doc/stable/reference/generated/numpy.ufunc.html#numpy.ufunc))"
   ]
  },
  {
   "cell_type": "code",
   "execution_count": 6,
   "id": "polish-graphic",
   "metadata": {
    "tags": [
     "remove_input"
    ]
   },
   "outputs": [],
   "source": [
    "v = np.random.rand(10).round(2)"
   ]
  },
  {
   "cell_type": "code",
   "execution_count": 7,
   "id": "verbal-conversion",
   "metadata": {},
   "outputs": [
    {
     "data": {
      "text/plain": [
       "array([0.28, 0.72, 0.5 , 0.39, 0.84, 0.17, 0.14, 0.96, 0.02, 0.75])"
      ]
     },
     "execution_count": 7,
     "metadata": {},
     "output_type": "execute_result"
    }
   ],
   "source": [
    "v"
   ]
  },
  {
   "cell_type": "code",
   "execution_count": 8,
   "id": "adapted-priority",
   "metadata": {},
   "outputs": [
    {
     "data": {
      "text/plain": [
       "array([1.32, 2.05, 1.65, 1.48, 2.32, 1.19, 1.15, 2.61, 1.02, 2.12])"
      ]
     },
     "execution_count": 8,
     "metadata": {},
     "output_type": "execute_result"
    }
   ],
   "source": [
    "np.exp(v).round(2)"
   ]
  },
  {
   "cell_type": "code",
   "execution_count": 9,
   "id": "light-weapon",
   "metadata": {},
   "outputs": [
    {
     "data": {
      "text/plain": [
       "array([-1.27, -0.33, -0.69, -0.94, -0.17, -1.77, -1.97, -0.04, -3.91,\n",
       "       -0.29])"
      ]
     },
     "execution_count": 9,
     "metadata": {},
     "output_type": "execute_result"
    }
   ],
   "source": [
    "np.log(v).round(2)"
   ]
  },
  {
   "cell_type": "code",
   "execution_count": 10,
   "id": "usual-bikini",
   "metadata": {},
   "outputs": [
    {
     "data": {
      "text/plain": [
       "array([1.28, 1.72, 1.5 , 1.39, 1.84, 1.17, 1.14, 1.96, 1.02, 1.75])"
      ]
     },
     "execution_count": 10,
     "metadata": {},
     "output_type": "execute_result"
    }
   ],
   "source": [
    "v + 1"
   ]
  },
  {
   "cell_type": "code",
   "execution_count": 11,
   "id": "light-elements",
   "metadata": {},
   "outputs": [
    {
     "data": {
      "text/plain": [
       "array([0.56, 1.44, 1.  , 0.78, 1.68, 0.34, 0.28, 1.92, 0.04, 1.5 ])"
      ]
     },
     "execution_count": 11,
     "metadata": {},
     "output_type": "execute_result"
    }
   ],
   "source": [
    "v * 2"
   ]
  },
  {
   "cell_type": "markdown",
   "id": "biblical-edition",
   "metadata": {},
   "source": [
    "## Broadcasting\n",
    "To a complete guide to broadcasting check out [numpy great documentation](https://numpy.org/doc/stable/user/basics.broadcasting.html#:~:text=The%20term%20broadcasting%20describes%20how,that%20they%20have%20compatible%20shapes.&text=NumPy%20operations%20are%20usually%20done,element%2Dby%2Delement%20basis.)"
   ]
  },
  {
   "cell_type": "code",
   "execution_count": 12,
   "id": "integral-berkeley",
   "metadata": {},
   "outputs": [
    {
     "data": {
      "text/html": [
       "<div>\n",
       "<style scoped>\n",
       "    .dataframe tbody tr th:only-of-type {\n",
       "        vertical-align: middle;\n",
       "    }\n",
       "\n",
       "    .dataframe tbody tr th {\n",
       "        vertical-align: top;\n",
       "    }\n",
       "\n",
       "    .dataframe thead th {\n",
       "        text-align: right;\n",
       "    }\n",
       "</style>\n",
       "<table border=\"1\" class=\"dataframe\">\n",
       "  <thead>\n",
       "    <tr style=\"text-align: right;\">\n",
       "      <th></th>\n",
       "      <th>Apples</th>\n",
       "      <th>Beef</th>\n",
       "      <th>Eggs</th>\n",
       "      <th>Potatoes</th>\n",
       "    </tr>\n",
       "  </thead>\n",
       "  <tbody>\n",
       "    <tr>\n",
       "      <th>Carb</th>\n",
       "      <td>56.0</td>\n",
       "      <td>0</td>\n",
       "      <td>4.4</td>\n",
       "      <td>6.8</td>\n",
       "    </tr>\n",
       "    <tr>\n",
       "      <th>Protein</th>\n",
       "      <td>1.2</td>\n",
       "      <td>104</td>\n",
       "      <td>52.0</td>\n",
       "      <td>8.0</td>\n",
       "    </tr>\n",
       "    <tr>\n",
       "      <th>Fat</th>\n",
       "      <td>1.8</td>\n",
       "      <td>135</td>\n",
       "      <td>99.0</td>\n",
       "      <td>0.9</td>\n",
       "    </tr>\n",
       "  </tbody>\n",
       "</table>\n",
       "</div>"
      ],
      "text/plain": [
       "         Apples  Beef  Eggs  Potatoes\n",
       "Carb       56.0     0   4.4       6.8\n",
       "Protein     1.2   104  52.0       8.0\n",
       "Fat         1.8   135  99.0       0.9"
      ]
     },
     "execution_count": 12,
     "metadata": {},
     "output_type": "execute_result"
    }
   ],
   "source": [
    "A = pd.DataFrame([[56, 0, 4.4, 6.8], [1.2, 104, 52, 8], [1.8, 135, 99, 0.9]], \n",
    "                        columns=['Apples', 'Beef', 'Eggs', 'Potatoes'], index=['Carb', 'Protein', 'Fat'])\n",
    "A"
   ]
  },
  {
   "cell_type": "code",
   "execution_count": 13,
   "id": "verified-sociology",
   "metadata": {},
   "outputs": [
    {
     "data": {
      "text/plain": [
       "array([[ 56. ,   0. ,   4.4,   6.8],\n",
       "       [  1.2, 104. ,  52. ,   8. ],\n",
       "       [  1.8, 135. ,  99. ,   0.9]])"
      ]
     },
     "execution_count": 13,
     "metadata": {},
     "output_type": "execute_result"
    }
   ],
   "source": [
    "A = A.values\n",
    "A"
   ]
  },
  {
   "cell_type": "code",
   "execution_count": 14,
   "id": "ordered-version",
   "metadata": {},
   "outputs": [
    {
     "data": {
      "text/plain": [
       "array([ 59. , 239. , 155.4,  15.7])"
      ]
     },
     "execution_count": 14,
     "metadata": {},
     "output_type": "execute_result"
    }
   ],
   "source": [
    "cal = A.sum(axis=0)\n",
    "cal"
   ]
  },
  {
   "cell_type": "code",
   "execution_count": 15,
   "id": "southern-neighbor",
   "metadata": {},
   "outputs": [
    {
     "data": {
      "text/plain": [
       "array([[94.91525424,  0.        ,  2.83140283, 43.31210191],\n",
       "       [ 2.03389831, 43.51464435, 33.46203346, 50.95541401],\n",
       "       [ 3.05084746, 56.48535565, 63.70656371,  5.73248408]])"
      ]
     },
     "execution_count": 15,
     "metadata": {},
     "output_type": "execute_result"
    }
   ],
   "source": [
    "(A / cal.reshape(1, 4) * 100)"
   ]
  },
  {
   "cell_type": "code",
   "execution_count": 16,
   "id": "thrown-binary",
   "metadata": {},
   "outputs": [
    {
     "data": {
      "text/plain": [
       "array([[94.91525424,  0.        ,  2.83140283, 43.31210191],\n",
       "       [ 2.03389831, 43.51464435, 33.46203346, 50.95541401],\n",
       "       [ 3.05084746, 56.48535565, 63.70656371,  5.73248408]])"
      ]
     },
     "execution_count": 16,
     "metadata": {},
     "output_type": "execute_result"
    }
   ],
   "source": [
    "A / cal * 100"
   ]
  },
  {
   "cell_type": "markdown",
   "id": "standard-advertising",
   "metadata": {},
   "source": [
    "In general if you have a $m, n$ matrix (A) \n",
    "\n",
    "* if you apply an operation with an $1, n$ matrix (B), then B will be copied $m$ times and the operations applied element-wise\n",
    "* if you apply an operation with an $m, 1$ matrix (C), then C will be copied $n$ times and the operations applied element-wise"
   ]
  },
  {
   "cell_type": "markdown",
   "id": "suspended-seminar",
   "metadata": {},
   "source": [
    "## numpy Vectors\n",
    "`numpy` offers great flexibility at the cost of rigorousness, sometimes wrong-looking expression give unexpectedly correct results and vice versa.\n",
    "Heres a series of considerations and suggestions for dealing with `numpy`.\n",
    "\n",
    "For example let's take a random vector of 5 elements"
   ]
  },
  {
   "cell_type": "code",
   "execution_count": 17,
   "id": "enhanced-cabinet",
   "metadata": {},
   "outputs": [
    {
     "data": {
      "text/plain": [
       "array([0.58793071, 0.57107289, 0.0889954 , 0.04943523, 0.2427539 ])"
      ]
     },
     "execution_count": 17,
     "metadata": {},
     "output_type": "execute_result"
    }
   ],
   "source": [
    "a = np.random.rand(5)\n",
    "a"
   ]
  },
  {
   "cell_type": "markdown",
   "id": "recent-reception",
   "metadata": {},
   "source": [
    "Whose shape is"
   ]
  },
  {
   "cell_type": "code",
   "execution_count": 18,
   "id": "assigned-acrobat",
   "metadata": {},
   "outputs": [
    {
     "data": {
      "text/plain": [
       "(5,)"
      ]
     },
     "execution_count": 18,
     "metadata": {},
     "output_type": "execute_result"
    }
   ],
   "source": [
    "a.shape"
   ]
  },
  {
   "cell_type": "markdown",
   "id": "limiting-collective",
   "metadata": {},
   "source": [
    "This is called a rank 1 vector in python and it's neither a row vector nor a column vector and its behavior is sometimes unexpected. \n",
    "\n",
    "For example, its transpose is equal to itself "
   ]
  },
  {
   "cell_type": "code",
   "execution_count": 19,
   "id": "changed-trigger",
   "metadata": {},
   "outputs": [
    {
     "data": {
      "text/plain": [
       "array([0.58793071, 0.57107289, 0.0889954 , 0.04943523, 0.2427539 ])"
      ]
     },
     "execution_count": 19,
     "metadata": {},
     "output_type": "execute_result"
    }
   ],
   "source": [
    "a.T"
   ]
  },
  {
   "cell_type": "markdown",
   "id": "solar-demonstration",
   "metadata": {},
   "source": [
    "and the inner product of `a` and `a.T` is not a matrix instead is a scalar"
   ]
  },
  {
   "cell_type": "code",
   "execution_count": 20,
   "id": "physical-gambling",
   "metadata": {},
   "outputs": [
    {
     "data": {
      "text/plain": [
       "0.7410802482964651"
      ]
     },
     "execution_count": 20,
     "metadata": {},
     "output_type": "execute_result"
    }
   ],
   "source": [
    "np.dot(a, a.T)"
   ]
  },
  {
   "cell_type": "markdown",
   "id": "seventh-payday",
   "metadata": {},
   "source": [
    "So, instead of using rank 1 vectors you may want to use rank 2 vectors, which have a much more predictable behavior."
   ]
  },
  {
   "cell_type": "code",
   "execution_count": 21,
   "id": "coupled-scotland",
   "metadata": {},
   "outputs": [
    {
     "data": {
      "text/plain": [
       "array([[0.09125468],\n",
       "       [0.93066971],\n",
       "       [0.74560987],\n",
       "       [0.51267681],\n",
       "       [0.45281322]])"
      ]
     },
     "execution_count": 21,
     "metadata": {},
     "output_type": "execute_result"
    }
   ],
   "source": [
    "a = np.random.rand(5, 1)\n",
    "a"
   ]
  },
  {
   "cell_type": "code",
   "execution_count": 22,
   "id": "latter-programming",
   "metadata": {},
   "outputs": [
    {
     "data": {
      "text/plain": [
       "array([[0.09125468, 0.93066971, 0.74560987, 0.51267681, 0.45281322]])"
      ]
     },
     "execution_count": 22,
     "metadata": {},
     "output_type": "execute_result"
    }
   ],
   "source": [
    "a.T"
   ]
  },
  {
   "cell_type": "code",
   "execution_count": 23,
   "id": "first-valuable",
   "metadata": {},
   "outputs": [
    {
     "data": {
      "text/plain": [
       "array([[0.00832742, 0.08492797, 0.06804039, 0.04678416, 0.04132133],\n",
       "       [0.08492797, 0.8661461 , 0.69391652, 0.47713278, 0.42141955],\n",
       "       [0.06804039, 0.69391652, 0.55593408, 0.38225689, 0.33762201],\n",
       "       [0.04678416, 0.47713278, 0.38225689, 0.26283752, 0.23214684],\n",
       "       [0.04132133, 0.42141955, 0.33762201, 0.23214684, 0.20503981]])"
      ]
     },
     "execution_count": 23,
     "metadata": {},
     "output_type": "execute_result"
    }
   ],
   "source": [
    "np.dot(a, a.T)"
   ]
  },
  {
   "cell_type": "markdown",
   "id": "outstanding-rings",
   "metadata": {},
   "source": [
    "rank 1 arrays can always be reshaped in row or columns vectors (or higher dimensional matrices)"
   ]
  },
  {
   "cell_type": "code",
   "execution_count": 24,
   "id": "incomplete-affair",
   "metadata": {},
   "outputs": [
    {
     "data": {
      "text/plain": [
       "array([0.61699538, 0.19953253, 0.12773572, 0.98264147, 0.05461118])"
      ]
     },
     "execution_count": 24,
     "metadata": {},
     "output_type": "execute_result"
    }
   ],
   "source": [
    "a = np.random.rand(5)\n",
    "a"
   ]
  },
  {
   "cell_type": "code",
   "execution_count": 25,
   "id": "brazilian-grade",
   "metadata": {},
   "outputs": [
    {
     "data": {
      "text/plain": [
       "array([[0.61699538],\n",
       "       [0.19953253],\n",
       "       [0.12773572],\n",
       "       [0.98264147],\n",
       "       [0.05461118]])"
      ]
     },
     "execution_count": 25,
     "metadata": {},
     "output_type": "execute_result"
    }
   ],
   "source": [
    "a.reshape(5, 1)"
   ]
  },
  {
   "cell_type": "code",
   "execution_count": 26,
   "id": "spiritual-identifier",
   "metadata": {},
   "outputs": [
    {
     "data": {
      "text/plain": [
       "array([[0.61699538, 0.19953253, 0.12773572, 0.98264147, 0.05461118]])"
      ]
     },
     "execution_count": 26,
     "metadata": {},
     "output_type": "execute_result"
    }
   ],
   "source": [
    "a.reshape(1, 5)"
   ]
  }
 ],
 "metadata": {
  "kernelspec": {
   "display_name": "Python 3",
   "language": "python",
   "name": "python3"
  },
  "language_info": {
   "codemirror_mode": {
    "name": "ipython",
    "version": 3
   },
   "file_extension": ".py",
   "mimetype": "text/x-python",
   "name": "python",
   "nbconvert_exporter": "python",
   "pygments_lexer": "ipython3",
   "version": "3.9.1"
  }
 },
 "nbformat": 4,
 "nbformat_minor": 5
}
