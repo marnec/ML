{
 "cells": [
  {
   "cell_type": "markdown",
   "id": "tired-insertion",
   "metadata": {},
   "source": [
    "---\n",
    "layout: default\n",
    "categories: linearRegression\n",
    "title: \"Linear Regression - Implementation\"\n",
    "permalink: /ML4.5/\n",
    "order: 4.5\n",
    "comments: true\n",
    "---"
   ]
  },
  {
   "cell_type": "code",
   "execution_count": 180,
   "id": "russian-study",
   "metadata": {
    "tags": [
     "remove_cell"
    ]
   },
   "outputs": [
    {
     "name": "stdout",
     "output_type": "stream",
     "text": [
      "Populating the interactive namespace from numpy and matplotlib\n"
     ]
    }
   ],
   "source": [
    "%pylab --no-import-all inline\n",
    "plt.rcParams[\"mathtext.fontset\"] = \"cm\""
   ]
  },
  {
   "cell_type": "markdown",
   "id": "simple-diamond",
   "metadata": {},
   "source": [
    "# Linear regression implementation\n",
    "Since linear regression is a trivial model, it is relatively easy to implement it from scratches and maybe in the future I'll implement a full version on this page. \n",
    "\n",
    "Many libraries enabling a user to build and train a linear regression model exist. In the last years I feel like `scikit-learn` and `pytorch` are the most widely used libraries in machine learning.\n",
    "\n",
    "## Reading data\n",
    "For this example we are using house prices as a function of inhabitable surface and number of rooms. Data is stored in a csv file, to parse it into a python data structure we use `pandas`. This is a preliminary step for any approach and while some libraries may offer custom way to parse data I find that this is just better. Delegating parsing to a second library follows the *single-responsibility* principle. This is at least true for datasets saved in common formats like `csv` or `tsv` or similar. Sometimes we will deal with custom formats like Pytorch's `pt` files: in that case it is obviously better (or sometimes necessary) to take care of data loading with the right library."
   ]
  },
  {
   "cell_type": "code",
   "execution_count": 181,
   "id": "capital-clark",
   "metadata": {},
   "outputs": [],
   "source": [
    "import pandas as pd"
   ]
  },
  {
   "cell_type": "markdown",
   "id": "great-england",
   "metadata": {},
   "source": [
    "We read data from a `csv` file and cast it into a `pandas.DataFrame`"
   ]
  },
  {
   "cell_type": "code",
   "execution_count": 182,
   "id": "above-reason",
   "metadata": {},
   "outputs": [
    {
     "data": {
      "text/html": [
       "<div>\n",
       "<style scoped>\n",
       "    .dataframe tbody tr th:only-of-type {\n",
       "        vertical-align: middle;\n",
       "    }\n",
       "\n",
       "    .dataframe tbody tr th {\n",
       "        vertical-align: top;\n",
       "    }\n",
       "\n",
       "    .dataframe thead th {\n",
       "        text-align: right;\n",
       "    }\n",
       "</style>\n",
       "<table border=\"1\" class=\"dataframe\">\n",
       "  <thead>\n",
       "    <tr style=\"text-align: right;\">\n",
       "      <th></th>\n",
       "      <th>sqf</th>\n",
       "      <th>rooms</th>\n",
       "      <th>price</th>\n",
       "    </tr>\n",
       "  </thead>\n",
       "  <tbody>\n",
       "    <tr>\n",
       "      <th>0</th>\n",
       "      <td>2104</td>\n",
       "      <td>3</td>\n",
       "      <td>399900</td>\n",
       "    </tr>\n",
       "    <tr>\n",
       "      <th>1</th>\n",
       "      <td>1600</td>\n",
       "      <td>3</td>\n",
       "      <td>329900</td>\n",
       "    </tr>\n",
       "    <tr>\n",
       "      <th>2</th>\n",
       "      <td>2400</td>\n",
       "      <td>3</td>\n",
       "      <td>369000</td>\n",
       "    </tr>\n",
       "    <tr>\n",
       "      <th>3</th>\n",
       "      <td>1416</td>\n",
       "      <td>2</td>\n",
       "      <td>232000</td>\n",
       "    </tr>\n",
       "    <tr>\n",
       "      <th>4</th>\n",
       "      <td>3000</td>\n",
       "      <td>4</td>\n",
       "      <td>539900</td>\n",
       "    </tr>\n",
       "  </tbody>\n",
       "</table>\n",
       "</div>"
      ],
      "text/plain": [
       "    sqf  rooms   price\n",
       "0  2104      3  399900\n",
       "1  1600      3  329900\n",
       "2  2400      3  369000\n",
       "3  1416      2  232000\n",
       "4  3000      4  539900"
      ]
     },
     "execution_count": 182,
     "metadata": {},
     "output_type": "execute_result"
    }
   ],
   "source": [
    "df = pd.read_csv('./data/house_pricing.csv')\n",
    "df.head()"
   ]
  },
  {
   "cell_type": "markdown",
   "id": "square-participation",
   "metadata": {},
   "source": [
    "This dataset has two feature columns (`sqf` and `rooms`) and a label column (`price`)\n",
    "\n",
    "Let's assign the features $X$ and the labels $y$ to two different variables"
   ]
  },
  {
   "cell_type": "code",
   "execution_count": 183,
   "id": "differential-norman",
   "metadata": {},
   "outputs": [],
   "source": [
    "xy = df.values.T\n",
    "X = xy[:-1].T\n",
    "y = xy[-1]"
   ]
  },
  {
   "cell_type": "markdown",
   "id": "lucky-spray",
   "metadata": {},
   "source": [
    "Where the features $X$ are"
   ]
  },
  {
   "cell_type": "code",
   "execution_count": 184,
   "id": "partial-archive",
   "metadata": {},
   "outputs": [
    {
     "data": {
      "text/plain": [
       "array([[2104,    3],\n",
       "       [1600,    3],\n",
       "       [2400,    3],\n",
       "       [1416,    2],\n",
       "       [3000,    4]])"
      ]
     },
     "execution_count": 184,
     "metadata": {},
     "output_type": "execute_result"
    }
   ],
   "source": [
    "X[:5]"
   ]
  },
  {
   "cell_type": "markdown",
   "id": "regulated-explosion",
   "metadata": {},
   "source": [
    "and their labels $y$"
   ]
  },
  {
   "cell_type": "code",
   "execution_count": 185,
   "id": "institutional-antigua",
   "metadata": {},
   "outputs": [
    {
     "data": {
      "text/plain": [
       "array([[399900],\n",
       "       [329900],\n",
       "       [369000],\n",
       "       [232000],\n",
       "       [539900]])"
      ]
     },
     "execution_count": 185,
     "metadata": {},
     "output_type": "execute_result"
    }
   ],
   "source": [
    "y[:5].reshape(-1, 1)"
   ]
  },
  {
   "cell_type": "markdown",
   "id": "prompt-turkish",
   "metadata": {},
   "source": [
    "## scikit-learn\n",
    "Linear regression in `scikit-learn` is as easy as one line of code. To keep this first example as easy as possible, I'm not going to split the data in training and dev sets. I'm just fitting the model to the whole dataset. In a real scenario, there should be a preliminary step of dataset splitting. \n",
    "\n",
    "### Single feature\n",
    "In order for the first example to be as simple as possible and plottable, for now we drop the `rooms` column from the features and we are only left with the `sqf` column. This means that in this first example we are exploring linear dependency between the inhabitable surface and the price of a house."
   ]
  },
  {
   "cell_type": "code",
   "execution_count": 186,
   "id": "assisted-appendix",
   "metadata": {},
   "outputs": [
    {
     "data": {
      "text/plain": [
       "array([2104, 1600, 2400, 1416, 3000, 1985, 1534, 1427, 1380, 1494, 1940,\n",
       "       2000, 1890, 4478, 1268, 2300, 1320, 1236, 2609, 3031, 1767, 1888,\n",
       "       1604, 1962, 3890, 1100, 1458, 2526, 2200, 2637, 1839, 1000, 2040,\n",
       "       3137, 1811, 1437, 1239, 2132, 4215, 2162, 1664, 2238, 2567, 1200,\n",
       "        852, 1852, 1203])"
      ]
     },
     "execution_count": 186,
     "metadata": {},
     "output_type": "execute_result"
    }
   ],
   "source": [
    "X_simple = X[:, 0]\n",
    "X_simple"
   ]
  },
  {
   "cell_type": "markdown",
   "id": "digital-puzzle",
   "metadata": {},
   "source": [
    "Since the `fit()` function that we are using later wants a 2D-vector of shape $(m, n)$  and we only have one feature, we need to reshape the array in the form $(m, 1)$. On the other hand $y$ can either be a 2D or 1D array."
   ]
  },
  {
   "cell_type": "code",
   "execution_count": 187,
   "id": "downtown-baghdad",
   "metadata": {},
   "outputs": [
    {
     "data": {
      "text/plain": [
       "array([[2104],\n",
       "       [1600],\n",
       "       [2400],\n",
       "       [1416],\n",
       "       [3000]])"
      ]
     },
     "execution_count": 187,
     "metadata": {},
     "output_type": "execute_result"
    }
   ],
   "source": [
    "X_simple = X_simple.reshape(-1, 1)\n",
    "X_simple[:5]"
   ]
  },
  {
   "cell_type": "markdown",
   "id": "infrared-input",
   "metadata": {},
   "source": [
    "Building a linear regression model with [scikit-learn](https://scikit-learn.org/) requires the `LinearRegression` class"
   ]
  },
  {
   "cell_type": "code",
   "execution_count": 188,
   "id": "adjustable-particle",
   "metadata": {},
   "outputs": [],
   "source": [
    "from sklearn.linear_model import LinearRegression"
   ]
  },
  {
   "cell_type": "markdown",
   "id": "danish-variance",
   "metadata": {},
   "source": [
    "Now we can build the model buy instantiating the `LinearRegression` class"
   ]
  },
  {
   "cell_type": "code",
   "execution_count": 189,
   "id": "amazing-replacement",
   "metadata": {},
   "outputs": [],
   "source": [
    "linreg = LinearRegression()"
   ]
  },
  {
   "cell_type": "markdown",
   "id": "latin-poland",
   "metadata": {},
   "source": [
    "the `linreg` variable contains a linear regression object that allow the computation of the model, but we didn't feed the data to it. Data is fed to the `.fit()` method"
   ]
  },
  {
   "cell_type": "code",
   "execution_count": 190,
   "id": "fancy-retro",
   "metadata": {},
   "outputs": [],
   "source": [
    "linreg = linreg.fit(X_simple, y)"
   ]
  },
  {
   "cell_type": "markdown",
   "id": "configured-nowhere",
   "metadata": {},
   "source": [
    "The parameters and bias of the model are returned with"
   ]
  },
  {
   "cell_type": "code",
   "execution_count": 191,
   "id": "standing-trout",
   "metadata": {},
   "outputs": [
    {
     "data": {
      "text/plain": [
       "(array([134.52528772]), 71270.49244872917)"
      ]
     },
     "execution_count": 191,
     "metadata": {},
     "output_type": "execute_result"
    }
   ],
   "source": [
    "linreg.coef_, linreg.intercept_"
   ]
  },
  {
   "cell_type": "code",
   "execution_count": 192,
   "id": "solved-defensive",
   "metadata": {
    "tags": [
     "remove_input"
    ]
   },
   "outputs": [
    {
     "data": {
      "image/png": "[encoded data removed]",
      "text/plain": [
       "<Figure size 432x288 with 1 Axes>"
      ]
     },
     "metadata": {
      "needs_background": "light"
     },
     "output_type": "display_data"
    }
   ],
   "source": [
    "fig, ax = plt.subplots()\n",
    "ax.plot(X_simple, y, ls='none', marker='o')\n",
    "px = np.linspace(1000, 5000)\n",
    "ax.plot(px, linreg.predict(px.reshape(-1, 1)))\n",
    "ax.set_title(f'$\\\\hat{{y}}={linreg.coef_[0]:.2f} \\cdot x '\n",
    "             f'+ {linreg.intercept_:.2f}$', fontsize=16);"
   ]
  },
  {
   "cell_type": "markdown",
   "id": "dangerous-undergraduate",
   "metadata": {},
   "source": [
    "### Multiple Features\n",
    "We can now introduce the dataset split step that we oversaw in the previous example. In `scikit-learn` splitting the dataset in train and test set is taken care of for us through a function. The proportion of the split can be configured through its arguments."
   ]
  },
  {
   "cell_type": "code",
   "execution_count": 193,
   "id": "educated-advocate",
   "metadata": {},
   "outputs": [],
   "source": [
    "from sklearn.model_selection import train_test_split\n",
    "X_train, X_test, y_train, y_test = train_test_split(X, y, test_size=0.33)"
   ]
  },
  {
   "cell_type": "markdown",
   "id": "thorough-manor",
   "metadata": {},
   "source": [
    "We can now fit the all ($n=2$) features of the training set $X^t$"
   ]
  },
  {
   "cell_type": "code",
   "execution_count": 194,
   "id": "sunrise-parameter",
   "metadata": {},
   "outputs": [],
   "source": [
    "linreg = LinearRegression().fit(X_train, y_train)"
   ]
  },
  {
   "cell_type": "markdown",
   "id": "located-fraud",
   "metadata": {},
   "source": [
    "Since this time $X^t \\in \\mathbb{R}^{m \\times 2}$, we have 2 weight parameters and 1 bias parameter"
   ]
  },
  {
   "cell_type": "code",
   "execution_count": 195,
   "id": "educational-mouse",
   "metadata": {},
   "outputs": [
    {
     "data": {
      "text/plain": [
       "(array([  134.00624715, -6735.36295985]), 89300.92498337029)"
      ]
     },
     "execution_count": 195,
     "metadata": {},
     "output_type": "execute_result"
    }
   ],
   "source": [
    "linreg.coef_, linreg.intercept_"
   ]
  },
  {
   "cell_type": "markdown",
   "id": "careful-brook",
   "metadata": {},
   "source": [
    "Parameters fitted on the training set can be used to produce prediction from the test set features"
   ]
  },
  {
   "cell_type": "code",
   "execution_count": 196,
   "id": "entitled-season",
   "metadata": {},
   "outputs": [
    {
     "data": {
      "text/plain": [
       "array([627195.8048889 , 489472.43341908, 322331.5926185 , 235128.57632493,\n",
       "       337107.33040746, 422469.30984317, 283504.83154673, 229902.332686  ,\n",
       "       322366.64322076, 363908.57983783, 655704.08492997, 468532.40826114,\n",
       "       411981.77196307, 325279.73005584, 190003.52163702, 328361.87374033])"
      ]
     },
     "execution_count": 196,
     "metadata": {},
     "output_type": "execute_result"
    }
   ],
   "source": [
    "y_pred = linreg.predict(X_test)\n",
    "y_pred"
   ]
  },
  {
   "cell_type": "markdown",
   "id": "pleased-testing",
   "metadata": {},
   "source": [
    "Predictions can be now compared to the labels of the test set"
   ]
  },
  {
   "cell_type": "code",
   "execution_count": 197,
   "id": "abroad-november",
   "metadata": {},
   "outputs": [
    {
     "data": {
      "text/plain": [
       "0.7663988971402916"
      ]
     },
     "execution_count": 197,
     "metadata": {},
     "output_type": "execute_result"
    }
   ],
   "source": [
    "from sklearn.metrics import explained_variance_score\n",
    "explained_variance_score(y_test, y_pred)"
   ]
  },
  {
   "cell_type": "markdown",
   "id": "outdoor-interval",
   "metadata": {},
   "source": [
    "## Pytorch\n",
    "Whereas `scikit-learn` is a high-level library, `Pytorch` is has a much lower-level approach. Many of the things that in `scikit-learn` happen under the hoods, in `Pytorch` need to be done manually. \n",
    "\n",
    "The main entry point of the framework is the `torch` module"
   ]
  },
  {
   "cell_type": "code",
   "execution_count": 198,
   "id": "drawn-thing",
   "metadata": {},
   "outputs": [],
   "source": [
    "import torch"
   ]
  },
  {
   "cell_type": "markdown",
   "id": "qualified-academy",
   "metadata": {},
   "source": [
    "The first noticeable Pytorch feature is that it works using a proprietary data-structure, called a `tensor`. The underlying mathematical concept of tensor is beyond the scope of this article but can be consulted at the [Wikipedia tensor entry](https://en.wikipedia.org/wiki/Tensor). In Pytorch, a `tensor` is (citing the [pytorch tensor documentation](https://pytorch.org/docs/stable/tensors.html)) *a multi-dimensional matrix containing elements of a single data type*."
   ]
  },
  {
   "cell_type": "code",
   "execution_count": 199,
   "id": "adequate-empire",
   "metadata": {},
   "outputs": [
    {
     "data": {
      "text/plain": [
       "tensor([[2.1040e+03, 3.0000e+00],\n",
       "        [1.6000e+03, 3.0000e+00],\n",
       "        [2.4000e+03, 3.0000e+00],\n",
       "        [1.4160e+03, 2.0000e+00],\n",
       "        [3.0000e+03, 4.0000e+00]])"
      ]
     },
     "execution_count": 199,
     "metadata": {},
     "output_type": "execute_result"
    }
   ],
   "source": [
    "X_tensor = torch.tensor(X, dtype=torch.float32)\n",
    "X_tensor[:5]"
   ]
  },
  {
   "cell_type": "markdown",
   "id": "demonstrated-desktop",
   "metadata": {},
   "source": [
    "As you can notice we had to specify `dtype=np.float32`. This is because the underlying implementation of forward and backward propagation used by Pytorch under the hood would not work with the `int` type.\n",
    "\n",
    "Furthermore, $y$ tensor would be 1D but this would not comply with requirements of Pytorch methods used below, so we transform it into a column vector with the `unsqueeze(-1)` method. This is equivalent to calling `.reshape(-1, 1)` on a `numpy.array`"
   ]
  },
  {
   "cell_type": "code",
   "execution_count": 200,
   "id": "peaceful-laser",
   "metadata": {},
   "outputs": [
    {
     "data": {
      "text/plain": [
       "tensor([[399900.],\n",
       "        [329900.],\n",
       "        [369000.],\n",
       "        [232000.],\n",
       "        [539900.]])"
      ]
     },
     "execution_count": 200,
     "metadata": {},
     "output_type": "execute_result"
    }
   ],
   "source": [
    "y_tensor = torch.tensor(y, dtype=torch.float32).unsqueeze(-1)\n",
    "y_tensor[:5]"
   ]
  },
  {
   "cell_type": "markdown",
   "id": "inappropriate-heath",
   "metadata": {},
   "source": [
    "Since data is in very different scales we need to first normalize it. Here we use [standardization](https://en.wikipedia.org/wiki/Standard_score), which rescales data to have mean $\\mu=0$ and standard deviation $\\sigma=1$\n",
    "\n",
    "$$\n",
    "X_\\text{std} = \\frac{X - \\mu}{\\sigma}\n",
    "$$"
   ]
  },
  {
   "cell_type": "code",
   "execution_count": 201,
   "id": "minus-class",
   "metadata": {},
   "outputs": [
    {
     "data": {
      "text/plain": [
       "tensor([[ 0.9590, -0.8692],\n",
       "        [ 0.5204, -0.8692],\n",
       "        [ 1.2166, -0.8692],\n",
       "        [ 0.3603, -0.8701],\n",
       "        [ 1.7387, -0.8684]])"
      ]
     },
     "execution_count": 201,
     "metadata": {},
     "output_type": "execute_result"
    }
   ],
   "source": [
    "X_tensor_norm = (X_tensor - X_tensor.mean()) / torch.sqrt(X_tensor.var())\n",
    "X_tensor_norm[:5]"
   ]
  },
  {
   "cell_type": "markdown",
   "id": "useful-fields",
   "metadata": {},
   "source": [
    "A linear regression model can be built using the `Linear` class from the `nn` module, which initializes bias and weights automatically. Its constructor takes as input the number of columns of the input ($n_X$) and of the output ($n_y$)"
   ]
  },
  {
   "cell_type": "code",
   "execution_count": 202,
   "id": "three-gentleman",
   "metadata": {},
   "outputs": [],
   "source": [
    "model = torch.nn.Linear(2, 1)"
   ]
  },
  {
   "cell_type": "markdown",
   "id": "fifth-touch",
   "metadata": {},
   "source": [
    "Training the model will require some hyperparameters that we will define in advance for convenience:\n",
    "\n",
    "* `epochs` is the number of times the model will see all of our training samples;\n",
    "* `alpha` is the learning rate, which defines how big are the steps takes in updating the parameters;\n",
    "* `loss_func` is the loss function $\\mathcal{L}$ used at training time. In this case we are using the `MSELoss`, which measures the mean squared error (squared L2 norm) between each element in the input $x$ and target $y$;\n",
    "* `optim` is the optimization algorithm used. In this case we are using `SGD` (Stochastic Gradient Descent). SGD requires us to select the correct $\\alpha$. Up to this point we haven't seen that other optimization algorithm exist that automatically adapt $\\alpha$ to data (e.g. [ADAM](https://en.wikipedia.org/wiki/Stochastic_gradient_descent#Adam)), so we are sticking with standard SGD."
   ]
  },
  {
   "cell_type": "code",
   "execution_count": 203,
   "id": "seeing-roads",
   "metadata": {},
   "outputs": [],
   "source": [
    "epochs = 10\n",
    "alpha = 0.01\n",
    "loss_func = torch.nn.MSELoss()\n",
    "optim = torch.optim.SGD(model.parameters(), lr=alpha)"
   ]
  },
  {
   "cell_type": "markdown",
   "id": "dense-money",
   "metadata": {},
   "source": [
    "Now we need to manually run over the epochs and trigger the update of the parameters that will ultimately produce a fitted model"
   ]
  },
  {
   "cell_type": "code",
   "execution_count": 204,
   "id": "collective-forward",
   "metadata": {},
   "outputs": [
    {
     "name": "stdout",
     "output_type": "stream",
     "text": [
      "epoch 0, loss 131183001600.0\n",
      "epoch 1, loss 117986418688.0\n",
      "epoch 2, loss 106161872896.0\n",
      "epoch 3, loss 95566716928.0\n",
      "epoch 4, loss 86073106432.0\n",
      "epoch 5, loss 77566492672.0\n",
      "epoch 6, loss 69944254464.0\n",
      "epoch 7, loss 63114424320.0\n",
      "epoch 8, loss 56994619392.0\n",
      "epoch 9, loss 51510988800.0\n"
     ]
    }
   ],
   "source": [
    "from torch.autograd import Variable\n",
    "\n",
    "for epoch in range(epochs):\n",
    "    inputs = Variable(X_tensor_norm)\n",
    "    labels = Variable(y_tensor)\n",
    "    # Clear gradient buffers because from previous epoch\n",
    "    optim.zero_grad()\n",
    "    # get output from the model, given the inputs\n",
    "    outputs = model(inputs)\n",
    "    # get loss for the predicted output\n",
    "    loss = loss_func(outputs, labels)\n",
    "    # get gradients w.r.t to parameters\n",
    "    loss.backward()\n",
    "    # update parameters\n",
    "    optim.step()\n",
    "    print('epoch {}, loss {}'.format(epoch, loss.item()))"
   ]
  },
  {
   "cell_type": "code",
   "execution_count": 227,
   "id": "instrumental-tragedy",
   "metadata": {},
   "outputs": [
    {
     "data": {
      "text/plain": [
       "tensor([[150347.2500],\n",
       "        [124711.7578],\n",
       "        [165403.0156],\n",
       "        [115393.3906],\n",
       "        [195880.8281]], grad_fn=<SliceBackward>)"
      ]
     },
     "execution_count": 227,
     "metadata": {},
     "output_type": "execute_result"
    }
   ],
   "source": [
    "model(inputs)[:5]"
   ]
  }
 ],
 "metadata": {
  "kernelspec": {
   "display_name": "Python 3",
   "language": "python",
   "name": "python3"
  },
  "language_info": {
   "codemirror_mode": {
    "name": "ipython",
    "version": 3
   },
   "file_extension": ".py",
   "mimetype": "text/x-python",
   "name": "python",
   "nbconvert_exporter": "python",
   "pygments_lexer": "ipython3",
   "version": "3.6.9"
  }
 },
 "nbformat": 4,
 "nbformat_minor": 5
}
