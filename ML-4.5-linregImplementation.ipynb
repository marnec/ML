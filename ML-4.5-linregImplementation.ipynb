{
 "cells": [
  {
   "cell_type": "markdown",
   "id": "hundred-neighbor",
   "metadata": {},
   "source": [
    "---\n",
    "layout: default\n",
    "categories: linearRegression\n",
    "title: \"Linear Regression - Implementation\"\n",
    "permalink: /ML4.5/\n",
    "order: 4.5\n",
    "comments: true\n",
    "---"
   ]
  },
  {
   "cell_type": "code",
   "execution_count": 1,
   "id": "latin-speaking",
   "metadata": {},
   "outputs": [
    {
     "name": "stdout",
     "output_type": "stream",
     "text": [
      "Populating the interactive namespace from numpy and matplotlib\n"
     ]
    }
   ],
   "source": [
    "%pylab --no-import-all inline\n",
    "plt.rcParams[\"mathtext.fontset\"] = \"cm\""
   ]
  },
  {
   "cell_type": "markdown",
   "id": "brave-reproduction",
   "metadata": {},
   "source": [
    "# Linear regression implementation\n",
    "Since linear regression is a trivial model, it is relatively easy to implement it from scratches and maybe in the future I'll implement a full version on this page. \n",
    "\n",
    "Many libraries enabling a user to build and train a linear regression model exist. In the last years I feel like `scikit-learn` and `pytorch` are the most widely used libraries in machine learning.\n",
    "\n",
    "## Preparing data\n",
    "For this example we are using house prices as a function of inhabitable surface and number of rooms. In order to prepare data we use `pandas`. "
   ]
  },
  {
   "cell_type": "code",
   "execution_count": 2,
   "id": "gross-block",
   "metadata": {},
   "outputs": [],
   "source": [
    "import pandas as pd"
   ]
  },
  {
   "cell_type": "markdown",
   "id": "noble-newfoundland",
   "metadata": {},
   "source": [
    "We read data from a `csv` file and cast it into a `pandas.DataFrame`"
   ]
  },
  {
   "cell_type": "code",
   "execution_count": 3,
   "id": "sustainable-yeast",
   "metadata": {},
   "outputs": [
    {
     "data": {
      "text/html": [
       "<div>\n",
       "<style scoped>\n",
       "    .dataframe tbody tr th:only-of-type {\n",
       "        vertical-align: middle;\n",
       "    }\n",
       "\n",
       "    .dataframe tbody tr th {\n",
       "        vertical-align: top;\n",
       "    }\n",
       "\n",
       "    .dataframe thead th {\n",
       "        text-align: right;\n",
       "    }\n",
       "</style>\n",
       "<table border=\"1\" class=\"dataframe\">\n",
       "  <thead>\n",
       "    <tr style=\"text-align: right;\">\n",
       "      <th></th>\n",
       "      <th>sqf</th>\n",
       "      <th>rooms</th>\n",
       "      <th>price</th>\n",
       "    </tr>\n",
       "  </thead>\n",
       "  <tbody>\n",
       "    <tr>\n",
       "      <th>0</th>\n",
       "      <td>2104</td>\n",
       "      <td>3</td>\n",
       "      <td>399900</td>\n",
       "    </tr>\n",
       "    <tr>\n",
       "      <th>1</th>\n",
       "      <td>1600</td>\n",
       "      <td>3</td>\n",
       "      <td>329900</td>\n",
       "    </tr>\n",
       "    <tr>\n",
       "      <th>2</th>\n",
       "      <td>2400</td>\n",
       "      <td>3</td>\n",
       "      <td>369000</td>\n",
       "    </tr>\n",
       "    <tr>\n",
       "      <th>3</th>\n",
       "      <td>1416</td>\n",
       "      <td>2</td>\n",
       "      <td>232000</td>\n",
       "    </tr>\n",
       "    <tr>\n",
       "      <th>4</th>\n",
       "      <td>3000</td>\n",
       "      <td>4</td>\n",
       "      <td>539900</td>\n",
       "    </tr>\n",
       "  </tbody>\n",
       "</table>\n",
       "</div>"
      ],
      "text/plain": [
       "    sqf  rooms   price\n",
       "0  2104      3  399900\n",
       "1  1600      3  329900\n",
       "2  2400      3  369000\n",
       "3  1416      2  232000\n",
       "4  3000      4  539900"
      ]
     },
     "execution_count": 3,
     "metadata": {},
     "output_type": "execute_result"
    }
   ],
   "source": [
    "df = pd.read_csv('./data/house_pricing.csv')\n",
    "df.head()"
   ]
  },
  {
   "cell_type": "markdown",
   "id": "surgical-notion",
   "metadata": {},
   "source": [
    "This dataset has two feature columns (`sqf` and `rooms`) and a label column (`price`)\n",
    "\n",
    "Let's assign the features $X$ and the labels $y$ to two different variables"
   ]
  },
  {
   "cell_type": "code",
   "execution_count": 4,
   "id": "generic-instrument",
   "metadata": {},
   "outputs": [],
   "source": [
    "xy = df.values.T\n",
    "X = xy[:-1].T\n",
    "y = xy[-1]"
   ]
  },
  {
   "cell_type": "markdown",
   "id": "formed-smile",
   "metadata": {},
   "source": [
    "Where the features $X$ are"
   ]
  },
  {
   "cell_type": "code",
   "execution_count": 5,
   "id": "duplicate-density",
   "metadata": {},
   "outputs": [
    {
     "data": {
      "text/plain": [
       "array([[2104,    3],\n",
       "       [1600,    3],\n",
       "       [2400,    3],\n",
       "       [1416,    2],\n",
       "       [3000,    4]])"
      ]
     },
     "execution_count": 5,
     "metadata": {},
     "output_type": "execute_result"
    }
   ],
   "source": [
    "X[:5]"
   ]
  },
  {
   "cell_type": "markdown",
   "id": "spoken-worry",
   "metadata": {},
   "source": [
    "and their labels $y$"
   ]
  },
  {
   "cell_type": "code",
   "execution_count": 6,
   "id": "available-indonesia",
   "metadata": {},
   "outputs": [
    {
     "data": {
      "text/plain": [
       "array([[399900],\n",
       "       [329900],\n",
       "       [369000],\n",
       "       [232000],\n",
       "       [539900]])"
      ]
     },
     "execution_count": 6,
     "metadata": {},
     "output_type": "execute_result"
    }
   ],
   "source": [
    "y[:5].reshape(-1, 1)"
   ]
  },
  {
   "cell_type": "markdown",
   "id": "ranking-attitude",
   "metadata": {},
   "source": [
    "## scikit-learn\n",
    "Linear regression in `scikit-learn` is as easy as one line of code\n",
    "\n",
    "### Single feature\n",
    "In order for the linear dependency to be intuitively visualizable, we are going for now to drop the `rooms` column from the features"
   ]
  },
  {
   "cell_type": "code",
   "execution_count": 7,
   "id": "described-plaintiff",
   "metadata": {},
   "outputs": [
    {
     "data": {
      "text/plain": [
       "array([2104, 1600, 2400, 1416, 3000, 1985, 1534, 1427, 1380, 1494, 1940,\n",
       "       2000, 1890, 4478, 1268, 2300, 1320, 1236, 2609, 3031, 1767, 1888,\n",
       "       1604, 1962, 3890, 1100, 1458, 2526, 2200, 2637, 1839, 1000, 2040,\n",
       "       3137, 1811, 1437, 1239, 2132, 4215, 2162, 1664, 2238, 2567, 1200,\n",
       "        852, 1852, 1203])"
      ]
     },
     "execution_count": 7,
     "metadata": {},
     "output_type": "execute_result"
    }
   ],
   "source": [
    "X_simple = X[:, 0]\n",
    "X_simple"
   ]
  },
  {
   "cell_type": "markdown",
   "id": "selected-ireland",
   "metadata": {},
   "source": [
    "Since the `fit()` function that we are using later wants a 2D-vector of shape $(m, n)$  and we only have one feature, we need to reshape the array in the form $(m, 1)$. On the other hand $y$ can either be a 2D or 1D array."
   ]
  },
  {
   "cell_type": "code",
   "execution_count": 75,
   "id": "adopted-camel",
   "metadata": {},
   "outputs": [
    {
     "data": {
      "text/plain": [
       "array([[2104],\n",
       "       [1600],\n",
       "       [2400],\n",
       "       [1416],\n",
       "       [3000]])"
      ]
     },
     "execution_count": 75,
     "metadata": {},
     "output_type": "execute_result"
    }
   ],
   "source": [
    "X_simple = X_simple.reshape(-1, 1)\n",
    "X_simple[:5]"
   ]
  },
  {
   "cell_type": "markdown",
   "id": "double-circle",
   "metadata": {},
   "source": [
    "Building a linear regression model with [scikit-learn](https://scikit-learn.org/) requires the `LinearRegression` class"
   ]
  },
  {
   "cell_type": "code",
   "execution_count": 9,
   "id": "comic-eleven",
   "metadata": {},
   "outputs": [],
   "source": [
    "from sklearn.linear_model import LinearRegression"
   ]
  },
  {
   "cell_type": "markdown",
   "id": "balanced-volunteer",
   "metadata": {},
   "source": [
    "Now we can build the model buy instantiating the `LinearRegression` class"
   ]
  },
  {
   "cell_type": "code",
   "execution_count": 10,
   "id": "hearing-cross",
   "metadata": {},
   "outputs": [],
   "source": [
    "linreg = LinearRegression()"
   ]
  },
  {
   "cell_type": "markdown",
   "id": "vertical-distribution",
   "metadata": {},
   "source": [
    "the `linreg` variable contains a linear regression object that allow the computation of the model, but we didn't feed the data to it. Data is fed to the `.fit()` method"
   ]
  },
  {
   "cell_type": "code",
   "execution_count": 11,
   "id": "effective-handy",
   "metadata": {},
   "outputs": [],
   "source": [
    "linreg = linreg.fit(X_simple, y)"
   ]
  },
  {
   "cell_type": "markdown",
   "id": "peaceful-photograph",
   "metadata": {},
   "source": [
    "The parameters and bias of the model are returned with"
   ]
  },
  {
   "cell_type": "code",
   "execution_count": 12,
   "id": "considered-butter",
   "metadata": {},
   "outputs": [
    {
     "data": {
      "text/plain": [
       "(array([134.52528772]), 71270.49244872917)"
      ]
     },
     "execution_count": 12,
     "metadata": {},
     "output_type": "execute_result"
    }
   ],
   "source": [
    "linreg.coef_, linreg.intercept_"
   ]
  },
  {
   "cell_type": "code",
   "execution_count": 24,
   "id": "protective-auckland",
   "metadata": {},
   "outputs": [
    {
     "data": {
      "image/png": "[encoded data removed]",
      "text/plain": [
       "<Figure size 432x288 with 1 Axes>"
      ]
     },
     "metadata": {
      "needs_background": "light"
     },
     "output_type": "display_data"
    }
   ],
   "source": [
    "fig, ax = plt.subplots()\n",
    "ax.plot(X_simple, y, ls='none', marker='o')\n",
    "px = np.linspace(1000, 5000)\n",
    "ax.plot(px, linreg.predict(px.reshape(-1, 1)))\n",
    "ax.set_title(f'$\\\\hat{{y}}={linreg.coef_[0]:.2f} \\cdot x '\n",
    "             f'+ {linreg.intercept_:.2f}$', fontsize=13);"
   ]
  },
  {
   "cell_type": "markdown",
   "id": "pressing-strike",
   "metadata": {},
   "source": [
    "### Multiple Features\n",
    "We can now repeat the fit for the original feature matrix $X$"
   ]
  },
  {
   "cell_type": "code",
   "execution_count": 40,
   "id": "thick-sperm",
   "metadata": {},
   "outputs": [],
   "source": [
    "from IPython.display import Math\n",
    "\n",
    "linreg = LinearRegression().fit(X, y)"
   ]
  },
  {
   "cell_type": "markdown",
   "id": "broadband-crash",
   "metadata": {},
   "source": [
    "Since this time $X \\in \\mathbb{R}^{m \\times 2}$, we have two weight parameters and one bias parameter"
   ]
  },
  {
   "cell_type": "code",
   "execution_count": 41,
   "id": "olympic-praise",
   "metadata": {},
   "outputs": [
    {
     "data": {
      "text/plain": [
       "(array([  139.21067402, -8738.01911233]), 89597.90954279754)"
      ]
     },
     "execution_count": 41,
     "metadata": {},
     "output_type": "execute_result"
    }
   ],
   "source": [
    "linreg.coef_, linreg.intercept_"
   ]
  },
  {
   "cell_type": "markdown",
   "id": "consistent-drama",
   "metadata": {},
   "source": [
    "## Pytorch"
   ]
  },
  {
   "cell_type": "code",
   "execution_count": 42,
   "id": "formal-salad",
   "metadata": {},
   "outputs": [],
   "source": [
    "import torch\n",
    "from torch.autograd import Variable"
   ]
  },
  {
   "cell_type": "code",
   "execution_count": 54,
   "id": "sensitive-ownership",
   "metadata": {},
   "outputs": [],
   "source": [
    "class linearRegression(torch.nn.Module):\n",
    "    def __init__(self, inputSize, outputSize):\n",
    "        super(linearRegression, self).__init__()\n",
    "        self.linear = torch.nn.Linear(inputSize, outputSize)\n",
    "\n",
    "    def forward(self, x):\n",
    "        return self.linear(x)"
   ]
  },
  {
   "cell_type": "code",
   "execution_count": 55,
   "id": "progressive-installation",
   "metadata": {},
   "outputs": [],
   "source": [
    "model = linearRegression(2, 1)"
   ]
  },
  {
   "cell_type": "code",
   "execution_count": 86,
   "id": "exempt-thermal",
   "metadata": {},
   "outputs": [],
   "source": [
    "epochs = 100\n",
    "alpha = 0.01\n",
    "loss_func = torch.nn.MSELoss()\n",
    "optim = torch.optim.SGD(model.parameters(), lr=alpha)"
   ]
  },
  {
   "cell_type": "code",
   "execution_count": 90,
   "id": "immediate-moderator",
   "metadata": {},
   "outputs": [],
   "source": [
    "for epoch in range(epochs):\n",
    "    inputs = Variable(torch.from_numpy(X.astype(np.float32)))\n",
    "    labels = Variable(torch.from_numpy(y.reshape(-1, 1).astype(np.float32)))\n",
    "    # Clear gradient buffers because we don't want any gradient from previous epoch to carry forward, dont want to cummulate gradients\n",
    "    optim.zero_grad()\n",
    "    # get output from the model, given the inputs\n",
    "    outputs = model(inputs)\n",
    "    # get loss for the predicted output\n",
    "    loss = loss_func(outputs, labels)\n",
    "    # get gradients w.r.t to parameters\n",
    "    loss.backward()\n",
    "    # update parameters\n",
    "    optim.step()\n",
    "#     print('epoch {}, loss {}'.format(epoch, loss.item()))"
   ]
  }
 ],
 "metadata": {
  "kernelspec": {
   "display_name": "Python 3",
   "language": "python",
   "name": "python3"
  },
  "language_info": {
   "codemirror_mode": {
    "name": "ipython",
    "version": 3
   },
   "file_extension": ".py",
   "mimetype": "text/x-python",
   "name": "python",
   "nbconvert_exporter": "python",
   "pygments_lexer": "ipython3",
   "version": "3.6.9"
  }
 },
 "nbformat": 4,
 "nbformat_minor": 5
}
