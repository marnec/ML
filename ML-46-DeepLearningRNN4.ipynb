{
 "cells": [
  {
   "cell_type": "markdown",
   "id": "surface-carroll",
   "metadata": {},
   "source": [
    "---\n",
    "layout: default\n",
    "title: \"Deep Learning - RNN - Sequence to sequence models\"\n",
    "categories: deeplearning\n",
    "permalink: /ML46/\n",
    "order: 46\n",
    "comments: true\n",
    "---"
   ]
  },
  {
   "cell_type": "code",
   "execution_count": 1,
   "id": "moving-highway",
   "metadata": {
    "tags": [
     "remove_cell"
    ]
   },
   "outputs": [
    {
     "name": "stdout",
     "output_type": "stream",
     "text": [
      "Populating the interactive namespace from numpy and matplotlib\n"
     ]
    }
   ],
   "source": [
    "%pylab --no-import-all inline\n",
    "from IPython.display import set_matplotlib_formats\n",
    "set_matplotlib_formats('svg')\n",
    "plt.rcParams[\"mathtext.fontset\"] = \"cm\""
   ]
  },
  {
   "cell_type": "markdown",
   "id": "drawn-blowing",
   "metadata": {},
   "source": [
    "# Sequence to sequence models\n",
    "Sequence to sequence models are RNN algorithms that take sequences as input and produce sequences as output. They are employed in many fields from machine translation to speech recognition.\n",
    "\n",
    "Machine translation is the perfect example of the reason why sequence to sequence models have been developed. Almost all the examples seen so far map an input sequence to a single output. In machine translation we want to translate a sentence from a language to a second sequence in another. \n",
    "\n",
    "## Basic seq-to-seq model\n",
    "Suppose we have a sentence in French that we want to map to its English translation:\n",
    "\n",
    "$$\n",
    "\\begin{split}\n",
    "&\\begin{array}\n",
    "&x^{\\langle 1 \\rangle} & x^{\\langle 2 \\rangle} & x^{\\langle 3 \\rangle} & x^{\\langle 4 \\rangle} & x^{\\langle 5 \\rangle} \\\\\n",
    "\\text{Jane} & \\text{visite} & \\text{l'Afrique} & \\text{en} & \\text{septembre}\n",
    "\\end{array}\\\\ \\\\\n",
    "&\\begin{array}\n",
    "&\\text{Jane} & \\text{is} & \\text{visiting} & \\text{Africa} & \\text{in} & \\text{September} \\\\\n",
    "y^{\\langle 1 \\rangle} & y^{\\langle 2 \\rangle} & y^{\\langle 3 \\rangle} & y^{\\langle 4 \\rangle} & y^{\\langle 5 \\rangle} & y^{\\langle 6 \\rangle} \n",
    "\\end{array}\n",
    "\\end{split}\n",
    "$$\n",
    "\n",
    "In order to map such input sequences to output sequences, [Sutskever et.al. 2014](https://arxiv.org/abs/1409.3215) and [Cho et.al.2014](https://arxiv.org/abs/1406.1078) developed RNN based seq-to-seq models."
   ]
  }
 ],
 "metadata": {
  "kernelspec": {
   "display_name": "Python 3",
   "language": "python",
   "name": "python3"
  },
  "language_info": {
   "codemirror_mode": {
    "name": "ipython",
    "version": 3
   },
   "file_extension": ".py",
   "mimetype": "text/x-python",
   "name": "python",
   "nbconvert_exporter": "python",
   "pygments_lexer": "ipython3",
   "version": "3.6.9"
  }
 },
 "nbformat": 4,
 "nbformat_minor": 5
}
