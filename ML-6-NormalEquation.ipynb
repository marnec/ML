{
 "cells": [
  {
   "cell_type": "markdown",
   "metadata": {},
   "source": [
    "---\n",
    "layout: default\n",
    "categories: linearRegression\n",
    "permalink: /ML6/\n",
    "order: 6\n",
    "comments: true\n",
    "---"
   ]
  },
  {
   "cell_type": "markdown",
   "metadata": {},
   "source": [
    "Gradient descent gives one way of minimizing $J$. Let’s discuss a second way of doing so, this time performing the minimization explicitly and without resorting to an iterative algorithm. In the \"Normal Equation\" method, we will minimize $J$ by explicitly taking its derivatives with respect to the $\\theta_j$ ’s, and setting them to zero. This allows us to find the optimum theta without iteration. The normal equation formula is given below: \n",
    "\n",
    "$$\n",
    "\\theta = (X^T X)^{-1}X^T y\n",
    "$$\n",
    "\n",
    "\n",
    "There is no need to do feature scaling with the normal equation.\n",
    "\n",
    "The following is a comparison of gradient descent and the normal equation:\n",
    "\n",
    "| Gradient descent             | Normal equation                                   |\n",
    "|------------------------------|---------------------------------------------------|\n",
    "| Need to chose alpha          | No need to choose alpha                           |\n",
    "| Needs many iteration         | No need to iterate                                |\n",
    "| $O(kn^2)$                    | $O(n^3)$, need to calculate the inverse of $X^TX$ |\n",
    "| Works well when $n$ is large | Slow if $n$ is very large                         |\n",
    "\n",
    "With the normal equation, computing the inversion has complexity $\\mathcal{O}(n^3)$. So if we have a very large number of features, the normal equation will be slow. In practice, when $n$ exceeds $10\\,000$ it might be a good time to go from a normal solution to an iterative process."
   ]
  }
 ],
 "metadata": {
  "kernelspec": {
   "display_name": "ML",
   "language": "python",
   "name": "ml"
  },
  "language_info": {
   "codemirror_mode": {
    "name": "ipython",
    "version": 3
   },
   "file_extension": ".py",
   "mimetype": "text/x-python",
   "name": "python",
   "nbconvert_exporter": "python",
   "pygments_lexer": "ipython3",
   "version": "3.6.9"
  }
 },
 "nbformat": 4,
 "nbformat_minor": 4
}
