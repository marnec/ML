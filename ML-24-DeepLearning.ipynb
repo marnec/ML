{
 "cells": [
  {
   "cell_type": "markdown",
   "id": "recognized-blackjack",
   "metadata": {},
   "source": [
    "---\n",
    "layout: default\n",
    "title: \"Deep Learning\"\n",
    "categories: deeplearning\n",
    "permalink: /ML24/\n",
    "order: 24\n",
    "comments: true\n",
    "---"
   ]
  },
  {
   "cell_type": "code",
   "execution_count": 3,
   "id": "single-gambling",
   "metadata": {
    "tags": [
     "remove_cell"
    ]
   },
   "outputs": [
    {
     "name": "stdout",
     "output_type": "stream",
     "text": [
      "Populating the interactive namespace from numpy and matplotlib\n"
     ]
    }
   ],
   "source": [
    "%pylab --no-import-all inline\n",
    "plt.rcParams[\"mathtext.fontset\"] = \"cm\"\n",
    "import pandas as pd\n",
    "from copy import deepcopy as cp\n",
    "from graphviz import Digraph"
   ]
  },
  {
   "cell_type": "markdown",
   "id": "scenic-rabbit",
   "metadata": {},
   "source": [
    "# Deep learning\n",
    "While the concept of deep learning has been around since many years, it really took off some years ago. On one hand, from the advent of computers and internet we ha started to accumulate an enormous amount of data. On the other hand computational power has increased to the point that training very large neural network is now not only possible, but relatively easy. These two fact combined are the reason behind the popularization of deep learning algorithm, since large amount of data (more precisely labeled data) fed into very large neural networks, produce results unachievable by other models.\n",
    "\n",
    "So in one word **scale** has been driving deep learning, scale of labeled data, of computational power and of the algorithm.\n",
    "\n",
    "Incidentally many new technologies (i.e. types of neural networks) have been invented while trying to run large algorithms faster: for example, one of the fundamental breakthrough in ML has been switching from a sigmoid function to a RELU function (<a href=\"#sigmoidrelu\">figure below</a>)."
   ]
  },
  {
   "cell_type": "code",
   "execution_count": 4,
   "id": "active-extra",
   "metadata": {
    "tags": [
     "remove_input"
    ]
   },
   "outputs": [
    {
     "data": {
      "image/png": "[encoded data removed]",
      "text/plain": [
       "<Figure size 720x288 with 2 Axes>"
      ]
     },
     "metadata": {
      "needs_background": "light"
     },
     "output_type": "display_data"
    }
   ],
   "source": [
    "fig, axes = plt.subplots(1, 2, figsize=(10, 4))\n",
    "ax1, ax2 = axes\n",
    "\n",
    "x = np.linspace(-10, 10)\n",
    "ax1.plot(x, 1/(1 + np.exp(-x)))\n",
    "ax1.set_title('Sigmoid function')\n",
    "ax2.plot(x, np.maximum(x, 0))\n",
    "ax2.set_title('ReLU');"
   ]
  },
  {
   "cell_type": "markdown",
   "id": "dangerous-proceeding",
   "metadata": {},
   "source": [
    "<i id=\"sigmoidrelu\">Comparison between sigmoid function and ReLU</i>\n",
    "\n",
    "This is due to the fact that in the regions far from $0$, the parameters change very slowly, while with the ReLU the gradient descent is much more efficient.\n",
    "\n",
    "## Derivatives\n",
    "Suppose we have a function $f(a) = 3a$, then $f(2) = 6$. If we take a small increment of $a$ ($a'$) we will have $f(2.001) = 6.003$. Connecting $a$ and $a'$ forms a triangle, with an height ($a'-a$) and a width ($f(a') - f(a)$) (<a href=\"#derivative\">figure below</a>).\n",
    "\n",
    "The slope $\\frac{\\text{height} }{\\text{width}}=3$ so we say that the derivative of $f(a)$ at the point $a=2$ is $3$. Height and width are the the vertical and horizontal distances and the slope is also expressed as $\\frac{df(a)}{da}$ or as $\\frac{d}{da}f(a)$. The reason why $a'$ doesn't appear in this representation is because, formally, the derivative is calculated at a very small increment of $a$ such as $a' \\approx a$.\n",
    "\n",
    "For a straight line (<a href=\"#derivative\">figure below</a>, panel A) the derivative is constant along the whole line."
   ]
  },
  {
   "cell_type": "code",
   "execution_count": 5,
   "id": "alien-album",
   "metadata": {
    "tags": [
     "remove_input"
    ]
   },
   "outputs": [
    {
     "data": {
      "image/png": "[encoded data removed]",
      "text/plain": [
       "<Figure size 720x288 with 2 Axes>"
      ]
     },
     "metadata": {
      "needs_background": "light"
     },
     "output_type": "display_data"
    }
   ],
   "source": [
    "fig, axes = plt.subplots(1, 2, figsize=(10, 4))\n",
    "ax, ax2 = axes\n",
    "xmax = 5\n",
    "x = np.linspace(0, xmax)\n",
    "y = 3*x\n",
    "ax.plot(x, y)\n",
    "ax.set_aspect('equal')\n",
    "ax.set_xlim(-xmax*.1, xmax*3)\n",
    "ax.plot([2, 4, 4, 2], [6, 12, 6, 6], marker='o', lw=2, markevery=[0, 1])\n",
    "\n",
    "ax.set_xticks([2, 4])\n",
    "ax.set_xticklabels([2, 2.001])\n",
    "ax.set_yticks([6, 12])\n",
    "ax.set_yticklabels([6, 6.003])\n",
    "ax.set_xlabel('')\n",
    "ax.annotate('0.001', (1.6, 5), xytext=(4.4, 5), va='center',  arrowprops={'arrowstyle': '<->'})\n",
    "ax.annotate('0.003', (5, 5.7), xytext=(5, 12.6), ha='center',  arrowprops={'arrowstyle': '<->'});\n",
    "ax.text(5.5, 9, '$df(a)$', fontsize=13)\n",
    "ax.text(3, 4.5, '$da$', va='top', ha='center', fontsize=13)\n",
    "ax.set_title('$f(a)=3a$', fontsize=13)\n",
    "ax.text(-0.1, 1.1, 'A', transform=ax.transAxes,\n",
    "  fontsize=15, va='top')\n",
    "\n",
    "ax2.plot(x, x**2)\n",
    "ax2.set_xlim(-xmax*.1, xmax*1.4)\n",
    "\n",
    "x1, x2 = 10, 15\n",
    "dx = np.r_[x[[x1, x2]], x[x2], x[x1]]\n",
    "dy = np.r_[x[[x1, x2]], x[x1], x[x1]]**2\n",
    "ax2.plot(dx, dy, marker='o', markevery=[0, 1])\n",
    "\n",
    "x1, x2 = 40, 45\n",
    "dx = np.r_[x[[x1, x2]], x[x2], x[x1]]\n",
    "dy = np.r_[x[[x1, x2]], x[x1], x[x1]]**2\n",
    "ax2.plot(dx, dy, marker='o', markevery=[0, 1])\n",
    "ax2.set_title('$f(a)=a^2$', fontsize=13)\n",
    "ax2.set_xticks([])\n",
    "ax2.set_xticklabels([])\n",
    "ax2.set_yticks([])\n",
    "ax2.set_yticklabels([])\n",
    "ax2.text(-0.1, 1.1, 'B', transform=ax2.transAxes,\n",
    "  fontsize=15, va='top');"
   ]
  },
  {
   "cell_type": "markdown",
   "id": "abroad-subject",
   "metadata": {},
   "source": [
    "<i id=\"derivative\">The concept of derivative applied to a straight line (A), where the derivative is constant along the whole length of the function; and to a non-linear function (B), where the derivative changes based on the value of $a$.</i>\n",
    "\n",
    "## Computational graph\n",
    "The computational graph explains the forward- and backward- propagation (as to say the flow of the computation) that takes place in the training of a neural network. \n",
    "\n",
    "To illustrate the computation graph let's use a simpler example than a full blown neural network, let's say that we are writing a function $J(a, b, c) = 3(a+bc)$. In order to compute this function there are three steps: \n",
    "\n",
    "1. $u = bc$\n",
    "2. $v = a + u$\n",
    "3. $J=3v$\n",
    "\n",
    "We can draw these steps in a computational graph"
   ]
  },
  {
   "cell_type": "code",
   "execution_count": 10,
   "id": "developing-worker",
   "metadata": {
    "tags": [
     "remove_input"
    ]
   },
   "outputs": [
    {
     "data": {
      "image/svg+xml": [
       "<?xml version=\"1.0\" encoding=\"UTF-8\" standalone=\"no\"?>\n",
       "<!DOCTYPE svg PUBLIC \"-//W3C//DTD SVG 1.1//EN\"\n",
       " \"http://www.w3.org/Graphics/SVG/1.1/DTD/svg11.dtd\">\n",
       "<!-- Generated by graphviz version 2.43.0 (0)\n",
       " -->\n",
       "<!-- Title: %3 Pages: 1 -->\n",
       "<svg width=\"354pt\" height=\"167pt\"\n",
       " viewBox=\"0.00 0.00 354.00 167.00\" xmlns=\"http://www.w3.org/2000/svg\" xmlns:xlink=\"http://www.w3.org/1999/xlink\">\n",
       "<g id=\"graph0\" class=\"graph\" transform=\"scale(1 1) rotate(0) translate(4 163)\">\n",
       "<title>%3</title>\n",
       "<polygon fill=\"white\" stroke=\"transparent\" points=\"-4,4 -4,-163 350,-163 350,4 -4,4\"/>\n",
       "<!-- a -->\n",
       "<g id=\"node1\" class=\"node\">\n",
       "<title>a</title>\n",
       "<ellipse fill=\"none\" stroke=\"black\" cx=\"37\" cy=\"-141\" rx=\"27\" ry=\"18\"/>\n",
       "<text text-anchor=\"middle\" x=\"37\" y=\"-137.3\" font-family=\"Times,serif\" font-size=\"14.00\">a</text>\n",
       "<text text-anchor=\"middle\" x=\"5\" y=\"-111.8\" font-family=\"Times,serif\" font-size=\"14.00\">5</text>\n",
       "</g>\n",
       "<!-- v -->\n",
       "<g id=\"node5\" class=\"node\">\n",
       "<title>v</title>\n",
       "<polygon fill=\"none\" stroke=\"black\" points=\"256,-132 190,-132 190,-96 256,-96 256,-132\"/>\n",
       "<text text-anchor=\"middle\" x=\"223\" y=\"-110.3\" font-family=\"Times,serif\" font-size=\"14.00\">v=a+u</text>\n",
       "<text text-anchor=\"middle\" x=\"180.5\" y=\"-84.8\" font-family=\"Times,serif\" font-size=\"14.00\">11</text>\n",
       "</g>\n",
       "<!-- a&#45;&gt;v -->\n",
       "<g id=\"edge2\" class=\"edge\">\n",
       "<title>a&#45;&gt;v:w</title>\n",
       "<path fill=\"none\" stroke=\"black\" d=\"M61.99,-134.05C90.64,-126.34 140.31,-114.89 184.87,-114.05\"/>\n",
       "<polygon fill=\"black\" stroke=\"black\" points=\"185.02,-115.8 190,-114 184.98,-112.3 185.02,-115.8\"/>\n",
       "</g>\n",
       "<!-- b -->\n",
       "<g id=\"node2\" class=\"node\">\n",
       "<title>b</title>\n",
       "<ellipse fill=\"none\" stroke=\"black\" cx=\"37\" cy=\"-87\" rx=\"27\" ry=\"18\"/>\n",
       "<text text-anchor=\"middle\" x=\"37\" y=\"-83.3\" font-family=\"Times,serif\" font-size=\"14.00\">b</text>\n",
       "<text text-anchor=\"middle\" x=\"5\" y=\"-57.8\" font-family=\"Times,serif\" font-size=\"14.00\">3</text>\n",
       "</g>\n",
       "<!-- u -->\n",
       "<g id=\"node4\" class=\"node\">\n",
       "<title>u</title>\n",
       "<polygon fill=\"none\" stroke=\"black\" points=\"154,-105 100,-105 100,-69 154,-69 154,-105\"/>\n",
       "<text text-anchor=\"middle\" x=\"127\" y=\"-83.3\" font-family=\"Times,serif\" font-size=\"14.00\">u=bc</text>\n",
       "<text text-anchor=\"middle\" x=\"95\" y=\"-57.8\" font-family=\"Times,serif\" font-size=\"14.00\">6</text>\n",
       "</g>\n",
       "<!-- b&#45;&gt;u -->\n",
       "<g id=\"edge1\" class=\"edge\">\n",
       "<title>b&#45;&gt;u:w</title>\n",
       "<path fill=\"none\" stroke=\"black\" d=\"M64.25,-87C73.73,-87 84.65,-87 94.99,-87\"/>\n",
       "<polygon fill=\"black\" stroke=\"black\" points=\"95,-88.75 100,-87 95,-85.25 95,-88.75\"/>\n",
       "</g>\n",
       "<!-- c -->\n",
       "<g id=\"node3\" class=\"node\">\n",
       "<title>c</title>\n",
       "<ellipse fill=\"none\" stroke=\"black\" cx=\"37\" cy=\"-33\" rx=\"27\" ry=\"18\"/>\n",
       "<text text-anchor=\"middle\" x=\"37\" y=\"-29.3\" font-family=\"Times,serif\" font-size=\"14.00\">c</text>\n",
       "<text text-anchor=\"middle\" x=\"5\" y=\"-3.8\" font-family=\"Times,serif\" font-size=\"14.00\">2</text>\n",
       "</g>\n",
       "<!-- c&#45;&gt;u -->\n",
       "<g id=\"edge3\" class=\"edge\">\n",
       "<title>c&#45;&gt;u:w</title>\n",
       "<path fill=\"none\" stroke=\"black\" d=\"M52.82,-47.76C66.24,-60.87 85.36,-78.88 95.1,-84.92\"/>\n",
       "<polygon fill=\"black\" stroke=\"black\" points=\"94.71,-86.66 100,-87 96.08,-83.44 94.71,-86.66\"/>\n",
       "</g>\n",
       "<!-- u&#45;&gt;v -->\n",
       "<g id=\"edge4\" class=\"edge\">\n",
       "<title>u&#45;&gt;v:w</title>\n",
       "<path fill=\"none\" stroke=\"black\" d=\"M154.1,-103.95C163.28,-108.61 174.01,-112.68 184.74,-113.74\"/>\n",
       "<polygon fill=\"black\" stroke=\"black\" points=\"184.92,-115.5 190,-114 185.09,-112 184.92,-115.5\"/>\n",
       "</g>\n",
       "<!-- j -->\n",
       "<g id=\"node6\" class=\"node\">\n",
       "<title>j</title>\n",
       "<polygon fill=\"none\" stroke=\"black\" points=\"346,-132 292,-132 292,-96 346,-96 346,-132\"/>\n",
       "<text text-anchor=\"middle\" x=\"319\" y=\"-110.3\" font-family=\"Times,serif\" font-size=\"14.00\">J=3v</text>\n",
       "<text text-anchor=\"middle\" x=\"282.5\" y=\"-84.8\" font-family=\"Times,serif\" font-size=\"14.00\">33</text>\n",
       "</g>\n",
       "<!-- v&#45;&gt;j -->\n",
       "<g id=\"edge5\" class=\"edge\">\n",
       "<title>v&#45;&gt;j:w</title>\n",
       "<path fill=\"none\" stroke=\"black\" d=\"M256.17,-114C265.81,-114 276.54,-114 286.73,-114\"/>\n",
       "<polygon fill=\"black\" stroke=\"black\" points=\"287,-115.75 292,-114 287,-112.25 287,-115.75\"/>\n",
       "</g>\n",
       "</g>\n",
       "</svg>\n"
      ],
      "text/plain": [
       "<graphviz.dot.Digraph at 0x7f8c9971f2b0>"
      ]
     },
     "execution_count": 10,
     "metadata": {},
     "output_type": "execute_result"
    }
   ],
   "source": [
    "# Create Digraph object\n",
    "dot = Digraph(edge_attr={'arrowsize': '0.5', 'headport':'w'})\n",
    "\n",
    "with dot.subgraph() as s:\n",
    "    s.attr(rank='same')\n",
    "    s.node('a', xlabel='5', xlp='1,3')\n",
    "    s.node('b', xlabel='3')\n",
    "    s.node('c', xlabel='2')\n",
    "\n",
    "with dot.subgraph() as s:\n",
    "    s.node('u', label='u=bc', shape='rect', xlabel='6')\n",
    "    s.node('v', label='v=a+u', shape='rect', xlabel='11')\n",
    "    s.node('j', label='J=3v', shape='rect', xlabel='33')\n",
    "\n",
    "# Add edge between 1 and 2\n",
    "dot.edges(['bu', 'av', 'cu', 'uv', 'vj'])\n",
    "dot.attr(rankdir='LR')\n",
    "dot"
   ]
  },
  {
   "cell_type": "markdown",
   "id": "reasonable-innocent",
   "metadata": {},
   "source": [
    "Suppose we want to calculate $\\frac{dJ}{dv}$ ( in other words if we change the value $v$ of a little amount how would the value of $J$ change?). \n",
    "\n",
    "* $J = 3v$\n",
    "* $v = 11 \\to 3.001$\n",
    "* $J = 33 \\to 33.003$\n",
    "\n",
    "So \n",
    "\n",
    "$$\\frac{dJ}{dv}=\\frac{0.003}{0.001}=3$$\n",
    "\n",
    "In the terminology of backpropagation if we want to compute $\\frac{dJ}{dv}$ we take one step back from $J$ to $v$"
   ]
  },
  {
   "cell_type": "code",
   "execution_count": 11,
   "id": "touched-creation",
   "metadata": {
    "tags": [
     "remove_input"
    ]
   },
   "outputs": [
    {
     "data": {
      "image/svg+xml": [
       "<?xml version=\"1.0\" encoding=\"UTF-8\" standalone=\"no\"?>\n",
       "<!DOCTYPE svg PUBLIC \"-//W3C//DTD SVG 1.1//EN\"\n",
       " \"http://www.w3.org/Graphics/SVG/1.1/DTD/svg11.dtd\">\n",
       "<!-- Generated by graphviz version 2.43.0 (0)\n",
       " -->\n",
       "<!-- Title: %3 Pages: 1 -->\n",
       "<svg width=\"354pt\" height=\"167pt\"\n",
       " viewBox=\"0.00 0.00 354.00 167.00\" xmlns=\"http://www.w3.org/2000/svg\" xmlns:xlink=\"http://www.w3.org/1999/xlink\">\n",
       "<g id=\"graph0\" class=\"graph\" transform=\"scale(1 1) rotate(0) translate(4 163)\">\n",
       "<title>%3</title>\n",
       "<polygon fill=\"white\" stroke=\"transparent\" points=\"-4,4 -4,-163 350,-163 350,4 -4,4\"/>\n",
       "<!-- a -->\n",
       "<g id=\"node1\" class=\"node\">\n",
       "<title>a</title>\n",
       "<ellipse fill=\"none\" stroke=\"black\" cx=\"37\" cy=\"-141\" rx=\"27\" ry=\"18\"/>\n",
       "<text text-anchor=\"middle\" x=\"37\" y=\"-137.3\" font-family=\"Times,serif\" font-size=\"14.00\">a</text>\n",
       "<text text-anchor=\"middle\" x=\"5\" y=\"-111.8\" font-family=\"Times,serif\" font-size=\"14.00\">5</text>\n",
       "</g>\n",
       "<!-- v -->\n",
       "<g id=\"node5\" class=\"node\">\n",
       "<title>v</title>\n",
       "<polygon fill=\"none\" stroke=\"black\" points=\"256,-132 190,-132 190,-96 256,-96 256,-132\"/>\n",
       "<text text-anchor=\"middle\" x=\"223\" y=\"-110.3\" font-family=\"Times,serif\" font-size=\"14.00\">v=a+u</text>\n",
       "<text text-anchor=\"middle\" x=\"180.5\" y=\"-84.8\" font-family=\"Times,serif\" font-size=\"14.00\">11</text>\n",
       "</g>\n",
       "<!-- a&#45;&gt;v -->\n",
       "<g id=\"edge2\" class=\"edge\">\n",
       "<title>a&#45;&gt;v:w</title>\n",
       "<path fill=\"none\" stroke=\"black\" d=\"M61.99,-134.05C90.64,-126.34 140.31,-114.89 184.87,-114.05\"/>\n",
       "<polygon fill=\"black\" stroke=\"black\" points=\"185.02,-115.8 190,-114 184.98,-112.3 185.02,-115.8\"/>\n",
       "</g>\n",
       "<!-- b -->\n",
       "<g id=\"node2\" class=\"node\">\n",
       "<title>b</title>\n",
       "<ellipse fill=\"none\" stroke=\"black\" cx=\"37\" cy=\"-87\" rx=\"27\" ry=\"18\"/>\n",
       "<text text-anchor=\"middle\" x=\"37\" y=\"-83.3\" font-family=\"Times,serif\" font-size=\"14.00\">b</text>\n",
       "<text text-anchor=\"middle\" x=\"5\" y=\"-57.8\" font-family=\"Times,serif\" font-size=\"14.00\">3</text>\n",
       "</g>\n",
       "<!-- u -->\n",
       "<g id=\"node4\" class=\"node\">\n",
       "<title>u</title>\n",
       "<polygon fill=\"none\" stroke=\"black\" points=\"154,-105 100,-105 100,-69 154,-69 154,-105\"/>\n",
       "<text text-anchor=\"middle\" x=\"127\" y=\"-83.3\" font-family=\"Times,serif\" font-size=\"14.00\">u=bc</text>\n",
       "<text text-anchor=\"middle\" x=\"95\" y=\"-57.8\" font-family=\"Times,serif\" font-size=\"14.00\">6</text>\n",
       "</g>\n",
       "<!-- b&#45;&gt;u -->\n",
       "<g id=\"edge1\" class=\"edge\">\n",
       "<title>b&#45;&gt;u:w</title>\n",
       "<path fill=\"none\" stroke=\"black\" d=\"M64.25,-87C73.73,-87 84.65,-87 94.99,-87\"/>\n",
       "<polygon fill=\"black\" stroke=\"black\" points=\"95,-88.75 100,-87 95,-85.25 95,-88.75\"/>\n",
       "</g>\n",
       "<!-- c -->\n",
       "<g id=\"node3\" class=\"node\">\n",
       "<title>c</title>\n",
       "<ellipse fill=\"none\" stroke=\"black\" cx=\"37\" cy=\"-33\" rx=\"27\" ry=\"18\"/>\n",
       "<text text-anchor=\"middle\" x=\"37\" y=\"-29.3\" font-family=\"Times,serif\" font-size=\"14.00\">c</text>\n",
       "<text text-anchor=\"middle\" x=\"5\" y=\"-3.8\" font-family=\"Times,serif\" font-size=\"14.00\">2</text>\n",
       "</g>\n",
       "<!-- c&#45;&gt;u -->\n",
       "<g id=\"edge3\" class=\"edge\">\n",
       "<title>c&#45;&gt;u:w</title>\n",
       "<path fill=\"none\" stroke=\"black\" d=\"M52.82,-47.76C66.24,-60.87 85.36,-78.88 95.1,-84.92\"/>\n",
       "<polygon fill=\"black\" stroke=\"black\" points=\"94.71,-86.66 100,-87 96.08,-83.44 94.71,-86.66\"/>\n",
       "</g>\n",
       "<!-- u&#45;&gt;v -->\n",
       "<g id=\"edge4\" class=\"edge\">\n",
       "<title>u&#45;&gt;v:w</title>\n",
       "<path fill=\"none\" stroke=\"black\" d=\"M154.1,-103.95C163.28,-108.61 174.01,-112.68 184.74,-113.74\"/>\n",
       "<polygon fill=\"black\" stroke=\"black\" points=\"184.92,-115.5 190,-114 185.09,-112 184.92,-115.5\"/>\n",
       "</g>\n",
       "<!-- j -->\n",
       "<g id=\"node6\" class=\"node\">\n",
       "<title>j</title>\n",
       "<polygon fill=\"none\" stroke=\"black\" points=\"346,-132 292,-132 292,-96 346,-96 346,-132\"/>\n",
       "<text text-anchor=\"middle\" x=\"319\" y=\"-110.3\" font-family=\"Times,serif\" font-size=\"14.00\">J=3v</text>\n",
       "<text text-anchor=\"middle\" x=\"282.5\" y=\"-84.8\" font-family=\"Times,serif\" font-size=\"14.00\">33</text>\n",
       "</g>\n",
       "<!-- v&#45;&gt;j -->\n",
       "<g id=\"edge5\" class=\"edge\">\n",
       "<title>v&#45;&gt;j:w</title>\n",
       "<path fill=\"none\" stroke=\"black\" d=\"M256.17,-114C265.81,-114 276.54,-114 286.73,-114\"/>\n",
       "<polygon fill=\"black\" stroke=\"black\" points=\"287,-115.75 292,-114 287,-112.25 287,-115.75\"/>\n",
       "</g>\n",
       "<!-- j&#45;&gt;v -->\n",
       "<g id=\"edge6\" class=\"edge\">\n",
       "<title>j:s&#45;&gt;v:s</title>\n",
       "<path fill=\"none\" stroke=\"red\" d=\"M319,-95C319,-54.17 231.07,-52.41 223.52,-89.74\"/>\n",
       "<polygon fill=\"red\" stroke=\"red\" points=\"221.75,-89.85 223,-95 225.23,-90.19 221.75,-89.85\"/>\n",
       "</g>\n",
       "</g>\n",
       "</svg>\n"
      ],
      "text/plain": [
       "<graphviz.dot.Digraph at 0x7f8c9965b1f0>"
      ]
     },
     "execution_count": 11,
     "metadata": {},
     "output_type": "execute_result"
    }
   ],
   "source": [
    "dot2 = cp(dot)\n",
    "dot2.edge('j', 'v', headport='s', tailport='s', color='red')\n",
    "dot2"
   ]
  },
  {
   "cell_type": "markdown",
   "id": "immune-stretch",
   "metadata": {},
   "source": [
    "We now want to calculate $\\frac{dJ}{da}$, in other words the change of value $J$ when $a$ changes\n",
    "\n",
    "* $a = 5 \\to 5.001$\n",
    "* $v = 11 \\to 11.001$\n",
    "* $J = 33 \\to 33.003$\n",
    "\n",
    "So, once again\n",
    "\n",
    "$$\\frac{dJ}{da}=\\frac{0.003}{0.001}=3$$\n",
    "\n",
    "Where the net change is given by \n",
    "\n",
    "$$\n",
    "\\frac{dJ}{da}=\\frac{dJ}{dv}\\frac{dv}{da}\n",
    "$$\n",
    "\n",
    "\n",
    "In calculus this is called the **chain rule** where $a$ affects $v$ that affects $J$ ($a\\to v \\to J$). So that the change of $J$ when $a$ is given by the product $\\frac{dJ}{dv}\\frac{dv}{da}$. This illustrates how having computed $\\frac{dJ}{dv}$ helps in calculating $\\frac{dJ}{da}$"
   ]
  },
  {
   "cell_type": "code",
   "execution_count": 12,
   "id": "nominated-division",
   "metadata": {
    "tags": [
     "remove_input"
    ]
   },
   "outputs": [
    {
     "data": {
      "image/svg+xml": [
       "<?xml version=\"1.0\" encoding=\"UTF-8\" standalone=\"no\"?>\n",
       "<!DOCTYPE svg PUBLIC \"-//W3C//DTD SVG 1.1//EN\"\n",
       " \"http://www.w3.org/Graphics/SVG/1.1/DTD/svg11.dtd\">\n",
       "<!-- Generated by graphviz version 2.43.0 (0)\n",
       " -->\n",
       "<!-- Title: %3 Pages: 1 -->\n",
       "<svg width=\"354pt\" height=\"182pt\"\n",
       " viewBox=\"0.00 0.00 354.00 182.00\" xmlns=\"http://www.w3.org/2000/svg\" xmlns:xlink=\"http://www.w3.org/1999/xlink\">\n",
       "<g id=\"graph0\" class=\"graph\" transform=\"scale(1 1) rotate(0) translate(4 178)\">\n",
       "<title>%3</title>\n",
       "<polygon fill=\"white\" stroke=\"transparent\" points=\"-4,4 -4,-178 350,-178 350,4 -4,4\"/>\n",
       "<!-- a -->\n",
       "<g id=\"node1\" class=\"node\">\n",
       "<title>a</title>\n",
       "<ellipse fill=\"none\" stroke=\"black\" cx=\"37\" cy=\"-156\" rx=\"27\" ry=\"18\"/>\n",
       "<text text-anchor=\"middle\" x=\"37\" y=\"-152.3\" font-family=\"Times,serif\" font-size=\"14.00\">a</text>\n",
       "<text text-anchor=\"middle\" x=\"5\" y=\"-126.8\" font-family=\"Times,serif\" font-size=\"14.00\">5</text>\n",
       "</g>\n",
       "<!-- v -->\n",
       "<g id=\"node5\" class=\"node\">\n",
       "<title>v</title>\n",
       "<polygon fill=\"none\" stroke=\"black\" points=\"256,-161 190,-161 190,-125 256,-125 256,-161\"/>\n",
       "<text text-anchor=\"middle\" x=\"223\" y=\"-139.3\" font-family=\"Times,serif\" font-size=\"14.00\">v=a+u</text>\n",
       "<text text-anchor=\"middle\" x=\"180.5\" y=\"-113.8\" font-family=\"Times,serif\" font-size=\"14.00\">11</text>\n",
       "</g>\n",
       "<!-- a&#45;&gt;v -->\n",
       "<g id=\"edge2\" class=\"edge\">\n",
       "<title>a&#45;&gt;v:w</title>\n",
       "<path fill=\"none\" stroke=\"black\" d=\"M63.49,-152.48C92.46,-148.78 141.36,-143.44 184.74,-143.03\"/>\n",
       "<polygon fill=\"black\" stroke=\"black\" points=\"185.01,-144.77 190,-143 184.99,-141.27 185.01,-144.77\"/>\n",
       "</g>\n",
       "<!-- b -->\n",
       "<g id=\"node2\" class=\"node\">\n",
       "<title>b</title>\n",
       "<ellipse fill=\"none\" stroke=\"black\" cx=\"37\" cy=\"-33\" rx=\"27\" ry=\"18\"/>\n",
       "<text text-anchor=\"middle\" x=\"37\" y=\"-29.3\" font-family=\"Times,serif\" font-size=\"14.00\">b</text>\n",
       "<text text-anchor=\"middle\" x=\"5\" y=\"-3.8\" font-family=\"Times,serif\" font-size=\"14.00\">3</text>\n",
       "</g>\n",
       "<!-- u -->\n",
       "<g id=\"node4\" class=\"node\">\n",
       "<title>u</title>\n",
       "<polygon fill=\"none\" stroke=\"black\" points=\"154,-97 100,-97 100,-61 154,-61 154,-97\"/>\n",
       "<text text-anchor=\"middle\" x=\"127\" y=\"-75.3\" font-family=\"Times,serif\" font-size=\"14.00\">u=bc</text>\n",
       "<text text-anchor=\"middle\" x=\"95\" y=\"-49.8\" font-family=\"Times,serif\" font-size=\"14.00\">6</text>\n",
       "</g>\n",
       "<!-- b&#45;&gt;u -->\n",
       "<g id=\"edge1\" class=\"edge\">\n",
       "<title>b&#45;&gt;u:w</title>\n",
       "<path fill=\"none\" stroke=\"black\" d=\"M53.09,-47.55C65.68,-59.14 83.36,-74.04 94.88,-78\"/>\n",
       "<polygon fill=\"black\" stroke=\"black\" points=\"94.76,-79.75 100,-79 95.43,-76.32 94.76,-79.75\"/>\n",
       "</g>\n",
       "<!-- c -->\n",
       "<g id=\"node3\" class=\"node\">\n",
       "<title>c</title>\n",
       "<ellipse fill=\"none\" stroke=\"black\" cx=\"37\" cy=\"-87\" rx=\"27\" ry=\"18\"/>\n",
       "<text text-anchor=\"middle\" x=\"37\" y=\"-83.3\" font-family=\"Times,serif\" font-size=\"14.00\">c</text>\n",
       "<text text-anchor=\"middle\" x=\"5\" y=\"-57.8\" font-family=\"Times,serif\" font-size=\"14.00\">2</text>\n",
       "</g>\n",
       "<!-- c&#45;&gt;u -->\n",
       "<g id=\"edge3\" class=\"edge\">\n",
       "<title>c&#45;&gt;u:w</title>\n",
       "<path fill=\"none\" stroke=\"black\" d=\"M63.24,-82.25C72.88,-80.77 84.12,-79.43 94.81,-79.09\"/>\n",
       "<polygon fill=\"black\" stroke=\"black\" points=\"95.03,-80.83 100,-79 94.97,-77.33 95.03,-80.83\"/>\n",
       "</g>\n",
       "<!-- u&#45;&gt;v -->\n",
       "<g id=\"edge4\" class=\"edge\">\n",
       "<title>u&#45;&gt;v:w</title>\n",
       "<path fill=\"none\" stroke=\"black\" d=\"M143.22,-97.17C156.63,-112.84 175.51,-133.99 185.25,-140.79\"/>\n",
       "<polygon fill=\"black\" stroke=\"black\" points=\"184.73,-142.48 190,-143 186.2,-139.31 184.73,-142.48\"/>\n",
       "</g>\n",
       "<!-- v&#45;&gt;a -->\n",
       "<g id=\"edge7\" class=\"edge\">\n",
       "<title>v:s&#45;&gt;a:s</title>\n",
       "<path fill=\"none\" stroke=\"red\" d=\"M223,-124C223,-104.82 63.58,-114.54 39.92,-132.53\"/>\n",
       "<polygon fill=\"red\" stroke=\"red\" points=\"38.27,-131.86 37,-137 41.2,-133.77 38.27,-131.86\"/>\n",
       "</g>\n",
       "<!-- j -->\n",
       "<g id=\"node6\" class=\"node\">\n",
       "<title>j</title>\n",
       "<polygon fill=\"none\" stroke=\"black\" points=\"346,-161 292,-161 292,-125 346,-125 346,-161\"/>\n",
       "<text text-anchor=\"middle\" x=\"319\" y=\"-139.3\" font-family=\"Times,serif\" font-size=\"14.00\">J=3v</text>\n",
       "<text text-anchor=\"middle\" x=\"282.5\" y=\"-113.8\" font-family=\"Times,serif\" font-size=\"14.00\">33</text>\n",
       "</g>\n",
       "<!-- v&#45;&gt;j -->\n",
       "<g id=\"edge5\" class=\"edge\">\n",
       "<title>v&#45;&gt;j:w</title>\n",
       "<path fill=\"none\" stroke=\"black\" d=\"M256.17,-143C265.81,-143 276.54,-143 286.73,-143\"/>\n",
       "<polygon fill=\"black\" stroke=\"black\" points=\"287,-144.75 292,-143 287,-141.25 287,-144.75\"/>\n",
       "</g>\n",
       "<!-- j&#45;&gt;v -->\n",
       "<g id=\"edge6\" class=\"edge\">\n",
       "<title>j:s&#45;&gt;v:s</title>\n",
       "<path fill=\"none\" stroke=\"red\" d=\"M319,-124C319,-83.17 231.07,-81.41 223.52,-118.74\"/>\n",
       "<polygon fill=\"red\" stroke=\"red\" points=\"221.75,-118.85 223,-124 225.23,-119.19 221.75,-118.85\"/>\n",
       "</g>\n",
       "</g>\n",
       "</svg>\n"
      ],
      "text/plain": [
       "<graphviz.dot.Digraph at 0x7f8c9965b040>"
      ]
     },
     "execution_count": 12,
     "metadata": {},
     "output_type": "execute_result"
    }
   ],
   "source": [
    "dot3 = cp(dot2)\n",
    "dot3.edge('v', 'a', headport='s', tailport='s', color='red')\n",
    "dot3"
   ]
  },
  {
   "cell_type": "code",
   "execution_count": null,
   "id": "living-subcommittee",
   "metadata": {},
   "outputs": [],
   "source": []
  }
 ],
 "metadata": {
  "kernelspec": {
   "display_name": "Python 3",
   "language": "python",
   "name": "python3"
  },
  "language_info": {
   "codemirror_mode": {
    "name": "ipython",
    "version": 3
   },
   "file_extension": ".py",
   "mimetype": "text/x-python",
   "name": "python",
   "nbconvert_exporter": "python",
   "pygments_lexer": "ipython3",
   "version": "3.8.5"
  }
 },
 "nbformat": 4,
 "nbformat_minor": 5
}
