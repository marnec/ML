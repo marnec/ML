{
 "cells": [
  {
   "cell_type": "markdown",
   "id": "prerequisite-plenty",
   "metadata": {},
   "source": [
    "---\n",
    "layout: default\n",
    "title: \"Deep Learning - Softmax classifier\"\n",
    "categories: deeplearning\n",
    "permalink: /ML32/\n",
    "order: 32\n",
    "comments: true\n",
    "---"
   ]
  },
  {
   "cell_type": "code",
   "execution_count": 1,
   "id": "liberal-challenge",
   "metadata": {
    "tags": [
     "remove_cell"
    ]
   },
   "outputs": [
    {
     "name": "stdout",
     "output_type": "stream",
     "text": [
      "Populating the interactive namespace from numpy and matplotlib\n"
     ]
    },
    {
     "name": "stderr",
     "output_type": "stream",
     "text": [
      "/home/marnec/.local/lib/python3.9/site-packages/pandas/compat/__init__.py:97: UserWarning: Could not import the lzma module. Your installed Python is incomplete. Attempting to use lzma compression will result in a RuntimeError.\n",
      "  warnings.warn(msg)\n"
     ]
    }
   ],
   "source": [
    "%pylab --no-import-all inline\n",
    "from plot_ann import ann\n",
    "plt.rcParams[\"mathtext.fontset\"] = \"cm\"\n",
    "import pandas as pd"
   ]
  },
  {
   "cell_type": "markdown",
   "id": "turned-millennium",
   "metadata": {},
   "source": [
    "# ML strategy\n",
    "This article aims at identify diagnose performance bottleneck and to find appropriate ways to build or improve a ML algorithm.\n",
    "\n",
    "## Orthogonalization\n",
    "In training a ML algorithm, it is important to know what to tune in order to achieve a certain effect. A status in which each hyper-parameters tune exactly one aspect of the model is a status of perfect **orthogonalization** and is a status that we would like to achieve.\n",
    "\n",
    "In machine learning, the effects that you want to orthogonalize are:\n",
    "\n",
    "1. Fit training set well on cost function (for some applications this means approaching human-level performance): e.g. tune by getting a bigger network\n",
    "2. Fit dev set well on cost function: e.g. tune by getting a bigger training set\n",
    "3. Fit test set well on cost function: e.g. tune by getting a bigger dev set\n",
    "4. Performs well in real world: e.g. tune by changing cost function\n",
    "\n",
    "An action that doesn't fit well with orthogonalization is early stopping (<a href=\"page:ML27\">ML-27</a>), since it tries to simultaneously tunes train set and dev set performance."
   ]
  },
  {
   "cell_type": "markdown",
   "id": "three-cookie",
   "metadata": {},
   "source": [
    "## Satisficing and Optimizing metrics\n",
    "We have talked in <a href=\"page:ML17\">ML-17</a> about the importance of having a single real-number evaluation metric. However, it is not always easy to combine all the desired properties of a model in a single metric. In those cases it is useful to set satisficing and optimizing metrics.\n",
    "\n",
    "Let's say that for an image classifier we care about the classification accuracy and about the running time. Suppose we have three classifiers as in the <a href=\"#satopt\">the table below</a>"
   ]
  },
  {
   "cell_type": "code",
   "execution_count": 10,
   "id": "subsequent-meter",
   "metadata": {
    "tags": [
     "remove_input"
    ]
   },
   "outputs": [
    {
     "data": {
      "text/html": [
       "<style  type=\"text/css\" >\n",
       "</style><table id=\"T_da798_\" id=\"satopt\"><caption>Three classifiers and their accuracies and running times</caption><thead>    <tr>        <th class=\"blank level0\" ></th>        <th class=\"col_heading level0 col0\" >Accuracy</th>        <th class=\"col_heading level0 col1\" >Running time</th>    </tr></thead><tbody>\n",
       "                <tr>\n",
       "                        <th id=\"T_da798_level0_row0\" class=\"row_heading level0 row0\" >A</th>\n",
       "                        <td id=\"T_da798_row0_col0\" class=\"data row0 col0\" >90%</td>\n",
       "                        <td id=\"T_da798_row0_col1\" class=\"data row0 col1\" >80ms</td>\n",
       "            </tr>\n",
       "            <tr>\n",
       "                        <th id=\"T_da798_level0_row1\" class=\"row_heading level0 row1\" >B</th>\n",
       "                        <td id=\"T_da798_row1_col0\" class=\"data row1 col0\" >92%</td>\n",
       "                        <td id=\"T_da798_row1_col1\" class=\"data row1 col1\" >95ms</td>\n",
       "            </tr>\n",
       "            <tr>\n",
       "                        <th id=\"T_da798_level0_row2\" class=\"row_heading level0 row2\" >C</th>\n",
       "                        <td id=\"T_da798_row2_col0\" class=\"data row2 col0\" >95%</td>\n",
       "                        <td id=\"T_da798_row2_col1\" class=\"data row2 col1\" >1500ms</td>\n",
       "            </tr>\n",
       "    </tbody></table>"
      ],
      "text/plain": [
       "<pandas.io.formats.style.Styler at 0x7f978f89ea90>"
      ]
     },
     "execution_count": 10,
     "metadata": {},
     "output_type": "execute_result"
    }
   ],
   "source": [
    "pd.DataFrame([['90%', '80ms'], ['92%', '95ms'], ['95%', '1500ms']], columns=['Accuracy', 'Running time'], index=list('ABC'))\\\n",
    ".style.set_caption('Three classifiers and their accuracies and running times').set_table_attributes('id=\"satopt\"')"
   ]
  },
  {
   "cell_type": "markdown",
   "id": "experimental-particle",
   "metadata": {},
   "source": [
    "We may set some rules that we want models to be subject to:\n",
    "\n",
    "* maximize accuracy\n",
    "* running time $\\leq 100 \\mathrm{ms}$\n",
    "\n",
    "In this case accuracy is an optimizing metric because we want to get as good as possible on this metric, while running-time is a satisficing metric because we want to have at least a certain running-time. In general, if we decide that we care about $N$ metrics, we should have 1 optimizing metric and $N-1$ satisficing metrics."
   ]
  },
  {
   "cell_type": "markdown",
   "id": "prerequisite-elder",
   "metadata": {},
   "source": [
    "##  Human level performance\n",
    "Deep-learning applications are often compared with human-level performance. First, because ML is become so advanced that can perform as well or better than human-level performance. Second, because it turns out that the model workflow is much more efficient when the algorithm is trying to do something that also humans can do. In those settings, it becomes natural to compare with human-level performance\n",
    "\n",
    "Typically, when designing a ML model, performance will rapidly increase at first, approach and surpass human level performance and then asymptotically approach an ideal performance, called **Bayes optimal error**, which is the best theoretical function mapping $x \\to y$, that can never be surpassed."
   ]
  },
  {
   "cell_type": "code",
   "execution_count": 29,
   "id": "physical-communist",
   "metadata": {},
   "outputs": [
    {
     "data": {
      "image/png": "[encoded data removed]",
      "text/plain": [
       "<Figure size 720x288 with 1 Axes>"
      ]
     },
     "metadata": {},
     "output_type": "display_data"
    }
   ],
   "source": [
    "fig, ax = plt.subplots(figsize=(10, 4))\n",
    "\n",
    "x = np.linspace(0, 10)\n",
    "y = 1/(1+np.e**-x)\n",
    "\n",
    "ax.plot(x, y, label='model performance')\n",
    "ax.axhline(1.01, ls='--', c='C2', label='human level performance')\n",
    "ax.axhline(0.9, ls='--', c='C1', label='Bayes optimal error')\n",
    "ax.legend()\n",
    "ax.set_xticks([])\n",
    "ax.set_xlabel('time')\n",
    "ax.set_yticks([])\n",
    "ax.set_xlim(0, 10)\n",
    "ax.set_ylim(0.5, 1.05)\n",
    "ax.set_ylabel('accuracy');"
   ]
  },
  {
   "cell_type": "markdown",
   "id": "following-redhead",
   "metadata": {},
   "source": [
    "<i id=\"fig:pertrend\">Typical trend of performance of a trained model with human level performance and Bayes optimal performance.</i>\n",
    "\n",
    "Interestingly, usually performance increase, really slows down after surpassing human-level performance. This happens for (at least) two reasons:\n",
    "\n",
    "* Human level performance is, for many tasks, very close to Bayes optimal error\n",
    "* So long as ML is worse than humans there are certain things that we can do to improve performance:\n",
    "    * get labeled data from humans\n",
    "    * gain insight from manual error analysis (why did a person get this right?)\n",
    "    * better analysis of bias/variance (<a href=\"page:ML25\">ML25</a>)"
   ]
  }
 ],
 "metadata": {
  "kernelspec": {
   "display_name": "Python 3",
   "language": "python",
   "name": "python3"
  },
  "language_info": {
   "codemirror_mode": {
    "name": "ipython",
    "version": 3
   },
   "file_extension": ".py",
   "mimetype": "text/x-python",
   "name": "python",
   "nbconvert_exporter": "python",
   "pygments_lexer": "ipython3",
   "version": "3.9.1"
  }
 },
 "nbformat": 4,
 "nbformat_minor": 5
}
