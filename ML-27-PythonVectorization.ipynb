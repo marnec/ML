{
 "cells": [
  {
   "cell_type": "markdown",
   "id": "approximate-immune",
   "metadata": {},
   "source": [
    "---\n",
    "layout: default\n",
    "title: \"Python vectorization\"\n",
    "categories: deeplearning\n",
    "permalink: /ML27/\n",
    "order: 27\n",
    "comments: true\n",
    "---"
   ]
  },
  {
   "cell_type": "code",
   "execution_count": 1,
   "id": "solid-setting",
   "metadata": {
    "tags": [
     "remove_cell"
    ]
   },
   "outputs": [
    {
     "name": "stdout",
     "output_type": "stream",
     "text": [
      "Populating the interactive namespace from numpy and matplotlib\n"
     ]
    },
    {
     "name": "stderr",
     "output_type": "stream",
     "text": [
      "/home/marnec/.local/lib/python3.9/site-packages/pandas/compat/__init__.py:97: UserWarning: Could not import the lzma module. Your installed Python is incomplete. Attempting to use lzma compression will result in a RuntimeError.\n",
      "  warnings.warn(msg)\n"
     ]
    }
   ],
   "source": [
    "%pylab --no-import-all inline\n",
    "import pandas as pd\n",
    "plt.rcParams[\"mathtext.fontset\"] = \"cm\""
   ]
  },
  {
   "cell_type": "markdown",
   "id": "residential-judge",
   "metadata": {},
   "source": [
    "# Python vectorization\n",
    "In the pre-deep-learning era vectorization was optional, in the deep-learning era vectorization absolutely necessary since both the size of networks and of data is vastly increased.\n",
    "\n",
    "## Vector-vector product\n",
    "In particular, in deep learning (and in machine learning in general) we need to calculate \n",
    "\n",
    "$$\n",
    "z = w^Tx+b\n",
    "$$\n",
    "\n",
    "for \n",
    "\n",
    "$$\n",
    "w =\n",
    "\\begin{bmatrix}\n",
    "\\vdots \\\\ \\vdots\n",
    "\\end{bmatrix} \\in \\mathbb{R}^{n_x}\n",
    "\\qquad \n",
    "x = \\begin{bmatrix}\n",
    "\\vdots \\\\ \\vdots\n",
    "\\end{bmatrix} \\in \\mathbb{R}^{n_x}\n",
    "$$\n",
    "\n",
    "The vectorized form of this operation in python is "
   ]
  },
  {
   "cell_type": "code",
   "execution_count": 2,
   "id": "thirty-endorsement",
   "metadata": {
    "tags": [
     "remove_input"
    ]
   },
   "outputs": [],
   "source": [
    "w, x, b = np.random.rand(3, 10)"
   ]
  },
  {
   "cell_type": "code",
   "execution_count": 3,
   "id": "angry-study",
   "metadata": {
    "tags": [
     "remove_output"
    ]
   },
   "outputs": [
    {
     "data": {
      "text/plain": [
       "array([2.94551122, 3.67388637, 3.62153802, 2.95427753, 3.40170278,\n",
       "       2.89747577, 3.37748581, 3.55059818, 2.90561121, 3.68952505])"
      ]
     },
     "execution_count": 3,
     "metadata": {},
     "output_type": "execute_result"
    }
   ],
   "source": [
    "np.dot(w, x) + b"
   ]
  },
  {
   "cell_type": "markdown",
   "id": "fluid-windows",
   "metadata": {},
   "source": [
    "where `np.dot(w, x)` $\\equiv w^Tx$"
   ]
  },
  {
   "cell_type": "markdown",
   "id": "radio-corruption",
   "metadata": {},
   "source": [
    "## Matrix-vector product\n",
    "Incidentally, the matrix-vector product $Av$, where \n",
    "\n",
    "$$\n",
    "A = \\begin{bmatrix}\n",
    "\\ddots &  \\\\\n",
    "&   \\\\\n",
    "&  \\ddots \\\\\n",
    "\\end{bmatrix} \\in \\mathbb{R}^{m \\times n} \\qquad \n",
    "v=\\begin{bmatrix}\n",
    "\\vdots \\\\ \\vdots\n",
    "\\end{bmatrix} \\in \\mathbb{R}^n\n",
    "$$"
   ]
  },
  {
   "cell_type": "code",
   "execution_count": 4,
   "id": "funded-welding",
   "metadata": {
    "tags": [
     "remove_input"
    ]
   },
   "outputs": [],
   "source": [
    "v = np.random.rand(10)\n",
    "A = np.random.rand(3, 10)"
   ]
  },
  {
   "cell_type": "code",
   "execution_count": 5,
   "id": "baking-desktop",
   "metadata": {
    "tags": [
     "remove_output"
    ]
   },
   "outputs": [
    {
     "data": {
      "text/plain": [
       "array([2.53630323, 2.18786889, 1.99920726])"
      ]
     },
     "execution_count": 5,
     "metadata": {},
     "output_type": "execute_result"
    }
   ],
   "source": [
    "np.dot(A, v)"
   ]
  },
  {
   "cell_type": "markdown",
   "id": "breeding-colleague",
   "metadata": {},
   "source": [
    "Notice that the exact same syntax performs both vecto-vector and matrix-vector multiplication, this is due to the overload implemented in the `np.dot` function. To know more about it, check out [its documentation](https://numpy.org/doc/stable/reference/generated/numpy.dot.html)\n",
    "\n",
    "## Vectorized element-wise operations\n",
    "To apply a function element by element to whole arrays you can simply use`np.ufuncs` ([numpy universal functions](https://numpy.org/doc/stable/reference/generated/numpy.ufunc.html#numpy.ufunc))"
   ]
  },
  {
   "cell_type": "code",
   "execution_count": 6,
   "id": "black-college",
   "metadata": {
    "tags": [
     "remove_input"
    ]
   },
   "outputs": [],
   "source": [
    "v = np.random.rand(10).round(2)"
   ]
  },
  {
   "cell_type": "code",
   "execution_count": 7,
   "id": "minor-voltage",
   "metadata": {},
   "outputs": [
    {
     "data": {
      "text/plain": [
       "array([0.01, 0.38, 0.11, 0.32, 0.73, 0.64, 0.43, 0.89, 0.6 , 0.23])"
      ]
     },
     "execution_count": 7,
     "metadata": {},
     "output_type": "execute_result"
    }
   ],
   "source": [
    "v"
   ]
  },
  {
   "cell_type": "code",
   "execution_count": 8,
   "id": "external-terminal",
   "metadata": {},
   "outputs": [
    {
     "data": {
      "text/plain": [
       "array([1.01, 1.46, 1.12, 1.38, 2.08, 1.9 , 1.54, 2.44, 1.82, 1.26])"
      ]
     },
     "execution_count": 8,
     "metadata": {},
     "output_type": "execute_result"
    }
   ],
   "source": [
    "np.exp(v).round(2)"
   ]
  },
  {
   "cell_type": "code",
   "execution_count": 9,
   "id": "employed-september",
   "metadata": {},
   "outputs": [
    {
     "data": {
      "text/plain": [
       "array([-4.61, -0.97, -2.21, -1.14, -0.31, -0.45, -0.84, -0.12, -0.51,\n",
       "       -1.47])"
      ]
     },
     "execution_count": 9,
     "metadata": {},
     "output_type": "execute_result"
    }
   ],
   "source": [
    "np.log(v).round(2)"
   ]
  },
  {
   "cell_type": "code",
   "execution_count": 10,
   "id": "prime-marriage",
   "metadata": {},
   "outputs": [
    {
     "data": {
      "text/plain": [
       "array([1.01, 1.38, 1.11, 1.32, 1.73, 1.64, 1.43, 1.89, 1.6 , 1.23])"
      ]
     },
     "execution_count": 10,
     "metadata": {},
     "output_type": "execute_result"
    }
   ],
   "source": [
    "v + 1"
   ]
  },
  {
   "cell_type": "code",
   "execution_count": 11,
   "id": "vanilla-throat",
   "metadata": {},
   "outputs": [
    {
     "data": {
      "text/plain": [
       "array([0.02, 0.76, 0.22, 0.64, 1.46, 1.28, 0.86, 1.78, 1.2 , 0.46])"
      ]
     },
     "execution_count": 11,
     "metadata": {},
     "output_type": "execute_result"
    }
   ],
   "source": [
    "v * 2"
   ]
  },
  {
   "cell_type": "markdown",
   "id": "incredible-shell",
   "metadata": {},
   "source": [
    "## Broadcasting\n",
    "To a complete guide to broadcasting check out [numpy great documentation](https://numpy.org/doc/stable/user/basics.broadcasting.html#:~:text=The%20term%20broadcasting%20describes%20how,that%20they%20have%20compatible%20shapes.&text=NumPy%20operations%20are%20usually%20done,element%2Dby%2Delement%20basis.)"
   ]
  },
  {
   "cell_type": "code",
   "execution_count": 12,
   "id": "imposed-washer",
   "metadata": {},
   "outputs": [
    {
     "data": {
      "text/html": [
       "<div>\n",
       "<style scoped>\n",
       "    .dataframe tbody tr th:only-of-type {\n",
       "        vertical-align: middle;\n",
       "    }\n",
       "\n",
       "    .dataframe tbody tr th {\n",
       "        vertical-align: top;\n",
       "    }\n",
       "\n",
       "    .dataframe thead th {\n",
       "        text-align: right;\n",
       "    }\n",
       "</style>\n",
       "<table border=\"1\" class=\"dataframe\">\n",
       "  <thead>\n",
       "    <tr style=\"text-align: right;\">\n",
       "      <th></th>\n",
       "      <th>Apples</th>\n",
       "      <th>Beef</th>\n",
       "      <th>Eggs</th>\n",
       "      <th>Potatoes</th>\n",
       "    </tr>\n",
       "  </thead>\n",
       "  <tbody>\n",
       "    <tr>\n",
       "      <th>Carb</th>\n",
       "      <td>56.0</td>\n",
       "      <td>0</td>\n",
       "      <td>4.4</td>\n",
       "      <td>6.8</td>\n",
       "    </tr>\n",
       "    <tr>\n",
       "      <th>Protein</th>\n",
       "      <td>1.2</td>\n",
       "      <td>104</td>\n",
       "      <td>52.0</td>\n",
       "      <td>8.0</td>\n",
       "    </tr>\n",
       "    <tr>\n",
       "      <th>Fat</th>\n",
       "      <td>1.8</td>\n",
       "      <td>135</td>\n",
       "      <td>99.0</td>\n",
       "      <td>0.9</td>\n",
       "    </tr>\n",
       "  </tbody>\n",
       "</table>\n",
       "</div>"
      ],
      "text/plain": [
       "         Apples  Beef  Eggs  Potatoes\n",
       "Carb       56.0     0   4.4       6.8\n",
       "Protein     1.2   104  52.0       8.0\n",
       "Fat         1.8   135  99.0       0.9"
      ]
     },
     "execution_count": 12,
     "metadata": {},
     "output_type": "execute_result"
    }
   ],
   "source": [
    "A = pd.DataFrame([[56, 0, 4.4, 6.8], [1.2, 104, 52, 8], [1.8, 135, 99, 0.9]], \n",
    "                        columns=['Apples', 'Beef', 'Eggs', 'Potatoes'], index=['Carb', 'Protein', 'Fat'])\n",
    "A"
   ]
  },
  {
   "cell_type": "code",
   "execution_count": 13,
   "id": "forward-scale",
   "metadata": {},
   "outputs": [
    {
     "data": {
      "text/plain": [
       "array([[ 56. ,   0. ,   4.4,   6.8],\n",
       "       [  1.2, 104. ,  52. ,   8. ],\n",
       "       [  1.8, 135. ,  99. ,   0.9]])"
      ]
     },
     "execution_count": 13,
     "metadata": {},
     "output_type": "execute_result"
    }
   ],
   "source": [
    "A = A.values\n",
    "A"
   ]
  },
  {
   "cell_type": "code",
   "execution_count": 14,
   "id": "liquid-accordance",
   "metadata": {},
   "outputs": [
    {
     "data": {
      "text/plain": [
       "array([ 59. , 239. , 155.4,  15.7])"
      ]
     },
     "execution_count": 14,
     "metadata": {},
     "output_type": "execute_result"
    }
   ],
   "source": [
    "cal = A.sum(axis=0)\n",
    "cal"
   ]
  },
  {
   "cell_type": "code",
   "execution_count": 15,
   "id": "provincial-familiar",
   "metadata": {},
   "outputs": [
    {
     "data": {
      "text/plain": [
       "array([[94.91525424,  0.        ,  2.83140283, 43.31210191],\n",
       "       [ 2.03389831, 43.51464435, 33.46203346, 50.95541401],\n",
       "       [ 3.05084746, 56.48535565, 63.70656371,  5.73248408]])"
      ]
     },
     "execution_count": 15,
     "metadata": {},
     "output_type": "execute_result"
    }
   ],
   "source": [
    "(A / cal.reshape(1, 4) * 100)"
   ]
  },
  {
   "cell_type": "code",
   "execution_count": 16,
   "id": "express-musical",
   "metadata": {},
   "outputs": [
    {
     "data": {
      "text/plain": [
       "array([[94.91525424,  0.        ,  2.83140283, 43.31210191],\n",
       "       [ 2.03389831, 43.51464435, 33.46203346, 50.95541401],\n",
       "       [ 3.05084746, 56.48535565, 63.70656371,  5.73248408]])"
      ]
     },
     "execution_count": 16,
     "metadata": {},
     "output_type": "execute_result"
    }
   ],
   "source": [
    "A / cal * 100"
   ]
  },
  {
   "cell_type": "markdown",
   "id": "combined-cache",
   "metadata": {},
   "source": [
    "In general if you have a $m, n$ matrix (A) \n",
    "\n",
    "* if you apply an operation with an $1, n$ matrix (B), then B will be copied $m$ times and the operations applied element-wise\n",
    "* if you apply an operation with an $m, 1$ matrix (C), then C will be copied $n$ times and the operations applied element-wise"
   ]
  },
  {
   "cell_type": "markdown",
   "id": "structural-world",
   "metadata": {},
   "source": [
    "## numpy Vectors\n",
    "`numpy` offers great flexibility at the cost of rigorousness, sometimes wrong-looking expression give unexpectedly correct results and vice versa.\n",
    "Heres a series of considerations and suggestions for dealing with `numpy`.\n",
    "\n",
    "For example let's take a random vector of 5 elements"
   ]
  },
  {
   "cell_type": "code",
   "execution_count": 19,
   "id": "streaming-greenhouse",
   "metadata": {},
   "outputs": [
    {
     "data": {
      "text/plain": [
       "array([0.09985692, 0.55150143, 0.05648411, 0.56128704, 0.83764142])"
      ]
     },
     "execution_count": 19,
     "metadata": {},
     "output_type": "execute_result"
    }
   ],
   "source": [
    "a = np.random.rand(5)\n",
    "a"
   ]
  },
  {
   "cell_type": "markdown",
   "id": "opening-linux",
   "metadata": {},
   "source": [
    "Whose shape is"
   ]
  },
  {
   "cell_type": "code",
   "execution_count": 21,
   "id": "alien-fruit",
   "metadata": {},
   "outputs": [
    {
     "data": {
      "text/plain": [
       "(5,)"
      ]
     },
     "execution_count": 21,
     "metadata": {},
     "output_type": "execute_result"
    }
   ],
   "source": [
    "a.shape"
   ]
  },
  {
   "cell_type": "markdown",
   "id": "agricultural-south",
   "metadata": {},
   "source": [
    "This is called a rank 1 vector in python and it's neither a row vector nor a column vector and its behavior is sometimes unexpected. \n",
    "\n",
    "For example, its transpose is equal to itself "
   ]
  },
  {
   "cell_type": "code",
   "execution_count": 22,
   "id": "cross-swimming",
   "metadata": {},
   "outputs": [
    {
     "data": {
      "text/plain": [
       "array([0.09985692, 0.55150143, 0.05648411, 0.56128704, 0.83764142])"
      ]
     },
     "execution_count": 22,
     "metadata": {},
     "output_type": "execute_result"
    }
   ],
   "source": [
    "a.T"
   ]
  },
  {
   "cell_type": "markdown",
   "id": "current-sitting",
   "metadata": {},
   "source": [
    "and the inner product of `a` and `a.T` is not a matrix instead is a scalar"
   ]
  },
  {
   "cell_type": "code",
   "execution_count": 23,
   "id": "refined-montgomery",
   "metadata": {},
   "outputs": [
    {
     "data": {
      "text/plain": [
       "1.3340019714208795"
      ]
     },
     "execution_count": 23,
     "metadata": {},
     "output_type": "execute_result"
    }
   ],
   "source": [
    "np.dot(a, a.T)"
   ]
  },
  {
   "cell_type": "markdown",
   "id": "unexpected-aquarium",
   "metadata": {},
   "source": [
    "So, instead of using rank 1 vectors you may want to use rank 2 vectors, which have a much more predictable behavior."
   ]
  },
  {
   "cell_type": "code",
   "execution_count": 26,
   "id": "lyric-greeting",
   "metadata": {},
   "outputs": [
    {
     "data": {
      "text/plain": [
       "array([[0.2285247 ],\n",
       "       [0.38376194],\n",
       "       [0.94287005],\n",
       "       [0.40764731],\n",
       "       [0.55051624]])"
      ]
     },
     "execution_count": 26,
     "metadata": {},
     "output_type": "execute_result"
    }
   ],
   "source": [
    "a = np.random.rand(5, 1)\n",
    "a"
   ]
  },
  {
   "cell_type": "code",
   "execution_count": 27,
   "id": "blocked-least",
   "metadata": {},
   "outputs": [
    {
     "data": {
      "text/plain": [
       "array([[0.2285247 , 0.38376194, 0.94287005, 0.40764731, 0.55051624]])"
      ]
     },
     "execution_count": 27,
     "metadata": {},
     "output_type": "execute_result"
    }
   ],
   "source": [
    "a.T"
   ]
  },
  {
   "cell_type": "code",
   "execution_count": 29,
   "id": "superb-allocation",
   "metadata": {},
   "outputs": [
    {
     "data": {
      "text/plain": [
       "array([[0.05222354, 0.08769908, 0.21546909, 0.09315748, 0.12580656],\n",
       "       [0.08769908, 0.14727323, 0.36183764, 0.15643952, 0.21126718],\n",
       "       [0.21546909, 0.36183764, 0.88900393, 0.38435844, 0.51906527],\n",
       "       [0.09315748, 0.15643952, 0.38435844, 0.16617633, 0.22441646],\n",
       "       [0.12580656, 0.21126718, 0.51906527, 0.22441646, 0.30306813]])"
      ]
     },
     "execution_count": 29,
     "metadata": {},
     "output_type": "execute_result"
    }
   ],
   "source": [
    "np.dot(a, a.T)"
   ]
  },
  {
   "cell_type": "markdown",
   "id": "assured-electric",
   "metadata": {},
   "source": [
    "rank 1 arrays can always be reshaped in row or columns vectors (or higher dimensional matrices)"
   ]
  },
  {
   "cell_type": "code",
   "execution_count": 31,
   "id": "amino-traffic",
   "metadata": {},
   "outputs": [
    {
     "data": {
      "text/plain": [
       "array([0.67024056, 0.40038358, 0.24884655, 0.91545872, 0.42160758])"
      ]
     },
     "execution_count": 31,
     "metadata": {},
     "output_type": "execute_result"
    }
   ],
   "source": [
    "a = np.random.rand(5)\n",
    "a"
   ]
  },
  {
   "cell_type": "code",
   "execution_count": 32,
   "id": "basic-pilot",
   "metadata": {},
   "outputs": [
    {
     "data": {
      "text/plain": [
       "array([[0.67024056],\n",
       "       [0.40038358],\n",
       "       [0.24884655],\n",
       "       [0.91545872],\n",
       "       [0.42160758]])"
      ]
     },
     "execution_count": 32,
     "metadata": {},
     "output_type": "execute_result"
    }
   ],
   "source": [
    "a.reshape(5, 1)"
   ]
  },
  {
   "cell_type": "code",
   "execution_count": 33,
   "id": "established-christopher",
   "metadata": {},
   "outputs": [
    {
     "data": {
      "text/plain": [
       "array([[0.67024056, 0.40038358, 0.24884655, 0.91545872, 0.42160758]])"
      ]
     },
     "execution_count": 33,
     "metadata": {},
     "output_type": "execute_result"
    }
   ],
   "source": [
    "a.reshape(1, 5)"
   ]
  }
 ],
 "metadata": {
  "kernelspec": {
   "display_name": "Python 3",
   "language": "python",
   "name": "python3"
  },
  "language_info": {
   "codemirror_mode": {
    "name": "ipython",
    "version": 3
   },
   "file_extension": ".py",
   "mimetype": "text/x-python",
   "name": "python",
   "nbconvert_exporter": "python",
   "pygments_lexer": "ipython3",
   "version": "3.9.1"
  }
 },
 "nbformat": 4,
 "nbformat_minor": 5
}
