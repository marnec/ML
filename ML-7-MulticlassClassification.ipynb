{
 "cells": [
  {
   "cell_type": "markdown",
   "metadata": {},
   "source": [
    "---\n",
    "layout: default\n",
    "title: \"Logistic Regression - Multiclass Classification\"\n",
    "categories: logisticRegression\n",
    "permalink: /ML7/\n",
    "order: 7\n",
    "comments: true\n",
    "---"
   ]
  },
  {
   "cell_type": "code",
   "execution_count": 1,
   "metadata": {
    "tags": [
     "remove_cell"
    ]
   },
   "outputs": [
    {
     "name": "stdout",
     "output_type": "stream",
     "text": [
      "Populating the interactive namespace from numpy and matplotlib\n"
     ]
    }
   ],
   "source": [
    "%pylab --no-import-all inline"
   ]
  },
  {
   "cell_type": "markdown",
   "metadata": {},
   "source": [
    "# Multiclass Classification\n",
    "Sometimes we don't want $y$ to be limited to the $\\{0,1\\}$ values but instead we could have 3 or more possible classes $y=\\{1,2,3\\}$ (Notice how we dropped the $0$ class that is linked to absence)"
   ]
  },
  {
   "cell_type": "code",
   "execution_count": 2,
   "metadata": {
    "tags": [
     "remove_input"
    ]
   },
   "outputs": [
    {
     "data": {
      "image/png": "[encoded data removed]",
      "text/plain": [
       "<Figure size 432x288 with 1 Axes>"
      ]
     },
     "metadata": {},
     "output_type": "display_data"
    }
   ],
   "source": [
    "a = np.array([.1, 2]) + np.random.rand(3,2)\n",
    "b = np.array([1, .5]) + np.random.rand(4,2)\n",
    "c = np.array([2, 1.2]) + np.random.rand(5,2)\n",
    "\n",
    "fig, ax = plt.subplots();\n",
    "ax.plot(*a.T, marker='^', ls='none', c=None, markerfacecolor='C1', markeredgecolor='C1', label='Class $T$')\n",
    "ax.plot(*b.T, marker='s', ls='none', c=None, markerfacecolor='C0', markeredgecolor='C0', label='Class $S$')\n",
    "ax.plot(*c.T, marker='x', ls='none', c=None, markerfacecolor='C3', markeredgecolor='C3', label='Class $C$')\n",
    "ax.set_xticks([])\n",
    "ax.set_yticks([])\n",
    "ax.legend()\n",
    "ax.set_xlabel('$x_1$')\n",
    "ax.set_ylabel('$x_2$');"
   ]
  },
  {
   "cell_type": "markdown",
   "metadata": {},
   "source": [
    "In binary classification we could draw a decision boundary that would separate the $y=1$ space from the $y=0$ space. How could we use correctly classify three classes now?\n",
    "\n",
    "# One Vs All classification\n",
    "Let's say that we have three classes Triangles ($T$), Squares ($S$) and Crosses ($C$) as in the Figure above.\n",
    "\n",
    "The principle of one vs all classification is turning a multiclass classfication problem in three separate binary classifications problems, fitting 3 classifiers."
   ]
  },
  {
   "cell_type": "code",
   "execution_count": 70,
   "metadata": {
    "tags": [
     "remove_input"
    ]
   },
   "outputs": [
    {
     "data": {
      "image/png": "[encoded data removed]",
      "text/plain": [
       "<Figure size 864x216 with 3 Axes>"
      ]
     },
     "metadata": {},
     "output_type": "display_data"
    }
   ],
   "source": [
    "fig, axes = plt.subplots(1,3, figsize=(12,3))\n",
    "ax1, ax2, ax3 = axes\n",
    "ax1.plot(*a.T, marker='^', c=None, markerfacecolor='C1', markeredgecolor='C1', \n",
    "        ls='none', label='$y=1\\\\;\\\\to\\\\;$Class $T$')\n",
    "ax1.plot(*np.r_[b, c].T, marker='o', c=None, markerfacecolor='w', markeredgecolor='C0', \n",
    "        ls='none', label='$y=0\\\\;\\\\to\\\\;$Class $C \\\\cup S$')\n",
    "ax1.axline((np.max(a, 0)+ np.min(np.r_[b,c], 0))/2, slope=1, c='C6', label='$h_\\\\theta^{(1)}(x)$')\n",
    "\n",
    "ax2.plot(*b.T, marker='s', c=None, markerfacecolor='C0', markeredgecolor='C0', \n",
    "        ls='none', label='$y=1\\\\;\\\\to\\\\;$Class $S$')\n",
    "ax2.plot(*np.r_[a, c].T, marker='o', c=None, markerfacecolor='w', markeredgecolor='C0', \n",
    "        ls='none', label='$y=0\\\\;\\\\to\\\\;$Class $C \\\\cup T$')\n",
    "ax2.axline((np.max(b, 0)+ np.min(c, 0))/2, slope=-.6, c='C6', label='$h_\\\\theta^{(2)}(x)$')\n",
    "\n",
    "ax3.plot(*c.T, marker='x', c=None, markerfacecolor='C3', markeredgecolor='C3', \n",
    "        ls='none', label='$y=1\\\\;\\\\to\\\\;$Class $C$')\n",
    "ax3.plot(*np.r_[a, b].T, marker='o', c=None, markerfacecolor='w', markeredgecolor='C0', \n",
    "        ls='none', label='$y=0\\\\;\\\\to\\\\;$Class $S \\\\cup T$')\n",
    "ax3.axline((np.max(b, 0)+ np.min(c, 0))/2, slope=-4, c='C6', label='$h_\\\\theta^{(3)}(x)$')\n",
    "\n",
    "for ax in axes:\n",
    "    ax.legend(bbox_to_anchor=(0, 1), loc='lower left')\n",
    "    ax.set_xlabel('$x_1$')\n",
    "    ax.set_ylabel('$x_2$')\n",
    "    ax.set_xticks([])\n",
    "    ax.set_yticks([]);"
   ]
  },
  {
   "cell_type": "markdown",
   "metadata": {},
   "source": [
    "We want to train a logistic regression classifiers $h_\\theta^{(i)}(x)=P(y=1 \\mid x;\\theta)$ for each class $i$, (in this case $i=1,2,3$) to predict the probability that $y=1$.\n",
    "\n",
    "Finally on a new input $x$, to make a prediction, we will run all the classifiers and map $x$ to the class $i$ that maximizes\n",
    "\n",
    "$$\\max_{i}h_\\theta^{(i)}(x)$$"
   ]
  }
 ],
 "metadata": {
  "kernelspec": {
   "display_name": "ML",
   "language": "python",
   "name": "ml"
  },
  "language_info": {
   "codemirror_mode": {
    "name": "ipython",
    "version": 3
   },
   "file_extension": ".py",
   "mimetype": "text/x-python",
   "name": "python",
   "nbconvert_exporter": "python",
   "pygments_lexer": "ipython3",
   "version": "3.6.9"
  }
 },
 "nbformat": 4,
 "nbformat_minor": 4
}
