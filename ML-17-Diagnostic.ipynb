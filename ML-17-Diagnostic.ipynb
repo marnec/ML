{
 "cells": [
  {
   "cell_type": "markdown",
   "metadata": {},
   "source": [
    "---\n",
    "layout: default\n",
    "title: \"Machine learning diagnostic\"\n",
    "categories: evaluation\n",
    "permalink: /ML17/\n",
    "order: 17\n",
    "comments: true\n",
    "---"
   ]
  },
  {
   "cell_type": "code",
   "execution_count": 2,
   "metadata": {
    "tags": [
     "remove_cell"
    ]
   },
   "outputs": [
    {
     "name": "stdout",
     "output_type": "stream",
     "text": [
      "Populating the interactive namespace from numpy and matplotlib\n"
     ]
    }
   ],
   "source": [
    "%pylab --no-import-all inline\n",
    "\n",
    "import seaborn as sns\n",
    "import pandas as pd"
   ]
  },
  {
   "cell_type": "markdown",
   "metadata": {
    "tags": [
     "remove_cell"
    ]
   },
   "source": [
    "# Machine learning diagnostic\n",
    "\n",
    "Suppose you have implemented a regularized linear regression to predict housing prices. So you have successfully minimized cost function $J(\\theta)$\n",
    "\n",
    "$$\n",
    "J(\\theta) = \\frac{1}{2m} \\left[ \\sum_{i=1}^m \\left(h_\\theta\\left(x^{(i)}\\right) - y^{(i)}\\right)^2 + \\lambda \\sum_{j=1}^m \\theta_j^2 \\right]\n",
    "$$\n",
    "\n",
    "However, suppose that when you test your hypothesis, it makes unacceptably large errors in its predictions. What should you do next? \n",
    "\n",
    "There are a number of things that you could do to improve the algorithm:\n",
    "\n",
    "* Get more training examples\n",
    "* Try a smallers set of features to prevent overfitting\n",
    "* Try getting additional features\n",
    "* Try adding polynomial features\n",
    "* Decreasing or increasing $\\lambda$\n",
    "\n",
    "In this chapter we will focus on **machine learning diagnostic**: a test that can be run to gain insight on what is or is not working with a learning algorithm."
   ]
  },
  {
   "cell_type": "markdown",
   "metadata": {},
   "source": [
    "## Evaluating an hypothesis\n",
    "\n",
    "In the case of house prices if we want to see how our hypothesis is performing we could just plot it. Since we have just one feature (the area of each house) we can plot the feature against the price."
   ]
  },
  {
   "cell_type": "code",
   "execution_count": 3,
   "metadata": {
    "tags": [
     "remove_input"
    ]
   },
   "outputs": [
    {
     "data": {
      "image/png": "[encoded data removed]",
      "text/plain": [
       "<Figure size 432x288 with 1 Axes>"
      ]
     },
     "metadata": {},
     "output_type": "display_data"
    }
   ],
   "source": [
    "data = pd.read_csv('data/house_pricing.csv').drop('rooms', axis=1)\n",
    "sns.regplot(data=data, x='sqf', y='price', ci=None, line_kws={'color': 'C1'});"
   ]
  },
  {
   "cell_type": "markdown",
   "metadata": {},
   "source": [
    "When we have many features it becomes impossible to plot hypotheses. How do we tell if our hypothesis is overfitting? The standard way to evaluate a training hypothesis is to split the training set in two randomly selected subsets. The first subset ($70\\%$ of the examples) will be the **training set** and the second subset ($30\\%$ of the examples) will be the **test set** (blue background)."
   ]
  },
  {
   "cell_type": "code",
   "execution_count": 4,
   "metadata": {
    "tags": [
     "remove_input"
    ]
   },
   "outputs": [
    {
     "data": {
      "text/html": [
       "<style  type=\"text/css\" >\n",
       "#T_71820c22_5eec_11eb_9b85_b42e9941f9d7row7_col0,#T_71820c22_5eec_11eb_9b85_b42e9941f9d7row7_col1,#T_71820c22_5eec_11eb_9b85_b42e9941f9d7row8_col0,#T_71820c22_5eec_11eb_9b85_b42e9941f9d7row8_col1,#T_71820c22_5eec_11eb_9b85_b42e9941f9d7row9_col0,#T_71820c22_5eec_11eb_9b85_b42e9941f9d7row9_col1{\n",
       "            background-color:  lightskyblue;\n",
       "        }</style><table id=\"T_71820c22_5eec_11eb_9b85_b42e9941f9d7\" ><thead>    <tr>        <th class=\"col_heading level0 col0\" >sqf</th>        <th class=\"col_heading level0 col1\" >price</th>    </tr></thead><tbody>\n",
       "                <tr>\n",
       "                                <td id=\"T_71820c22_5eec_11eb_9b85_b42e9941f9d7row0_col0\" class=\"data row0 col0\" >2104</td>\n",
       "                        <td id=\"T_71820c22_5eec_11eb_9b85_b42e9941f9d7row0_col1\" class=\"data row0 col1\" >399900</td>\n",
       "            </tr>\n",
       "            <tr>\n",
       "                                <td id=\"T_71820c22_5eec_11eb_9b85_b42e9941f9d7row1_col0\" class=\"data row1 col0\" >1600</td>\n",
       "                        <td id=\"T_71820c22_5eec_11eb_9b85_b42e9941f9d7row1_col1\" class=\"data row1 col1\" >329900</td>\n",
       "            </tr>\n",
       "            <tr>\n",
       "                                <td id=\"T_71820c22_5eec_11eb_9b85_b42e9941f9d7row2_col0\" class=\"data row2 col0\" >2400</td>\n",
       "                        <td id=\"T_71820c22_5eec_11eb_9b85_b42e9941f9d7row2_col1\" class=\"data row2 col1\" >369000</td>\n",
       "            </tr>\n",
       "            <tr>\n",
       "                                <td id=\"T_71820c22_5eec_11eb_9b85_b42e9941f9d7row3_col0\" class=\"data row3 col0\" >1416</td>\n",
       "                        <td id=\"T_71820c22_5eec_11eb_9b85_b42e9941f9d7row3_col1\" class=\"data row3 col1\" >232000</td>\n",
       "            </tr>\n",
       "            <tr>\n",
       "                                <td id=\"T_71820c22_5eec_11eb_9b85_b42e9941f9d7row4_col0\" class=\"data row4 col0\" >3000</td>\n",
       "                        <td id=\"T_71820c22_5eec_11eb_9b85_b42e9941f9d7row4_col1\" class=\"data row4 col1\" >539900</td>\n",
       "            </tr>\n",
       "            <tr>\n",
       "                                <td id=\"T_71820c22_5eec_11eb_9b85_b42e9941f9d7row5_col0\" class=\"data row5 col0\" >1985</td>\n",
       "                        <td id=\"T_71820c22_5eec_11eb_9b85_b42e9941f9d7row5_col1\" class=\"data row5 col1\" >299900</td>\n",
       "            </tr>\n",
       "            <tr>\n",
       "                                <td id=\"T_71820c22_5eec_11eb_9b85_b42e9941f9d7row6_col0\" class=\"data row6 col0\" >1534</td>\n",
       "                        <td id=\"T_71820c22_5eec_11eb_9b85_b42e9941f9d7row6_col1\" class=\"data row6 col1\" >314900</td>\n",
       "            </tr>\n",
       "            <tr>\n",
       "                                <td id=\"T_71820c22_5eec_11eb_9b85_b42e9941f9d7row7_col0\" class=\"data row7 col0\" >1427</td>\n",
       "                        <td id=\"T_71820c22_5eec_11eb_9b85_b42e9941f9d7row7_col1\" class=\"data row7 col1\" >198999</td>\n",
       "            </tr>\n",
       "            <tr>\n",
       "                                <td id=\"T_71820c22_5eec_11eb_9b85_b42e9941f9d7row8_col0\" class=\"data row8 col0\" >1380</td>\n",
       "                        <td id=\"T_71820c22_5eec_11eb_9b85_b42e9941f9d7row8_col1\" class=\"data row8 col1\" >212000</td>\n",
       "            </tr>\n",
       "            <tr>\n",
       "                                <td id=\"T_71820c22_5eec_11eb_9b85_b42e9941f9d7row9_col0\" class=\"data row9 col0\" >1494</td>\n",
       "                        <td id=\"T_71820c22_5eec_11eb_9b85_b42e9941f9d7row9_col1\" class=\"data row9 col1\" >242500</td>\n",
       "            </tr>\n",
       "    </tbody></table>"
      ],
      "text/plain": [
       "<pandas.io.formats.style.Styler at 0x7f5751d9cda0>"
      ]
     },
     "execution_count": 4,
     "metadata": {},
     "output_type": "execute_result"
    }
   ],
   "source": [
    "color = lambda s: ['background-color: lightskyblue' if s.name > 6 else '' for val in s]\n",
    "data.head(10).style.hide_index().apply(color, axis=1)"
   ]
  },
  {
   "cell_type": "markdown",
   "metadata": {},
   "source": [
    "And we will differentiate the notation between test set and training set as follows:\n",
    "\n",
    "Training set:\n",
    "\n",
    "$$\n",
    "\\begin{align}\n",
    "&\\left(x^{(1)}, y^{(1)} \\right)\\\\\n",
    "&\\left(x^{(2)}, y^{(2)} \\right)\\\\ \n",
    "& \\quad \\;\\; \\vdots \\\\ \n",
    "&\\left(x^{(m)}, y^{(m)} \\right)\n",
    "\\end{align}\n",
    "\\label{eq:trainingdata} \\tag{1}\n",
    "$$\n",
    "\n",
    "Test set:\n",
    "\n",
    "$$\n",
    "\\begin{align}\n",
    "&\\left(x^{(1)}_{\\text{test}}, y^{(1)}_{\\text{test}} \\right)\\\\\n",
    "&\\left(x^{(2)}_{\\text{test}}, y^{(2)}_{\\text{test}} \\right)\\\\ \n",
    "& \\quad \\;\\; \\vdots \\\\ \n",
    "&\\left(x^{(m_\\text{test})}_{\\text{test}}, y^{(m_\\text{test})}_{\\text{test}} \\right)\n",
    "\\end{align}\n",
    "\\label{eq:testdata} \\tag{2}\n",
    "$$"
   ]
  },
  {
   "cell_type": "markdown",
   "metadata": {},
   "source": [
    "So here's how you will proceed with these two subsets: \n",
    "\n",
    "1. Learn paramters $\\theta$ from the training set (minimizing error $J(\\theta)$)\n",
    "2. Compute test set error $J_\\text{test}(\\theta)$\n",
    "\n",
    "In logistic regression you can of course compute $J_\\text{test}(\\theta)$ or alternatively you could compute the **misclassification error** (also called 0/1 misclassification error to convey that you can either classify an example correctly or incorrectly).\n",
    "\n",
    "$$\n",
    "\\begin{equation}\n",
    "\\text{err}(h_\\theta(x), y)=\n",
    "\\begin{cases}\\!% alignment adjustment\n",
    "&1 \\quad\n",
    "  \\begin{aligned}[t]% adjust case condition placement here, use [t]op, [b]ottom, or [c]enter (default)\n",
    "    &\\text{if } h_\\theta(x) \\geq 0.5, \\; y=0\\\\ \n",
    "    &\\text{or } h_\\theta(x) < 0.5, \\; y=1\\\\\n",
    "  \\end{aligned} \\\\ \\\\\n",
    "&0 \\quad \\text{otherwise}\n",
    "\\end{cases}\n",
    "\\end{equation}\n",
    "$$"
   ]
  },
  {
   "cell_type": "markdown",
   "metadata": {},
   "source": [
    "$$\n",
    "\\text{Test Error} = \\frac{1}{m_\\text{test}} \\sum^{m_\\text{test}}_{i=1} \\text{err} \\left( h_\\theta\\left( x^{(i)}_\\text{test} \\right), y^{(i)}_\\text{test} \\right)\n",
    "$$"
   ]
  },
  {
   "cell_type": "markdown",
   "metadata": {},
   "source": [
    "## Model selection\n",
    "This section regards model selection problems. In particular we will touch upon how o choose the polynomial features to include in an hypothesis and how to choose the regularization paramter $\\lambda$. \n",
    "\n",
    "To do this we will split the data not only in training and test sets but in three subsets. The **training-set**, the **test-set** and the **validation-set**.\n",
    "\n",
    "Let's say that you are trying to chose what degree polynomial to fit to the data. It is as if  in our algorithm there is an extra parameter $d$ to set that represents what degree of polynomial we want to use.\n",
    "\n",
    "$$\n",
    "\\begin{align}\n",
    "d=1 \\to \\; & h_\\theta(x) = \\theta_0+\\theta_1x & \\to \\theta^{(1)}\\\\\n",
    "d=2 \\to \\; & h_\\theta(x) = \\theta_0+\\theta_1x+\\theta_2x^2 & \\to \\theta^{(2)}\\\\\n",
    "d=3 \\to \\; & h_\\theta(x) = \\theta_0+\\theta_1x+\\dots+\\theta_3x^3 & \\to \\theta^{(3)}\\\\\n",
    "&\\vdots &\\\\\n",
    "d=10 \\to \\; & h_\\theta(x) = \\theta_0+\\theta_1x+\\dots+\\theta_{10}x^{10} & \\to \\theta^{(10)}\\\\\n",
    "\\end{align}\n",
    "$$\n",
    "\n",
    "You want to choose a model, fit the model and get an estimate of how well the fitted model generalize on new examples. In order to chose a model we could be tempted to calculate the test-set error for each model with parameter $d$ and fitted parameters $\\theta^{(i)}$ and chose the model with the smallest $J_\\text{test}(\\theta)$.\n",
    "\n",
    "$$\n",
    "\\begin{align}\n",
    "\\theta^{(1)} \\to \\; & J_\\text{test}\\left(\\theta^{(1)}\\right)\\\\\n",
    "\\theta^{(2)} \\to \\; & J_\\text{test}\\left(\\theta^{(2)}\\right)\\\\\n",
    "\\theta^{(3)} \\to \\; & J_\\text{test}\\left(\\theta^{(3)}\\right)\\\\\n",
    "&\\vdots \\\\\n",
    "\\theta^{(10)} \\to \\; & J_\\text{test}\\left(\\theta^{(10)}\\right)\\\\\n",
    "\\end{align}\n",
    "$$\n",
    "\n",
    "However, the chosen $J_\\text{test}(\\theta^{(i)})$ is very likely to be an optimistic estimate of the generalization error because we fit the parameter $d$ to the test-set so it will tend to perform better on the test than on a general case.\n",
    "\n",
    "In order to resolve this issue we are going to split our dataset in three subsets: training-set, the cross validation-set (or CV, orange background) and the test set (blue background). Usually the training set will take around $60\\%$ of your dataset and the test and cross-validation sets will take $20\\%$ each."
   ]
  },
  {
   "cell_type": "code",
   "execution_count": 5,
   "metadata": {
    "tags": [
     "remove_input"
    ]
   },
   "outputs": [
    {
     "data": {
      "text/html": [
       "<style  type=\"text/css\" >\n",
       "#T_71820c23_5eec_11eb_9b85_b42e9941f9d7row6_col0,#T_71820c23_5eec_11eb_9b85_b42e9941f9d7row6_col1,#T_71820c23_5eec_11eb_9b85_b42e9941f9d7row7_col0,#T_71820c23_5eec_11eb_9b85_b42e9941f9d7row7_col1{\n",
       "            background-color:  bisque;\n",
       "        }#T_71820c23_5eec_11eb_9b85_b42e9941f9d7row8_col0,#T_71820c23_5eec_11eb_9b85_b42e9941f9d7row8_col1,#T_71820c23_5eec_11eb_9b85_b42e9941f9d7row9_col0,#T_71820c23_5eec_11eb_9b85_b42e9941f9d7row9_col1{\n",
       "            background-color:  lightskyblue;\n",
       "        }</style><table id=\"T_71820c23_5eec_11eb_9b85_b42e9941f9d7\" ><thead>    <tr>        <th class=\"col_heading level0 col0\" >sqf</th>        <th class=\"col_heading level0 col1\" >price</th>    </tr></thead><tbody>\n",
       "                <tr>\n",
       "                                <td id=\"T_71820c23_5eec_11eb_9b85_b42e9941f9d7row0_col0\" class=\"data row0 col0\" >2104</td>\n",
       "                        <td id=\"T_71820c23_5eec_11eb_9b85_b42e9941f9d7row0_col1\" class=\"data row0 col1\" >399900</td>\n",
       "            </tr>\n",
       "            <tr>\n",
       "                                <td id=\"T_71820c23_5eec_11eb_9b85_b42e9941f9d7row1_col0\" class=\"data row1 col0\" >1600</td>\n",
       "                        <td id=\"T_71820c23_5eec_11eb_9b85_b42e9941f9d7row1_col1\" class=\"data row1 col1\" >329900</td>\n",
       "            </tr>\n",
       "            <tr>\n",
       "                                <td id=\"T_71820c23_5eec_11eb_9b85_b42e9941f9d7row2_col0\" class=\"data row2 col0\" >2400</td>\n",
       "                        <td id=\"T_71820c23_5eec_11eb_9b85_b42e9941f9d7row2_col1\" class=\"data row2 col1\" >369000</td>\n",
       "            </tr>\n",
       "            <tr>\n",
       "                                <td id=\"T_71820c23_5eec_11eb_9b85_b42e9941f9d7row3_col0\" class=\"data row3 col0\" >1416</td>\n",
       "                        <td id=\"T_71820c23_5eec_11eb_9b85_b42e9941f9d7row3_col1\" class=\"data row3 col1\" >232000</td>\n",
       "            </tr>\n",
       "            <tr>\n",
       "                                <td id=\"T_71820c23_5eec_11eb_9b85_b42e9941f9d7row4_col0\" class=\"data row4 col0\" >3000</td>\n",
       "                        <td id=\"T_71820c23_5eec_11eb_9b85_b42e9941f9d7row4_col1\" class=\"data row4 col1\" >539900</td>\n",
       "            </tr>\n",
       "            <tr>\n",
       "                                <td id=\"T_71820c23_5eec_11eb_9b85_b42e9941f9d7row5_col0\" class=\"data row5 col0\" >1985</td>\n",
       "                        <td id=\"T_71820c23_5eec_11eb_9b85_b42e9941f9d7row5_col1\" class=\"data row5 col1\" >299900</td>\n",
       "            </tr>\n",
       "            <tr>\n",
       "                                <td id=\"T_71820c23_5eec_11eb_9b85_b42e9941f9d7row6_col0\" class=\"data row6 col0\" >1534</td>\n",
       "                        <td id=\"T_71820c23_5eec_11eb_9b85_b42e9941f9d7row6_col1\" class=\"data row6 col1\" >314900</td>\n",
       "            </tr>\n",
       "            <tr>\n",
       "                                <td id=\"T_71820c23_5eec_11eb_9b85_b42e9941f9d7row7_col0\" class=\"data row7 col0\" >1427</td>\n",
       "                        <td id=\"T_71820c23_5eec_11eb_9b85_b42e9941f9d7row7_col1\" class=\"data row7 col1\" >198999</td>\n",
       "            </tr>\n",
       "            <tr>\n",
       "                                <td id=\"T_71820c23_5eec_11eb_9b85_b42e9941f9d7row8_col0\" class=\"data row8 col0\" >1380</td>\n",
       "                        <td id=\"T_71820c23_5eec_11eb_9b85_b42e9941f9d7row8_col1\" class=\"data row8 col1\" >212000</td>\n",
       "            </tr>\n",
       "            <tr>\n",
       "                                <td id=\"T_71820c23_5eec_11eb_9b85_b42e9941f9d7row9_col0\" class=\"data row9 col0\" >1494</td>\n",
       "                        <td id=\"T_71820c23_5eec_11eb_9b85_b42e9941f9d7row9_col1\" class=\"data row9 col1\" >242500</td>\n",
       "            </tr>\n",
       "    </tbody></table>"
      ],
      "text/plain": [
       "<pandas.io.formats.style.Styler at 0x7f57519e5630>"
      ]
     },
     "execution_count": 5,
     "metadata": {},
     "output_type": "execute_result"
    }
   ],
   "source": [
    "def color(s):\n",
    "    colors = []\n",
    "    for val in s:\n",
    "        c = ''\n",
    "        if s.name > 5:\n",
    "            c = 'background-color: bisque'\n",
    "        if s.name > 7:\n",
    "            c= 'background-color: lightskyblue'\n",
    "        colors.append(c)\n",
    "    return colors\n",
    "data.head(10).style.hide_index().apply(color, axis=1)"
   ]
  },
  {
   "cell_type": "markdown",
   "metadata": {},
   "source": [
    "And of course now, in addition to $\\eqref{eq:trainingdata}$ and $\\eqref{eq:testdata}$  we will have:\n",
    "\n",
    "\n",
    "$$\n",
    "\\begin{align}\n",
    "&\\left(x^{(1)}_{\\text{CV}}, y^{(1)}_{\\text{CV}} \\right)\\\\\n",
    "&\\left(x^{(2)}_{\\text{CV}}, y^{(2)}_{\\text{CV}} \\right)\\\\ \n",
    "& \\quad \\;\\; \\vdots \\\\ \n",
    "&\\left(x^{(m_{CV})}_{\\text{CV}}, y^{(m_{CV})}_{\\text{CV}} \\right)\n",
    "\\end{align}\n",
    "$$\n",
    "\n",
    "And we can also define the errors for the three subsets.\n",
    "\n",
    "Training error\n",
    "\n",
    "$$\n",
    "\\begin{equation}\n",
    "J_\\text{train}(\\theta) = \\frac{1}{2m}\\sum^m_{i=1}\\left(h_\\theta\\left(x^{(i)}\\right) - y^{(i)}\\right)^2\n",
    "\\end{equation}\n",
    "\\label{eq:trainerr} \\tag{3}\n",
    "$$\n",
    "\n",
    "Cross Validation error\n",
    "\n",
    "$$\n",
    "\\begin{equation}\n",
    "J_\\text{CV}(\\theta) = \\frac{1}{2m_\\text{CV}}\\sum^{m_\\text{CV}}_{i=1}\\left(h_\\theta\\left(x_\\text{CV}^{(i)}\\right) - y_\\text{CV}^{(i)}\\right)^2\n",
    "\\end{equation}\n",
    "\\label{eq:crosserr} \\tag{4}\n",
    "$$\n",
    "\n",
    "Test error\n",
    "\n",
    "$$\n",
    "J_\\text{test}(\\theta) = \\frac{1}{2m_\\text{test}}\\sum^{m_\\text{test}}_{i=1}\\left(h_\\theta\\left(x_\\text{test}^{(i)}\\right) - y_\\text{test}^{(i)}\\right)^2\n",
    "$$\n",
    "\n",
    "And so before testing the generalization power of you algorithm on the test set you can select the model that produces $\\min_\\theta J(\\theta)$ calculated on the Cross Validation set.\n",
    "\n",
    "While it is ill advised to optimizize $J_\\text{test}(\\theta)$ and $J_\\text{CV}(\\theta)$ on the same subset (test set), sometimes you will encounter algorithms trained in such a way. If the test is very big this should not be a problem but othwerise you should also have separate test and cross-validation sets."
   ]
  },
  {
   "cell_type": "markdown",
   "metadata": {},
   "source": [
    "## Bias vs Variance\n",
    "When a ML algorith is underperfoming with respect to expectations is almost always because of an **over-fitting** problem or **under-fitting** problem."
   ]
  },
  {
   "cell_type": "code",
   "execution_count": 25,
   "metadata": {
    "tags": [
     "remove_input"
    ]
   },
   "outputs": [
    {
     "data": {
      "image/png": "[encoded data removed]",
      "text/plain": [
       "<Figure size 864x216 with 3 Axes>"
      ]
     },
     "metadata": {},
     "output_type": "display_data"
    }
   ],
   "source": [
    "%%capture --no-stdout --no-display\n",
    "jitter = np.random.rand(5)*0.1\n",
    "x = np.linspace(0.1, 1, 5)**2+jitter\n",
    "y = np.log(x)+jitter\n",
    "\n",
    "fig, axes = plt.subplots(1,3, figsize=(12, 3), sharey=True)\n",
    "ax1, ax2, ax3 = axes\n",
    "sns.regplot(x=x, y=y, ax=ax1, ci=None, scatter_kws=dict(color='C3'), marker='x')\n",
    "ax1.set_title('$\\\\theta_0+\\\\theta_1x$\\nhigh bias (underfit)')\n",
    "sns.regplot(x=x, y=y, ax=ax2, ci=None, order=2, scatter_kws=dict(color='C3'), marker='x')\n",
    "ax2.set_title('$\\\\theta_0+\\\\theta_1x+\\\\theta_2x^2$\\n')\n",
    "sns.regplot(x=x, y=y, ax=ax3, ci=None, order=6, scatter_kws=dict(color='C3'), marker='x')\n",
    "ax3.set_title('$\\\\theta_0+\\\\theta_1x+\\\\theta_2x^2+\\\\theta_3x^3+\\\\theta_4x^4$\\nhigh variance (overfit)')\n",
    "\n",
    "for ax, label in zip(axes, ['A', 'B', 'C']):\n",
    "    ax.text(-0.05, 1.15, label, transform=ax.transAxes,\n",
    "      fontsize=16, va='top', ha='right')\n",
    "    ax.set_xlim(-.1, 1.26)\n",
    "    ax.set_xlabel('x')\n",
    "    ax.set_ylabel('y')\n",
    "    ax.set_xticks([])\n",
    "    ax.set_yticks([])"
   ]
  },
  {
   "cell_type": "markdown",
   "metadata": {},
   "source": [
    "Let's say that training error and cross validation error are defined as in $\\eqref{eq:trainerr}$ and $\\eqref{eq:crosserr}$. If we plot $J_\\text{train}(\\theta)$ and $J_\\text{CV}(\\theta)$ as a function of the polynome degree $d$ we will see that $J_\\text{train}(\\theta)$ decrease at the increase of $d$, because we are able to fit the algorithm better and better; $J_\\text{CV}(\\theta)$ will be large for small values of $d$ indicating that we are underfitting the data, it will decrease at the increase of $d$ until reaching the minimum value for the optimal $d$ and raise again when further increasing $d$."
   ]
  },
  {
   "cell_type": "code",
   "execution_count": 120,
   "metadata": {
    "tags": [
     "remove_input"
    ]
   },
   "outputs": [
    {
     "data": {
      "image/png": "[encoded data removed]",
      "text/plain": [
       "<Figure size 432x288 with 1 Axes>"
      ]
     },
     "metadata": {},
     "output_type": "display_data"
    }
   ],
   "source": [
    "%%capture --no-display\n",
    "xcross = np.linspace(-.5, .5)\n",
    "xtrain = np.linspace(-1, 2)\n",
    "jtrain = -np.log(xtrain)\n",
    "jcross = 10*xcross ** 2\n",
    "xcross -= .8\n",
    "xtrain -= 1.5\n",
    "jcross += .7\n",
    "fig, ax = plt.subplots()\n",
    "ax.plot(xcross, jcross, label='$J_\\\\mathrm{CV}(\\\\theta)$')\n",
    "ax.plot(xtrain , jtrain, label='$J_\\\\mathrm{train}(\\\\theta)$')\n",
    "ax.axvline(-.8, ls='--', c='k', lw=1, label='optimal $d$ value')\n",
    "ax.set_xticks([])\n",
    "ax.set_yticks([])\n",
    "ax.set_ylabel('Cost $J(\\\\theta)$')\n",
    "ax.set_xlabel('$d$ polynome degree')\n",
    "ax.add_patch(matplotlib.patches.Rectangle((-1.5, 3), .25, .25, fill=False, ls='--', edgecolor='C2', label='high Bias (underfit)'))\n",
    "ax.add_patch(matplotlib.patches.Rectangle((-.35, -.3), .1, 3.6, fill=False, ls='--', edgecolor='C3', label='high Variance (overfit)'))\n",
    "_ = ax.legend(loc='upper left', bbox_to_anchor=(1, 1))"
   ]
  },
  {
   "cell_type": "markdown",
   "metadata": {},
   "source": [
    "So we can generalize and deduce that when both $J_\\text{train}(\\theta)$ and $J_\\text{CV}(\\theta)$ are large we are in underfitting the algorithm (high bias); when $J_\\text{CV}(\\theta)$ is large but $J_\\text{train}(\\theta)$ is small we are underfitting the algorithm (high variance)."
   ]
  },
  {
   "cell_type": "markdown",
   "metadata": {},
   "source": [
    "### Effect of regularization of Bias/Variance\n",
    "The regularization parameter $\\lambda$ also has an effect on the bias/variance trade-off. To chose the right value of $\\lambda$ we can adopt a similar strategy to that adopted in the previous section: with \n",
    "\n",
    "$$\n",
    "J(\\theta) = \\frac{1}{2m}\\sum_{i=1}^m\\left(h_\\theta\\left( x ^{(i)}\\right) -y^{(i)} \\right)^2 + \\frac{\\lambda}{2m}\\sum_{j=1}^m\\theta_j^2\n",
    "$$\n",
    "\n",
    "we can try different valus of $\\lambda$ \n",
    "\n",
    "$$\n",
    "\\Lambda = \n",
    "\\begin{bmatrix}\n",
    "0\\\\0.01\\\\0.02\\\\0.04\\\\ 0.08 \\\\ \\vdots \\\\10\n",
    "\\end{bmatrix} \\quad \\to \\quad\n",
    "\\begin{bmatrix}\n",
    "\\theta^{(1)}\\\\ \\theta^{(2)}\\\\ \\theta^{(3)}\\\\ \\theta^{(4)}\\\\ \\theta^{(5)} \\\\ \\vdots \\\\ \\theta^{(l)}\n",
    "\\end{bmatrix} = \\Theta\n",
    "$$\n",
    "\n",
    "We will then calculate $\\min_\\theta J(\\theta)$ for each $\\lambda^{(i)}$ to obtain a set of prameters $\\theta^{(i)}$. We will then use the set of parameters $\\theta^{(i)}$ to calculate $J_\\text{CV}\\left(\\theta^{(i)}\\right)$ and select the model that staisfy $\\min_{\\theta^{(i)}} J_\\text{CV}(\\Theta)$. Finally we can calculate $J_\\text{test}\\left(\\theta^{(i)}\\right)$ with the $\\theta^{(i)}$ that minimizes $J_\\text{CV}\\left(\\theta^{(i)}\\right)$."
   ]
  },
  {
   "cell_type": "code",
   "execution_count": 121,
   "metadata": {
    "tags": [
     "remove_input"
    ]
   },
   "outputs": [
    {
     "data": {
      "image/png": "[encoded data removed]",
      "text/plain": [
       "<Figure size 432x288 with 1 Axes>"
      ]
     },
     "metadata": {},
     "output_type": "display_data"
    }
   ],
   "source": [
    "%%capture --no-display\n",
    "xcross = np.linspace(-.5, .5)\n",
    "xtrain = np.linspace(-1, 2)\n",
    "jtrain = -np.log(xtrain)\n",
    "jcross = 10*xcross ** 2\n",
    "xcross -= .8\n",
    "xtrain -= 1.1\n",
    "jcross += .7\n",
    "fig, ax = plt.subplots()\n",
    "ax.plot(xcross, jcross, label='$J_\\\\mathrm{CV}(\\\\theta)$')\n",
    "ax.plot(xtrain , jtrain[::-1], label='$J_\\\\mathrm{train}(\\\\theta)$')\n",
    "ax.axvline(-.8, ls='--', c='k', lw=1, label='optimal $\\\\lambda$ value')\n",
    "ax.set_xticks([])\n",
    "ax.set_yticks([])\n",
    "ax.set_ylabel('$J(\\\\theta)$')\n",
    "ax.set_xlabel('$\\\\lambda$')\n",
    "ax.add_patch(matplotlib.patches.Rectangle((-.35, 3), .25, .25, fill=False, ls='--', edgecolor='C2', label='high Bias (underfit)'))\n",
    "ax.add_patch(matplotlib.patches.Rectangle((-1.35, -.3), .1, 3.6, fill=False, ls='--', edgecolor='C3', label='high Variance (overfit)'))\n",
    "_ = ax.legend(loc='upper left', bbox_to_anchor=(1, 1))"
   ]
  },
  {
   "cell_type": "code",
   "execution_count": null,
   "metadata": {},
   "outputs": [],
   "source": []
  }
 ],
 "metadata": {
  "kernelspec": {
   "display_name": "Python 3",
   "language": "python",
   "name": "python3"
  },
  "language_info": {
   "codemirror_mode": {
    "name": "ipython",
    "version": 3
   },
   "file_extension": ".py",
   "mimetype": "text/x-python",
   "name": "python",
   "nbconvert_exporter": "python",
   "pygments_lexer": "ipython3",
   "version": "3.6.9"
  }
 },
 "nbformat": 4,
 "nbformat_minor": 4
}
