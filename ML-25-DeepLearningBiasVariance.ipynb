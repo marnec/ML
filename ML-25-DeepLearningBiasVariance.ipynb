{
 "cells": [
  {
   "cell_type": "markdown",
   "id": "frank-fusion",
   "metadata": {},
   "source": [
    "---\n",
    "layout: default\n",
    "title: \"Deep Learning - Bias & Variance\"\n",
    "categories: deeplearning\n",
    "permalink: /ML25/\n",
    "order: 25\n",
    "comments: true\n",
    "---"
   ]
  },
  {
   "cell_type": "code",
   "execution_count": 1,
   "id": "hydraulic-thousand",
   "metadata": {
    "tags": [
     "remove_cell"
    ]
   },
   "outputs": [
    {
     "name": "stdout",
     "output_type": "stream",
     "text": [
      "Populating the interactive namespace from numpy and matplotlib\n"
     ]
    },
    {
     "name": "stderr",
     "output_type": "stream",
     "text": [
      "/home/marnec/.local/lib/python3.9/site-packages/pandas/compat/__init__.py:97: UserWarning: Could not import the lzma module. Your installed Python is incomplete. Attempting to use lzma compression will result in a RuntimeError.\n",
      "  warnings.warn(msg)\n"
     ]
    }
   ],
   "source": [
    "%pylab --no-import-all inline\n",
    "import pandas as pd\n",
    "from plot_ann import ann\n",
    "from mpl_flow import Flow"
   ]
  },
  {
   "cell_type": "markdown",
   "id": "educational-buyer",
   "metadata": {},
   "source": [
    "# Bias and Variance\n",
    "Bias and Variance in ML (<a href=\"ML8#biasvariance\">check this figure</a>)  are fundamental concepts and expert practitioners usually have a deep understanding of bias/variance related topics. \n",
    "\n",
    "In the deep learning era there is less discussion about the bias/variance trade-off because in the deep learning era there is less trade-off. So the concepts of bias and variance are still central but their trade-off is no more so important.\n",
    "\n",
    "The reason for this is that in the pred-deep learning era usually you could reduce bias at the cost of increasing variance or vice-versa, but generally it wasn't possible to just reduce bias or just reduce variance. Instead, in deep learning, as long as you get a bigger network (in terms of layers or hidden units) you will generally reduce bias without impacting variance (if regularized properly), and as long as you can get more data you will generally reduce variance without impacting bias."
   ]
  },
  {
   "cell_type": "markdown",
   "id": "federal-techno",
   "metadata": {},
   "source": [
    "## Identify bias/variance from subset error\n",
    "When only two features are present we can just look at the model (<a href=\"ML8#biasvariance\">check this figure</a>) and identify situations of high bias (panel A) or high variance (panel C).\n",
    "\n",
    "When many features are present we can no longer visualize the model but we can employ some metrics that will help us identify these problems.\n",
    "\n",
    "Suppose you have a classifier that should identify cat pictures. So $y=1$ for a picture of a cat and $y=0$ for any other pictures.\n",
    "\n",
    "Suppose you fit your model on the training set and then measure the error on both the training set and development set and obtain the error as in <a href=\"#biasvarerror\">the table below</a>."
   ]
  },
  {
   "cell_type": "code",
   "execution_count": 2,
   "id": "lesser-gateway",
   "metadata": {
    "tags": [
     "remove_input"
    ]
   },
   "outputs": [
    {
     "data": {
      "text/html": [
       "<style  type=\"text/css\" >\n",
       "</style><table id=\"T_6c100_\" id=\"biasvarerror\"><caption>Four cases of error (as percentage of miscalssifications) calculated on the train- and test-sets after fitting a model</caption><thead>    <tr>        <th class=\"blank level0\" ></th>        <th class=\"col_heading level0 col0\" >case 1</th>        <th class=\"col_heading level0 col1\" >case 2</th>        <th class=\"col_heading level0 col2\" >case 3</th>        <th class=\"col_heading level0 col3\" >case 4</th>    </tr></thead><tbody>\n",
       "                <tr>\n",
       "                        <th id=\"T_6c100_level0_row0\" class=\"row_heading level0 row0\" >train set</th>\n",
       "                        <td id=\"T_6c100_row0_col0\" class=\"data row0 col0\" >1%</td>\n",
       "                        <td id=\"T_6c100_row0_col1\" class=\"data row0 col1\" >15%</td>\n",
       "                        <td id=\"T_6c100_row0_col2\" class=\"data row0 col2\" >15%</td>\n",
       "                        <td id=\"T_6c100_row0_col3\" class=\"data row0 col3\" >0.5%</td>\n",
       "            </tr>\n",
       "            <tr>\n",
       "                        <th id=\"T_6c100_level0_row1\" class=\"row_heading level0 row1\" >dev set</th>\n",
       "                        <td id=\"T_6c100_row1_col0\" class=\"data row1 col0\" >11%</td>\n",
       "                        <td id=\"T_6c100_row1_col1\" class=\"data row1 col1\" >16%</td>\n",
       "                        <td id=\"T_6c100_row1_col2\" class=\"data row1 col2\" >30%</td>\n",
       "                        <td id=\"T_6c100_row1_col3\" class=\"data row1 col3\" >1%</td>\n",
       "            </tr>\n",
       "    </tbody></table>"
      ],
      "text/plain": [
       "<pandas.io.formats.style.Styler at 0x7f5a184fe430>"
      ]
     },
     "execution_count": 2,
     "metadata": {},
     "output_type": "execute_result"
    }
   ],
   "source": [
    "caption = 'Four cases of error (as percentage of miscalssifications) calculated on the train- and test-sets after fitting a model'\n",
    "pd.DataFrame([[\"1%\",\"15%\",\"15%\",\"0.5%\"],[\"11%\",\"16%\",\"30%\",\"1%\"]], \n",
    "             columns=[f'case {i}' for i in range(1, 5)], \n",
    "             index=['train set', 'dev set']).style.set_caption(caption).set_table_attributes('id=\"biasvarerror\"')"
   ]
  },
  {
   "cell_type": "markdown",
   "id": "unlikely-miniature",
   "metadata": {},
   "source": [
    "Assuming that a person would have an error $\\approx 0%$ and that the train and dev sets are drawn from the same distribution:\n",
    "\n",
    "* case 1 is a case of high variance\n",
    "* case 2 is a case of high bias\n",
    "* case 3 is a case of high bias AND high variance (the worst scenario)\n",
    "* case 4 is a case of low bias and low variance (the best scenario)\n",
    "\n",
    "It is important to notice that we detected bias and variance based on the assumption that the **optimal error**, also called **Bayes error** is $\\approx 0%$.\n",
    "\n",
    "Would the Bayes error $\\approx 15%$, then we can say that case 2 is a case of low bias and low variance."
   ]
  },
  {
   "cell_type": "markdown",
   "id": "cognitive-hardwood",
   "metadata": {},
   "source": [
    "## Basic recipe for correct training\n",
    "This is a basic recipe to apply when training a model:"
   ]
  },
  {
   "cell_type": "code",
   "execution_count": 3,
   "id": "honest-ribbon",
   "metadata": {
    "tags": [
     "remove_input"
    ]
   },
   "outputs": [
    {
     "data": {
      "image/png": "[encoded data removed]",
      "text/plain": [
       "<Figure size 288x360 with 1 Axes>"
      ]
     },
     "metadata": {
      "needs_background": "light"
     },
     "output_type": "display_data"
    }
   ],
   "source": [
    "f = Flow(direction='ns', figsize=(4, 5))\n",
    "f.node('Fit the parameters')\n",
    "f.node('Test the model')\n",
    "f.node('a', label='High bias?\\n(training set performance)')\n",
    "f.node('Y', bbox=dict(boxstyle='circle'), travel='e', distance=.5)\n",
    "f.node('c', 'bigger network', travel='ne', distance=.5)\n",
    "f.edge('c', 'a', tailport='n', arrowprops=dict(connectionstyle=\"angle3,angleA=30,angleB=-110\"))\n",
    "f.node('d', label='train for longer', startpoint='Y', travel='e', distance=.5)\n",
    "f.edge('d', 'a', tailport='ne', headport='ne', arrowprops=dict(connectionstyle=\"angle3,angleA=30,angleB=-110\"))\n",
    "f.node('N', bbox=dict(boxstyle='circle'), startpoint='a')\n",
    "f.node('b', label='High Variance?\\n(dev set performance)')\n",
    "f.node('Y', bbox=dict(boxstyle='circle'), travel='e', distance=.5)\n",
    "f.node('e', label='get more data', travel='ne', distance=.5)\n",
    "f.edge('e', 'a', tailport='ne', headport='ne', arrowprops=dict(connectionstyle=\"angle3,angleA=32,angleB=-110\"))\n",
    "f.node('f', label='regularization', travel='e', distance=.5, startpoint='Y')\n",
    "f.edge('f', 'a', tailport='ne', headport='ne', arrowprops=dict(connectionstyle=\"angle3,angleA=32,angleB=-110\"))\n",
    "f.node('g', label='NN architecture', travel='se', distance=.5, startpoint='Y')\n",
    "f.edge('g', 'a', tailport='ne', headport='ne', arrowprops=dict(connectionstyle=\"angle3,angleA=32,angleB=-110\"))\n",
    "f.node('N', bbox=dict(boxstyle='circle'), startpoint='b')\n",
    "f.node('Done');"
   ]
  },
  {
   "cell_type": "markdown",
   "id": "grave-captain",
   "metadata": {},
   "source": [
    "## Regularization\n",
    "When your model is overfitting your data (high variance) you can either get more data, which may not always be possible, or apply **regularization**.\n",
    "\n",
    "We already talked about regularization in <a href=\"ML8\">this lesson</a>, where the cost function of logistic regression is regularized and the regularization is mediated by the regularization parameter $\\lambda$\n",
    "\n",
    "$$\n",
    "\\begin{equation}\n",
    "J(w,b)=\\frac{1}{m}\\sum_{i=1}^m\\mathcal{L}\\left(\\hat{y}^{(i)},y^{(i)}\\right)+\\frac{\\lambda}{2m}\\|w\\|_2^2\n",
    "\\end{equation}\n",
    "\\label{eq:l2reg} \\tag{1}\n",
    "$$\n",
    "\n",
    "where $\\|w\\|_2^2$ is called the $L_2$ norm of the vector $w$ and consequently $\\eqref{eq:l2reg}$ is called $L_2$ regularization.\n",
    "\n",
    "$$\n",
    "\\|w\\|_2^2  =\\sum^{n_x}_{j=1}w_j^2=w^Tw\n",
    "$$\n",
    "\n",
    "$L_2$ is the most common type of regularization however sometimes $L_1$ regularization is used with\n",
    "\n",
    "$$\n",
    "\\frac{\\lambda}{2m}\\|w\\|_1 = \\frac{\\lambda}{2m}\\sum_{i=1}^{n_x}|w| \n",
    "$$\n",
    "\n",
    "This will cause $w$ to be sparse (have many zeros) and sometimes this can help compressing the model because the representation of zeros might sometimes require less memory than a non-zero number. However, this has a relatively small effect and usually $L_2$ regularization is preferred in deep-learning problems. "
   ]
  }
 ],
 "metadata": {
  "kernelspec": {
   "display_name": "Python 3",
   "language": "python",
   "name": "python3"
  },
  "language_info": {
   "codemirror_mode": {
    "name": "ipython",
    "version": 3
   },
   "file_extension": ".py",
   "mimetype": "text/x-python",
   "name": "python",
   "nbconvert_exporter": "python",
   "pygments_lexer": "ipython3",
   "version": "3.9.1"
  }
 },
 "nbformat": 4,
 "nbformat_minor": 5
}
