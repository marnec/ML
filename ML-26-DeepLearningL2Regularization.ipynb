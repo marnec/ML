{
 "cells": [
  {
   "cell_type": "markdown",
   "id": "quiet-newark",
   "metadata": {},
   "source": [
    "---\n",
    "layout: default\n",
    "title: \"Deep Learning - $L_2$ reguralization\"\n",
    "categories: deeplearning\n",
    "permalink: /ML26/\n",
    "order: 26\n",
    "comments: true\n",
    "---"
   ]
  },
  {
   "cell_type": "code",
   "execution_count": 18,
   "id": "hungry-orchestra",
   "metadata": {
    "tags": [
     "remove_cell"
    ]
   },
   "outputs": [
    {
     "name": "stdout",
     "output_type": "stream",
     "text": [
      "Populating the interactive namespace from numpy and matplotlib\n"
     ]
    }
   ],
   "source": [
    "%pylab --no-import-all inline\n",
    "import pandas as pd\n",
    "from plot_ann import ann\n",
    "from mpl_flow import Flow\n",
    "from itertools import chain"
   ]
  },
  {
   "cell_type": "markdown",
   "id": "willing-field",
   "metadata": {},
   "source": [
    "## Regularization\n",
    "When your model is overfitting your data (high variance) you can either get more data, which may not always be possible, or apply **regularization**.\n",
    "\n",
    "We already talked about regularization in <a href=\"ML8\">this lesson</a>, where the cost function of logistic regression is regularized and the regularization is mediated by the regularization parameter $\\lambda$\n",
    "\n",
    "$$\n",
    "\\begin{equation}\n",
    "J(w,b)=\\frac{1}{m}\\sum_{i=1}^m\\mathcal{L}\\left(\\hat{y}^{(i)},y^{(i)}\\right)+\\frac{\\lambda}{2m}\\|w\\|_2^2\n",
    "\\end{equation}\n",
    "\\label{eq:l2reg} \\tag{1}\n",
    "$$\n",
    "\n",
    "where $\\|w\\|_2^2$ is called the $L_2$ norm of the vector $w$ and consequently $\\eqref{eq:l2reg}$ is called $L_2$ regularization.\n",
    "\n",
    "$$\n",
    "\\|w\\|_2^2  =\\sum^{n_x}_{j=1}w_j^2=w^Tw\n",
    "$$\n",
    "\n",
    "$L_2$ is the most common type of regularization however sometimes $L_1$ regularization is used with\n",
    "\n",
    "$$\n",
    "\\frac{\\lambda}{2m}\\|w\\|_1 = \\frac{\\lambda}{2m}\\sum_{i=1}^{n_x}|w| \n",
    "$$\n",
    "\n",
    "This will cause $w$ to be sparse (have many zeros) and sometimes this can help compressing the model because the representation of zeros might sometimes require less memory than a non-zero number. However, this has a relatively small effect and usually $L_2$ regularization is preferred in deep-learning problems. "
   ]
  },
  {
   "cell_type": "markdown",
   "id": "professional-telling",
   "metadata": {},
   "source": [
    "### Regularized cost function in a neural network\n",
    "In a neural network out cost function is a function of parameters in all $L$ layers and consequently its regularization sums over all the parameter matrices $w^{[l]}$ of each layer $l$:\n",
    "\n",
    "$$\n",
    "\\begin{equation}\n",
    "J(w^{[1]},b^{[1]}, \\dots, w^{[L]},b^{[L]})=\\frac{1}{m}\\sum_{i=1}^m\\mathcal{L}\\left(\\hat{y}^{(i)},y^{(i)}\\right) + \\underbrace{\\frac{\\lambda}{2m} \\sum_{l=1}^L \\|w^{[l]}\\|^2}_\\text{regularization}\n",
    "\\end{equation}\n",
    "\\label{eq:l2regnn} \\tag{2}\n",
    "$$\n",
    "\n",
    "where the norm $\\| w^{[l]} \\|^2$ is\n",
    "\n",
    "$$\n",
    "\\| w^{[l]} \\|^2=\\sum_{i=1}^{n^{[l-1]}}\\sum_{j=1}^{n^{[l]}}(w^{[l]}_{ij})^2  \\qquad w \\in R^{n^{[l-1]}\\times n^{[l]}}\n",
    "$$\n",
    "\n",
    "This norm is called the [Frobenius norm](https://mathworld.wolfram.com/FrobeniusNorm.html#:~:text=The%20Frobenius%20norm%2C%20sometimes%20also,considered%20as%20a%20vector%20norm.) of a matrix and is denoted with $\\| w^{[l]} \\|_F$\n",
    "\n",
    "### Regularized backpropagation\n",
    "When backpropagating error across the neural network (before regularization) you obtain $dw^{[l]}$ at each level $l$ and then update $w^{[l]}$\n",
    "\n",
    "$$\n",
    "\\begin{aligned}\n",
    " dW^{[l]} & = \\overbrace{\\frac{1}{m} dZ^{[l]} A^{[l-1]T}}^\\text{from backpropagation} = dW^{[l]}_{bp} \\\\ \n",
    " w^{[l]}  :& = w^{[l]}-\\alpha \\cdot dw^{[l]}\n",
    "\\end{aligned}\n",
    "\\qquad \\qquad \\qquad dW^{[l]} = \\frac{\\partial J}{\\partial w^{[l]}}\n",
    "$$\n",
    "\n",
    "\n",
    "\n",
    "When the regularization term is added to the objective function $\\eqref{eq:l2regnn}$ you obtain from backpropagation $dW^{[l]}_{bp}$ with the regularization term added (which still ensures the validity of $dW^{[l]} = \\frac{\\partial J}{\\partial w^{[l]}}$):\n",
    "\n",
    "$$\n",
    "\\begin{aligned}\n",
    "dW^{[l]} & = dW^{[l]}_{bp} + \\overbrace{\\frac{\\lambda}{m}w^{[l]}}^\\text{regularization} \\\\\n",
    "w^{[l]}  : & = w^{[l]}- \\alpha \\left[ dW^{[l]}_{bp} + \\frac{\\lambda}{m} w^{[l]} \\right] \\\\\n",
    "& = w^{[l]}- \\frac{\\alpha \\lambda}{m} w^{[l]} - \\alpha \\cdot dW^{[l]}_{bp} \\\\\n",
    "& = w^{[l]} \\underbrace{\\left( 1-\\frac{\\alpha \\lambda}{m} \\right)}_\\text{weight decay regularization} - \\underbrace{\\alpha \\cdot dW^{[l]}_{bp}}_\\text{ordinary gradient descent}\n",
    "\\end{aligned}\n",
    "$$\n",
    "\n",
    "The term $w^{[l]} \\cdot \\left( 1-\\frac{\\alpha \\lambda}{m} \\right)$ contributes (together with the ordinary gradient descent term) to the update of $w^{[l]}$ by multiplying it by a term which is $< 1$: this is the reason why $L_2$ regularization is sometimes called **weight decay**."
   ]
  },
  {
   "cell_type": "markdown",
   "id": "russian-woman",
   "metadata": {},
   "source": [
    "### Why regularization prevents overfitting\n",
    "Let's see two ways of intuitively explain why regularization prevents (or reduces) overfitting.\n",
    "\n",
    "#### Canceling hidden units contribution\n",
    "\n",
    "A first way to imagine the effect of regularization on gradient descent is that of thinking of the *weight* of some hidden units in a network being very small and almost null. This simplify the architecture of the neural network rendering it able to represent simpler functions.\n",
    "\n",
    "Suppose we have a deep neural network as in <a href=\"#deepnn\">the figure below</a>"
   ]
  },
  {
   "cell_type": "code",
   "execution_count": 14,
   "id": "passive-taylor",
   "metadata": {
    "tags": [
     "remove_input"
    ]
   },
   "outputs": [
    {
     "data": {
      "image/png": "[encoded data removed]",
      "text/plain": [
       "<Figure size 432x288 with 1 Axes>"
      ]
     },
     "metadata": {
      "needs_background": "light"
     },
     "output_type": "display_data"
    }
   ],
   "source": [
    "ax, *_ = ann([3, 3, 3, 3, 1], height=.5)\n",
    "ax.set_aspect('equal')"
   ]
  },
  {
   "cell_type": "markdown",
   "id": "frank-syntax",
   "metadata": {},
   "source": [
    "<i id=\"deepnn\">A 4 layers neural network</i>\n",
    "\n",
    "When applying regularization we will add the term $\\frac{\\lambda}{2m} \\sum_{l=1}^L \\|w^{[l]}\\|^2$ to the cost function $J(w^{[l]}, b^{[l]})$. In this way we will increase the cost for high values of $w^{[l]}$ and bring gradient descent to reduce the values $w^{[l]}$.\n",
    "\n",
    "For a sufficiently high value of the regularization parameter $\\lambda$, we will have $w^{[l]} \\approx 0$. In turn, this will give $a^{[l]} \\approx 0$ for some nodes (<a href=\"#regdeepnn\">figure below</a>), reducing the complexity of the functions encoded by the neural network. "
   ]
  },
  {
   "cell_type": "code",
   "execution_count": 42,
   "id": "dutch-command",
   "metadata": {
    "tags": [
     "remove_input"
    ]
   },
   "outputs": [
    {
     "data": {
      "image/png": "[encoded data removed]",
      "text/plain": [
       "<Figure size 432x288 with 1 Axes>"
      ]
     },
     "metadata": {
      "needs_background": "light"
     },
     "output_type": "display_data"
    }
   ],
   "source": [
    "propagate = lambda l, n: list(chain.from_iterable([l]*n))\n",
    "\n",
    "ax, *_ = ann([3, 3, 3, 3, 1], height=.5, \n",
    "             node_colors=['k']*3 +propagate(['k', 'grey', 'grey'], 3), \n",
    "             edge_colors=propagate(['k']+['lightgrey']*2, 3) + propagate(['k']+['lightgrey']*8, 3))\n",
    "\n",
    "ax.set_aspect('equal')"
   ]
  },
  {
   "cell_type": "markdown",
   "id": "balanced-governor",
   "metadata": {},
   "source": [
    "<i id=\"#regdeepnn\">The effect of regularized gradient descent on the values of parameters ($w$) and hidden units ($a$), where lightgrey represents values $\\approx 0$</i>\n",
    "\n",
    "#### Forcing hidden units to linearity\n",
    "A second way to imagine the effect of regularization on gradient descent is that if thinking that, by reducing the values of the parameters $w$, regularized gradient descent forces the activation values $a$ to be linear.\n",
    "\n",
    "Suppose you have an hidden unit with activation function $g(z) = \\tanh(z)$. Having a sufficiently high regularization parameter $\\lambda$ implies that the values of the parameter matrix $w^{[l]}$ will deviate from extreme values and tend to 0. \n",
    "\n",
    "When the activation function (tanh in this case) is applied to $z$, since the latter falls in values close to 0, $g(z)$ will be mostly linear (<a hred=\"#lintanh\">figure below</a>). A combination of any number of linear hidden units will result in a linear model."
   ]
  },
  {
   "cell_type": "code",
   "execution_count": 122,
   "id": "utility-elite",
   "metadata": {
    "tags": [
     "remove_input"
    ]
   },
   "outputs": [
    {
     "data": {
      "image/png": "[encoded data removed]",
      "text/plain": [
       "<Figure size 432x288 with 1 Axes>"
      ]
     },
     "metadata": {},
     "output_type": "display_data"
    }
   ],
   "source": [
    "x = np.linspace(-4, 4)\n",
    "y = np.tanh(x)\n",
    "\n",
    "ax = plt.gca()\n",
    "ax.plot(x, y, label='non linear')\n",
    "\n",
    "ax.spines['left'].set_position('center')\n",
    "ax.spines['bottom'].set_position('center')\n",
    "ax.spines['right'].set_color('none')\n",
    "ax.spines['top'].set_color('none')\n",
    "ax.set_xticks([])\n",
    "ax.set_yticks([])\n",
    "ax.fill_between(x[21:29], np.ones(8), np.ones(8)*-1, alpha=.12, facecolor='r')\n",
    "ax.plot(x[21:29], y[21:29], c='r', label='linear')\n",
    "ax.legend();"
   ]
  },
  {
   "cell_type": "markdown",
   "id": "utility-anxiety",
   "metadata": {},
   "source": [
    "<i id=\"lintanh\">hyperboloid target function of the range of values (-4, 4) with the central, mostly linear, part highlighted in red</i>"
   ]
  }
 ],
 "metadata": {
  "kernelspec": {
   "display_name": "Python 3",
   "language": "python",
   "name": "python3"
  },
  "language_info": {
   "codemirror_mode": {
    "name": "ipython",
    "version": 3
   },
   "file_extension": ".py",
   "mimetype": "text/x-python",
   "name": "python",
   "nbconvert_exporter": "python",
   "pygments_lexer": "ipython3",
   "version": "3.9.1"
  }
 },
 "nbformat": 4,
 "nbformat_minor": 5
}
