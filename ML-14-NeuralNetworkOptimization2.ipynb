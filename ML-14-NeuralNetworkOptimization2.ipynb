{
 "cells": [
  {
   "cell_type": "markdown",
   "metadata": {},
   "source": [
    "---\n",
    "layout: default\n",
    "title: \"Neural Networks - Backpropagation 2\"\n",
    "categories: neuralNetwork\n",
    "permalink: /ML14/\n",
    "order: 14\n",
    "comments: true\n",
    "---"
   ]
  },
  {
   "cell_type": "code",
   "execution_count": 9,
   "metadata": {
    "tags": [
     "remove_cell"
    ]
   },
   "outputs": [
    {
     "name": "stdout",
     "output_type": "stream",
     "text": [
      "Populating the interactive namespace from numpy and matplotlib\n"
     ]
    }
   ],
   "source": [
    "%pylab --no-import-all inline\n",
    "from plot_ann import ann"
   ]
  },
  {
   "cell_type": "markdown",
   "metadata": {
    "tags": [
     "remove_cell"
    ]
   },
   "source": [
    "# Gradient checking\n",
    "Back-propagation is a tricky algorithm and sometimes a bugged implementation of it might still seem to work properly but it would not ensure a good minimization.\n",
    "\n",
    "In order to find out bugs in back-propagation a technique called **gradient checking** can be used.\n",
    "\n",
    "Until now we more or less accepted that provided formulas would compute the derivative of the cost function and numerical gradient checking gives us a method to verify that your implementation actually computes the derivative of the cost function $J(\\Theta)$.\n",
    "\n",
    "Suppose that out cost function looks like this and that $\\Theta \\in \\mathbb{R}$"
   ]
  },
  {
   "cell_type": "code",
   "execution_count": 3,
   "metadata": {
    "tags": [
     "remove_input"
    ]
   },
   "outputs": [
    {
     "data": {
      "image/png": "[encoded data removed]",
      "text/plain": [
       "<Figure size 432x288 with 1 Axes>"
      ]
     },
     "metadata": {
      "needs_background": "light"
     },
     "output_type": "display_data"
    }
   ],
   "source": [
    "x = np.linspace(-.1, .6, 13)\n",
    "\n",
    "fig, ax = plt.subplots()\n",
    "ax.plot(x, x**2, label='$J(\\\\theta)$')\n",
    "\n",
    "center = 5\n",
    "indexes = [center-1, center, center+1]\n",
    "labels = ['$\\\\theta-\\\\epsilon$', '$\\\\theta$', '$\\\\theta+\\\\epsilon$']\n",
    "for idx, label in zip(indexes, labels):\n",
    "    ax.plot(x[idx], x[idx]**2, marker='o', ls='none', label=label)\n",
    "\n",
    "xx = x[indexes[::2]]\n",
    "yy = xx**2\n",
    "ax.axline([xx[0], yy[0]], slope=np.diff(yy)[0]/np.diff(xx)[0],  c='C2', \n",
    "          label=r'$m=\\frac{y_2 - y_1}{x_2-x_1}$', ls='--')\n",
    "\n",
    "ax.legend(fontsize=13)\n",
    "ax.set_xticks(x[indexes])\n",
    "ax.set_xticklabels(labels)\n",
    "ax.set_yticks([]);"
   ]
  },
  {
   "cell_type": "markdown",
   "metadata": {},
   "source": [
    "If we want to estimate the derivative we will take $\\theta-\\epsilon$ and $\\theta+\\epsilon$ where $\\epsilon \\approx 0$ and we will compute the slope of the line passing per $\\theta-\\epsilon, \\theta+\\epsilon$\n",
    "\n",
    "$$\n",
    "\\frac{d}{d\\theta}\\approx\\frac{J(\\theta+\\epsilon)-J(\\theta - \\epsilon)}{2\\epsilon}\n",
    "$$\n",
    "\n",
    "For $\\epsilon$ small enough this numerical approximation becomes actually the derivative $\\frac{d}{d\\theta}$ but in order not to incurr in numerical problems we can use a $\\epsilon \\approx 10^{-4}$\n",
    "\n",
    "In the case of $\\theta \\in \\mathbb{R}^n$ we can use this strategy to check the gradient\n",
    "\n",
    "$$\n",
    "\\begin{align}\n",
    "& \\frac{\\partial}{\\partial\\theta_1}J(\\theta) \\approx \\frac{J(\\theta_1 + \\epsilon,\\theta_2,\\dots,\\theta_n) - J(\\theta_1-\\epsilon,\\theta_2,\\dots,\\theta_n)}{2\\epsilon}\\\\\n",
    "& \\frac{\\partial}{\\partial\\theta_2}J(\\theta) \\approx \\frac{J(\\theta_1, \\theta_2 + \\epsilon,\\dots,\\theta_n) - J(\\theta_1,\\theta_2-\\epsilon,\\dots,\\theta_n)}{2\\epsilon}\\\\\n",
    "& \\;\\; \\vdots \\\\\n",
    "& \\frac{\\partial}{\\partial\\theta_n}J(\\theta) \\approx \\frac{J(\\theta_1,\\theta_2,\\dots,\\theta_n + \\epsilon) - J(\\theta_1,\\theta_2,\\dots,\\theta_n-\\epsilon)}{2\\epsilon}\n",
    "\\end{align}\n",
    "$$"
   ]
  },
  {
   "cell_type": "markdown",
   "metadata": {},
   "source": [
    "# Random initialization\n",
    "When performing optimization (e.g. gradient descent) we need to choose some initial value for $\\Theta$ and it is possible to initialize $\\Theta$ to a vector of $0$. While this strategy works when using logistic regression it doesn't when training an ANN. Let's take the example of a simple ANN where $\\Theta_{ij}^{(l)}$ is set to $0$ for all $i, j, l$"
   ]
  },
  {
   "cell_type": "code",
   "execution_count": 4,
   "metadata": {
    "tags": [
     "remove_input"
    ]
   },
   "outputs": [
    {
     "data": {
      "image/png": "[encoded data removed]",
      "text/plain": [
       "<Figure size 432x288 with 1 Axes>"
      ]
     },
     "metadata": {
      "needs_background": "light"
     },
     "output_type": "display_data"
    }
   ],
   "source": [
    "ax, *_ = ann([3, 3, 1], radius=2, height=.5, node_colors=True, node_labels=True, node_lw=2, edge_from_center=True,\n",
    "             edge_colors=['C0']*2+['C3']*2+['C2']*2+['grey','C9','C9'], edge_lw=1.5, bias=True)\n",
    "ax.set_aspect('equal')"
   ]
  },
  {
   "cell_type": "markdown",
   "metadata": {},
   "source": [
    "This will result in both of the hidden units $\\color{blue}{a_1^{(2)}, a_2^{(2)}}$ will compute the same function of each input. This means that for every training example you will end up with $\\color{blue}{a_1^{(2)} = a_2^{(2)}}$ and it can be shown also that $\\color{blue}{\\delta_1^{(2)} = \\delta_2^{(2)}}$. Consequently \n",
    "\n",
    "$$\\color{blue}{\\frac{\\partial}{\\partial\\Theta_{01}^{(1)}}J(\\Theta)=\\frac{\\partial}{\\partial\\Theta_{02}^{(1)}}J(\\Theta)}$$ \n",
    "\n",
    "and this means that even after one gredient descent update $\\color{blue}{\\Theta_{01}^{(1)}=\\Theta_{02}^{(1)}}$. And the same goes for $\\color{red}{\\Theta_{01}^{(1)}=\\Theta_{02}^{(1)}}$ and $\\color{green}{\\Theta_{01}^{(1)}=\\Theta_{02}^{(1)}}$.\n",
    "\n",
    "In order to get around this proble an ANN is randomly initialized. Each $\\Theta_{ij}^{(l)}$ is initialized to a random value in $[-\\epsilon, \\epsilon]$\n",
    "\n",
    "The random initialization of parameters $W^{[1]}$ (`w1`) can be done as:"
   ]
  },
  {
   "cell_type": "code",
   "execution_count": 10,
   "metadata": {},
   "outputs": [
    {
     "data": {
      "text/plain": [
       "array([[0.00353591, 0.00491842, 0.00794126],\n",
       "       [0.00999681, 0.00271361, 0.00033436],\n",
       "       [0.00869346, 0.00907858, 0.00824595]])"
      ]
     },
     "execution_count": 10,
     "metadata": {},
     "output_type": "execute_result"
    }
   ],
   "source": [
    "constant = 0.01\n",
    "w1 = np.random.rand(3,3) * constant\n",
    "w1"
   ]
  },
  {
   "cell_type": "markdown",
   "metadata": {},
   "source": [
    "where `constant` is typically $0.01$, the reason being that if the wigths are too large, the activation function $a^{[1]}$ will output large values and gradient descent will be very slow.\n",
    "\n",
    "When training shallow neural networks `constant=0.01` is ok but when training deep neural networks you might want to chose different `constant`, but usually it wiil end up being a relatively small number."
   ]
  },
  {
   "cell_type": "code",
   "execution_count": null,
   "metadata": {},
   "outputs": [],
   "source": []
  }
 ],
 "metadata": {
  "kernelspec": {
   "display_name": "Python 3",
   "language": "python",
   "name": "python3"
  },
  "language_info": {
   "codemirror_mode": {
    "name": "ipython",
    "version": 3
   },
   "file_extension": ".py",
   "mimetype": "text/x-python",
   "name": "python",
   "nbconvert_exporter": "python",
   "pygments_lexer": "ipython3",
   "version": "3.8.5"
  }
 },
 "nbformat": 4,
 "nbformat_minor": 4
}
