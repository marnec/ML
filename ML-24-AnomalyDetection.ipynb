{
 "cells": [
  {
   "cell_type": "markdown",
   "id": "developmental-geography",
   "metadata": {},
   "source": [
    "---\n",
    "layout: default\n",
    "title: \"Anomaly Detection\"\n",
    "categories: anomaly\n",
    "permalink: /ML24/\n",
    "order: 24\n",
    "comments: true\n",
    "---"
   ]
  },
  {
   "cell_type": "code",
   "execution_count": 126,
   "id": "southern-lexington",
   "metadata": {
    "tags": [
     "remove_cell"
    ]
   },
   "outputs": [
    {
     "name": "stdout",
     "output_type": "stream",
     "text": [
      "Populating the interactive namespace from numpy and matplotlib\n"
     ]
    }
   ],
   "source": [
    "%pylab --no-import-all inline\n",
    "plt.rcParams[\"mathtext.fontset\"] = \"cm\"\n",
    "from scipy.signal import gaussian\n",
    "import seaborn as sns"
   ]
  },
  {
   "cell_type": "markdown",
   "id": "valuable-convertible",
   "metadata": {},
   "source": [
    "# Anomaly Detection\n",
    "Anomaly detection describes a class of problems that many consider unsupervised but also have some aspect of supervised problems.\n",
    "\n",
    "Anomaly detection is best explained through an example: suppose you are a aircraft engine manufacturer and, as part of your quality assurance testing, you measure a set of features of your manufactured engines. For this example the heat generated $x_1$ and the vibration intensity $x_2$.\n",
    "\n",
    "The results of your measurements is a dataset $\\left \\lbrace x^{(1)}, x^{(2)}, \\ldots, x^{(m)} \\right \\rbrace$ (<a href=\"#engines\">figure below</a>)"
   ]
  },
  {
   "cell_type": "code",
   "execution_count": 28,
   "id": "generic-cabinet",
   "metadata": {
    "tags": [
     "remove_input"
    ]
   },
   "outputs": [],
   "source": [
    "mu, sigma = 0, 0.01 # mean and standard deviation\n",
    "data = np.random.default_rng().normal(mu, sigma, (50, 2))"
   ]
  },
  {
   "cell_type": "code",
   "execution_count": 39,
   "id": "molecular-idaho",
   "metadata": {
    "tags": [
     "remove_input"
    ]
   },
   "outputs": [
    {
     "data": {
      "image/png": "[encoded data removed]",
      "text/plain": [
       "<Figure size 432x288 with 1 Axes>"
      ]
     },
     "metadata": {},
     "output_type": "display_data"
    }
   ],
   "source": [
    "fig, ax = plt.subplots()\n",
    "ax.scatter(*data.T)\n",
    "ax.set_aspect('equal')\n",
    "ax.set_xticks([])\n",
    "ax.set_yticks([])\n",
    "ax.set_xlabel('$x_1$', fontsize=13)\n",
    "ax.set_ylabel('$x_2$', fontsize=13)\n",
    "ax.scatter(.05, 0, label='$x_\\\\mathrm{test}$')\n",
    "ax.legend(fontsize=13);"
   ]
  },
  {
   "cell_type": "markdown",
   "id": "northern-counter",
   "metadata": {},
   "source": [
    "<i id=\"engines\">Results of quality assurance measurements performed on newly manufactured engines plotted in their features space $x_1, x_2$ and a new engine $x_\\text{test}$</i>\n",
    "\n",
    "Given a new example $x_\\text{test}$, anomaly detection tries to answer the question: is the new example anomalous in any way?\n",
    "\n",
    "In order to answer this question we are going to build a model of the probability of $x$ to be in a specific point of the feature space $p(x)$; If $p(x_\\text{test}) < \\varepsilon$ we will flag it as an anomaly (where $\\varepsilon$ is a small number)."
   ]
  },
  {
   "cell_type": "markdown",
   "id": "blank-spirituality",
   "metadata": {},
   "source": [
    "## Gaussian Distribution\n",
    "Suppose $x \\in \\mathbb{R}$. If $x$ distributes as a Gaussian distributions with mean $\\mu$ and variance $\\sigma^2$, it means that its distributes resembles that in <a href=\"#gaussian\">the figure below</a>."
   ]
  },
  {
   "cell_type": "code",
   "execution_count": 231,
   "id": "extraordinary-specification",
   "metadata": {
    "tags": [
     "remove_input"
    ]
   },
   "outputs": [
    {
     "data": {
      "image/png": "[encoded data removed]",
      "text/plain": [
       "<Figure size 432x288 with 1 Axes>"
      ]
     },
     "metadata": {
      "needs_background": "light"
     },
     "output_type": "display_data"
    }
   ],
   "source": [
    "fig, ax = plt.subplots()\n",
    "ax.plot(np.linspace(-.5, .5, 100), gaussian(100, std=10));\n",
    "ax.set_title(r'$x \\approx \\mathcal{N}(\\mu, \\sigma^2)$', fontsize=15)\n",
    "ax.set_xticks([0])\n",
    "ax.set_yticks([])\n",
    "ax.set_xticklabels(['$\\\\mu$'], fontsize=13)\n",
    "ax.annotate(text='', xy=(0.0, .6), xytext=(0.1, .6), arrowprops=dict(arrowstyle='<->'))\n",
    "ax.text(0.05, .6, '$\\sigma$', va='top', ha='center', fontsize=13);"
   ]
  },
  {
   "cell_type": "markdown",
   "id": "official-funeral",
   "metadata": {},
   "source": [
    "<i id=\"gaussian\">Gaussian distribution with mean $\\mu$ and variance $\\sigma^2$</i>\n",
    "\n",
    "The function of the Gaussian distribution is\n",
    "\n",
    "$$\n",
    "p(x;\\mu, \\sigma^2)=\\frac{1}{\\sigma \\sqrt{2 \\pi}}  \\left( - \\frac{(x-\\mu)^2}{2\\sigma^2} \\right)\n",
    "$$"
   ]
  },
  {
   "cell_type": "markdown",
   "id": "minimal-serum",
   "metadata": {},
   "source": [
    "## Parameter estimation\n",
    "Suppose you have a dataset $\\lbrace x^{(1)}, x^{(2)}, \\ldots, x^{(m)} \\rbrace$ with $x^{(i)} \\in \\mathbb{R}$ (<a href=\"#paramestim\">figure below</a>) and you suspect that they are Gaussian distributed with each $x^{(i)} \\approx \\mathcal{N}(\\mu, \\sigma^2)$ but I don't know the values of the two parameters $\\mu$ and $\\sigma^2$"
   ]
  },
  {
   "cell_type": "code",
   "execution_count": 106,
   "id": "informed-expert",
   "metadata": {
    "tags": [
     "remove_input"
    ]
   },
   "outputs": [],
   "source": [
    "x = np.random.default_rng().normal(0, .1, 50)"
   ]
  },
  {
   "cell_type": "code",
   "execution_count": 147,
   "id": "transparent-princeton",
   "metadata": {
    "tags": [
     "remove_input"
    ]
   },
   "outputs": [
    {
     "data": {
      "image/png": "[encoded data removed]",
      "text/plain": [
       "<Figure size 432x288 with 1 Axes>"
      ]
     },
     "metadata": {},
     "output_type": "display_data"
    }
   ],
   "source": [
    "fig, ax = plt.subplots()\n",
    "ax.scatter(x, np.zeros_like(x))\n",
    "ax.set_xticks([])\n",
    "ax.set_yticks([])\n",
    "ax.set_xlabel('$x$', fontsize=13)\n",
    "ax.set_ylim(-0.1, 1.1)\n",
    "ax.plot(np.linspace(-.5, .5, 100), gaussian(100, std=10));"
   ]
  },
  {
   "cell_type": "markdown",
   "id": "joint-apparel",
   "metadata": {},
   "source": [
    "<i id=\"paramestim\">Data distributed on the $x$ axis and their Gaussian density estimation</i>\n",
    "\n",
    "The parameters can be estimated from $x$, we will have\n",
    "\n",
    "$$\n",
    "\\mu= \\frac{1}{m} \\sum^m_{i=1}x^{(i)}  \\qquad \\qquad \\sigma^2 = \\frac{1}{m}\\sum^m_{i=1}(x^{(i)} - \\mu)^2\n",
    "$$"
   ]
  },
  {
   "cell_type": "markdown",
   "id": "binding-button",
   "metadata": {},
   "source": [
    "## Anomaly detection algorithm\n",
    "Given a $m \\times n$ training set $x \\in \\mathbb{R}^n$\n",
    "\n",
    "The anomaly detection algorithm requires that parameters are fitted **for each feature $x_j$**:\n",
    "\n",
    "$$\n",
    "\\mu_j= \\frac{1}{m} \\sum^m_{i=1}x_j^{(i)}  \\qquad \\qquad \\sigma_j^2 = \\frac{1}{m}\\sum^m_{i=1}(x_j^{(i)} - \\mu_j)^2\n",
    "$$\n",
    "\n",
    "Then, Given a  new example $x$, compute $p(x)$:\n",
    "\n",
    "$$\n",
    "\\begin{align}\n",
    "p(x) & = p(x_1; \\mu_1,\\sigma^2_1)p(x_2; \\mu_2,\\sigma^2_2),\\ldots,p(x_n; \\mu_n,\\sigma^2_n) \\\\\n",
    "& = \\prod^n_{j=1}p(x_j; \\mu_j,\\sigma^2_j) \\\\\n",
    "& = \\prod^n_{j=1}\\frac{1}{\\sigma_j \\sqrt{2 \\pi}}  \\left( - \\frac{(x_j-\\mu_j)^2}{2\\sigma_j^2} \\right)\n",
    "\\end{align}\n",
    "$$\n",
    "\n",
    "### Evaluation\n",
    "Anomaly detection algorithm can be evaluated with a confusion matrix given that some anomalous data is included in the training, in the test and cross-validation sets. The number of anomalous examples can be very small (e.g. 1:1000) but it is useful when evaluating.\n",
    "\n",
    "Evaluation on test / cross-validation set can the be based on the raw numbers of the confusion matrix, on precision/recall or $F_1$-Score metrics.\n",
    "\n",
    "The cross-validations set can be used to choose the parameter $\\varepsilon$"
   ]
  },
  {
   "cell_type": "markdown",
   "id": "binding-finland",
   "metadata": {},
   "source": [
    "## Anomaly Detection vs Supervised Learning\n",
    "In order to evaluate an anomaly detection model we need some labeled data. Then why don't we use a supervised classification algorithm to detect anomalous data points?\n",
    "\n",
    "|           | Anomaly detection                                                                                                                                                                                                                                | Supervised learning                                                                                                                                                                      |\n",
    "|-----------|--------------------------------------------------------------------------------------------------------------------------------------------------------------------------------------------------------------------------------------------------|------------------------------------------------------------------------------------------------------------------------------------------------------------------------------------------|\n",
    "| Imbalance | Commonly, you have a very small number of positive examples (0-20) and  a large number of negative examples.                                                                                                                                     | You have a large number of positive and negative examples                                                                                                                                |\n",
    "| Coverage  | There may be many different types of anomalies. It may be hard for any algorithm to learn from positive examples what do the anomalies look like. Furthermore, future anomalies may look nothing like any anomalous example in the training set. | You have enough positive examples for an algorithm to get a sense of what positive examples are like; future positive examples are likely to be similar to the ones in the training set. |\n",
    "\n",
    "## Selecting Features for anomaly detection\n",
    "The choice of features included in an anomaly detection model heavily impact its performance.\n",
    "\n",
    "The most common problem that we want to overcome and is caused by a sub-optimal choice of the features is that $p(x)$ assumes comparable values for normal and anomalous examples.\n",
    "\n",
    "Usually the best procedure to choose features is by an error analysis, which is best explained in the <a href=\"#erroranalysis\">figure below</a>"
   ]
  },
  {
   "cell_type": "code",
   "execution_count": 247,
   "id": "sensitive-scotland",
   "metadata": {
    "tags": [
     "remove_input"
    ]
   },
   "outputs": [
    {
     "data": {
      "image/png": "[encoded data removed]",
      "text/plain": [
       "<Figure size 720x288 with 2 Axes>"
      ]
     },
     "metadata": {
      "needs_background": "light"
     },
     "output_type": "display_data"
    }
   ],
   "source": [
    "x1, x2 = np.random.default_rng().normal(0, .1, (2, 50))\n",
    "\n",
    "fig, [ax1, ax2] = plt.subplots(1, 2, figsize=(10, 4))\n",
    "\n",
    "a = [.1, .5]\n",
    "ax1.scatter(x1, np.zeros_like(x1), clip_on=False)\n",
    "ax1.scatter(a[0], 0, clip_on=False)\n",
    "ax1.set_ylim(0, .6)\n",
    "ax1.set_xlim(-.6, .6)\n",
    "ax1.spines['top'].set_visible(False)\n",
    "ax1.spines['right'].set_visible(False)\n",
    "ax1.spines['left'].set_visible(False)\n",
    "#ax1.spines['bottom'].set_position('center')\n",
    "ax1.set_yticks([])\n",
    "ax1.set_xlabel('$x_1$', fontsize=13)\n",
    "\n",
    "ax2.scatter(x1, x2)\n",
    "ax2.scatter(*a)\n",
    "ax2.set_xlim(-.6, .6)\n",
    "ax2.set_ylim(-.6, .6)\n",
    "ax2.set_xlabel('$x_1$', fontsize=13)\n",
    "ax2.set_ylabel('$x_2$', fontsize=13);"
   ]
  },
  {
   "cell_type": "markdown",
   "id": "protecting-success",
   "metadata": {},
   "source": [
    "<i id=\"erroranalysis\">An anomalous example not detected with a single feature $x_1$ and correctly detected in the feature space $x_1, x_2$</i>\n",
    "\n",
    "A good practice in choosing features is to choose or combine features so that they take on unusually large or small values in the event of an anomaly.\n",
    "\n",
    "## Non-Gaussian features\n",
    "Even if a feature has not a Gaussian distribution (<a href=\"#gaussbetadist\">figure below</a>), usually the algorithm works fine. However, usually the algorithm will work better if non-Gaussian data is **transformed to Gaussian**."
   ]
  },
  {
   "cell_type": "code",
   "execution_count": 210,
   "id": "grateful-russell",
   "metadata": {
    "tags": [
     "remove_input"
    ]
   },
   "outputs": [
    {
     "data": {
      "image/png": "[encoded data removed]",
      "text/plain": [
       "<Figure size 720x216 with 3 Axes>"
      ]
     },
     "metadata": {
      "needs_background": "light"
     },
     "output_type": "display_data"
    }
   ],
   "source": [
    "fig, axes = plt.subplots(1, 3, figsize=(10, 3))\n",
    "ax1, ax2, ax3 = axes\n",
    "\n",
    "g = np.random.default_rng().normal(0, .1, 10000)\n",
    "b = np.random.default_rng().beta(2, 5, 10000)\n",
    "t = b**.5\n",
    "\n",
    "titles = [\n",
    "    \"$x \\\\in \\\\mathcal{N}$\",\n",
    "    \"$x \\\\in \\\\mathcal{B}$\",\n",
    "    \"$\\\\sqrt{x}$\"\n",
    "]\n",
    "\n",
    "for ax, dist, l, t in zip(axes, [g, b, t], ['A', 'B', 'C'], titles):\n",
    "    ax.hist(dist, bins=30, edgecolor='k', density=True)\n",
    "    ax.set_xlabel('$x$', fontsize=13)\n",
    "    ax.text(-0.1, 1.1, l, transform=ax.transAxes,\n",
    "      fontsize=14, va='top', ha='right')\n",
    "    ax.set_title(t, fontsize=14)"
   ]
  },
  {
   "cell_type": "markdown",
   "id": "closing-michael",
   "metadata": {},
   "source": [
    "<i id=\"gaussbetadist\">Histogram of data drawn from a Gaussian (A) and Beta (B) distributions and from the Beta distribution transformed to Gaussian (C)</i>"
   ]
  }
 ],
 "metadata": {
  "kernelspec": {
   "display_name": "Python 3",
   "language": "python",
   "name": "python3"
  },
  "language_info": {
   "codemirror_mode": {
    "name": "ipython",
    "version": 3
   },
   "file_extension": ".py",
   "mimetype": "text/x-python",
   "name": "python",
   "nbconvert_exporter": "python",
   "pygments_lexer": "ipython3",
   "version": "3.9.1"
  }
 },
 "nbformat": 4,
 "nbformat_minor": 5
}
