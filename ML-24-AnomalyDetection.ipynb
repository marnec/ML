{
 "cells": [
  {
   "cell_type": "markdown",
   "id": "aging-titanium",
   "metadata": {},
   "source": [
    "---\n",
    "layout: default\n",
    "title: \"Anomaly Detection\"\n",
    "categories: anomaly\n",
    "permalink: /ML24/\n",
    "order: 24\n",
    "comments: true\n",
    "---"
   ]
  },
  {
   "cell_type": "code",
   "execution_count": 126,
   "id": "nominated-regulation",
   "metadata": {
    "tags": [
     "remove_cell"
    ]
   },
   "outputs": [
    {
     "name": "stdout",
     "output_type": "stream",
     "text": [
      "Populating the interactive namespace from numpy and matplotlib\n"
     ]
    }
   ],
   "source": [
    "%pylab --no-import-all inline\n",
    "plt.rcParams[\"mathtext.fontset\"] = \"cm\"\n",
    "from scipy.signal import gaussian\n",
    "import seaborn as sns"
   ]
  },
  {
   "cell_type": "markdown",
   "id": "floating-entrance",
   "metadata": {},
   "source": [
    "# Anomaly Detection\n",
    "Anomaly detection describes a class of problems that many consider unsupervised but also have some aspect of supervised problems.\n",
    "\n",
    "Anomaly detection is best explained through an example: suppose you are a aircraft engine manufacturer and, as part of your quality assurance testing, you measure a set of features of your manufactured engines. For this example the heat generated $x_1$ and the vibration intensity $x_2$.\n",
    "\n",
    "The results of your measurements is a dataset $\\left \\lbrace x^{(1)}, x^{(2)}, \\ldots, x^{(m)} \\right \\rbrace$ (<a href=\"#engines\">figure below</a>)"
   ]
  },
  {
   "cell_type": "code",
   "execution_count": 28,
   "id": "latest-surname",
   "metadata": {
    "tags": [
     "remove_input"
    ]
   },
   "outputs": [],
   "source": [
    "mu, sigma = 0, 0.01 # mean and standard deviation\n",
    "data = np.random.default_rng().normal(mu, sigma, (50, 2))"
   ]
  },
  {
   "cell_type": "code",
   "execution_count": 39,
   "id": "acting-storm",
   "metadata": {
    "tags": [
     "remove_input"
    ]
   },
   "outputs": [
    {
     "data": {
      "image/png": "[encoded data removed]",
      "text/plain": [
       "<Figure size 432x288 with 1 Axes>"
      ]
     },
     "metadata": {},
     "output_type": "display_data"
    }
   ],
   "source": [
    "fig, ax = plt.subplots()\n",
    "ax.scatter(*data.T)\n",
    "ax.set_aspect('equal')\n",
    "ax.set_xticks([])\n",
    "ax.set_yticks([])\n",
    "ax.set_xlabel('$x_1$', fontsize=13)\n",
    "ax.set_ylabel('$x_2$', fontsize=13)\n",
    "ax.scatter(.05, 0, label='$x_\\\\mathrm{test}$')\n",
    "ax.legend(fontsize=13);"
   ]
  },
  {
   "cell_type": "markdown",
   "id": "meaningful-acquisition",
   "metadata": {},
   "source": [
    "<i id=\"engines\">Results of quality assurance measurements performed on newly manufactured engines plotted in their features space $x_1, x_2$ and a new engine $x_\\text{test}$</i>\n",
    "\n",
    "Given a new example $x_\\text{test}$, anomaly detection tries to answer the question: is the new example anomalous in any way?\n",
    "\n",
    "In order to answer this question we are going to build a model of the probability of $x$ to be in a specific point of the feature space $p(x)$; If $p(x_\\text{test}) < \\varepsilon$ we will flag it as an anomaly (where $\\varepsilon$ is a small number)."
   ]
  },
  {
   "cell_type": "markdown",
   "id": "wrapped-illness",
   "metadata": {},
   "source": [
    "## Gaussian Distribution\n",
    "Suppose $x \\in \\mathbb{R}$. If $x$ distributes as a Gaussian distributions with mean $\\mu$ and variance $\\sigma^2$, it means that its distributes resembles that in <a href=\"#gaussian\">the figure below</a>."
   ]
  },
  {
   "cell_type": "code",
   "execution_count": 79,
   "id": "unlimited-acoustic",
   "metadata": {
    "tags": [
     "remove_input"
    ]
   },
   "outputs": [],
   "source": [
    "y = np.random.default_rng().normal(0, .1, 100000)"
   ]
  },
  {
   "cell_type": "code",
   "execution_count": 98,
   "id": "whole-taste",
   "metadata": {
    "tags": [
     "remove_input"
    ]
   },
   "outputs": [
    {
     "data": {
      "image/png": "[encoded data removed]",
      "text/plain": [
       "<Figure size 432x288 with 1 Axes>"
      ]
     },
     "metadata": {
      "needs_background": "light"
     },
     "output_type": "display_data"
    }
   ],
   "source": [
    "ax = sns.kdeplot(y)\n",
    "ax.set_title(r'$x \\approx \\mathcal{N}(\\mu, \\sigma^2)$', fontsize=15)\n",
    "ax.set_xticks([0])\n",
    "ax.set_yticks([])\n",
    "ax.set_xticklabels(['$\\\\mu$'], fontsize=13)\n",
    "plt.annotate(text='', xy=(0.0,2.6), xytext=(0.1,2.6), arrowprops=dict(arrowstyle='<->'))\n",
    "ax.text(0.05, 2.5, '$\\sigma$', va='top', ha='center', fontsize=13);"
   ]
  },
  {
   "cell_type": "markdown",
   "id": "demographic-mirror",
   "metadata": {},
   "source": [
    "<i id=\"gaussian\">Kernel density plot calculated from 100,000 points randomly drawn from a Gaussian distribution with mean $\\mu$ and variance $\\sigma^2$</i>\n",
    "\n",
    "The function of the Gaussian distribution is\n",
    "\n",
    "$$\n",
    "p(x;\\mu, \\sigma^2)=\\frac{1}{\\sigma \\sqrt{2 \\pi}}  \\left( - \\frac{(x-\\mu)^2}{2\\sigma^2} \\right)\n",
    "$$"
   ]
  },
  {
   "cell_type": "markdown",
   "id": "forward-wholesale",
   "metadata": {},
   "source": [
    "## Parameter estimation\n",
    "Suppose you have a dataset $\\lbrace x^{(1)}, x^{(2)}, \\ldots, x^{(m)} \\rbrace$ with $x^{(i)} \\in \\mathbb{R}$ (<a href=\"#paramestim\">figure below</a>) and you suspect that they are Gaussian distributed with each $x^{(i)} \\approx \\mathcal{N}(\\mu, \\sigma^2)$ but I don't know the values of the two parameters $\\mu$ and $\\sigma^2$"
   ]
  },
  {
   "cell_type": "code",
   "execution_count": 106,
   "id": "liberal-edinburgh",
   "metadata": {
    "tags": [
     "remove_input"
    ]
   },
   "outputs": [],
   "source": [
    "x = np.random.default_rng().normal(0, .1, 50)"
   ]
  },
  {
   "cell_type": "code",
   "execution_count": 147,
   "id": "moderate-input",
   "metadata": {
    "tags": [
     "remove_input"
    ]
   },
   "outputs": [
    {
     "data": {
      "image/png": "[encoded data removed]",
      "text/plain": [
       "<Figure size 432x288 with 1 Axes>"
      ]
     },
     "metadata": {},
     "output_type": "display_data"
    }
   ],
   "source": [
    "fig, ax = plt.subplots()\n",
    "ax.scatter(x, np.zeros_like(x))\n",
    "ax.set_xticks([])\n",
    "ax.set_yticks([])\n",
    "ax.set_xlabel('$x$', fontsize=13)\n",
    "ax.set_ylim(-0.1, 1.1)\n",
    "ax.plot(np.linspace(-.5, .5, 100), gaussian(100, std=10));"
   ]
  },
  {
   "cell_type": "markdown",
   "id": "green-mention",
   "metadata": {},
   "source": [
    "<i id=\"paramestim\">Data distributed on the $x$ axis and their Gaussian density estimation</i>\n",
    "\n",
    "The parameters can be estimated from $x$, we will have\n",
    "\n",
    "$$\n",
    "\\mu= \\frac{1}{m} \\sum^m_{i=1}x^{(i)}  \\qquad \\qquad \\sigma^2 = \\frac{1}{m}\\sum^m_{i=1}(x^{(i)} - \\mu)^2\n",
    "$$"
   ]
  },
  {
   "cell_type": "markdown",
   "id": "specified-andorra",
   "metadata": {},
   "source": [
    "## Anomaly detection algorithm\n",
    "Given a $m \\times n$ training set $x \\in \\mathbb{R}^n$\n",
    "\n",
    "The anomaly detection algorithm requires that parameters are fitted **for each feature $x_j$**:\n",
    "\n",
    "$$\n",
    "\\mu_j= \\frac{1}{m} \\sum^m_{i=1}x_j^{(i)}  \\qquad \\qquad \\sigma_j^2 = \\frac{1}{m}\\sum^m_{i=1}(x_j^{(i)} - \\mu_j)^2\n",
    "$$\n",
    "\n",
    "Then, Given a  new example $x$, compute $p(x)$:\n",
    "\n",
    "$$\n",
    "\\begin{align}\n",
    "p(x) & = p(x_1; \\mu_1,\\sigma^2_1)p(x_2; \\mu_2,\\sigma^2_2),\\ldots,p(x_n; \\mu_n,\\sigma^2_n) \\\\\n",
    "& = \\prod^n_{j=1}p(x_j; \\mu_j,\\sigma^2_j) \\\\\n",
    "& = \\prod^n_{j=1}\\frac{1}{\\sigma_j \\sqrt{2 \\pi}}  \\left( - \\frac{(x_j-\\mu_j)^2}{2\\sigma_j^2} \\right)\n",
    "\\end{align}\n",
    "$$"
   ]
  },
  {
   "cell_type": "code",
   "execution_count": null,
   "id": "surprising-harris",
   "metadata": {},
   "outputs": [],
   "source": []
  }
 ],
 "metadata": {
  "kernelspec": {
   "display_name": "Python 3",
   "language": "python",
   "name": "python3"
  },
  "language_info": {
   "codemirror_mode": {
    "name": "ipython",
    "version": 3
   },
   "file_extension": ".py",
   "mimetype": "text/x-python",
   "name": "python",
   "nbconvert_exporter": "python",
   "pygments_lexer": "ipython3",
   "version": "3.9.1"
  }
 },
 "nbformat": 4,
 "nbformat_minor": 5
}
