{
 "cells": [
  {
   "cell_type": "markdown",
   "metadata": {},
   "source": [
    "---\n",
    "layout: default\n",
    "title: \"System design - Error for skewed classes\"\n",
    "categories: design\n",
    "permalink: /ML17/\n",
    "order: 17\n",
    "comments: true\n",
    "---"
   ]
  },
  {
   "cell_type": "code",
   "execution_count": 27,
   "metadata": {
    "tags": [
     "remove_cell"
    ]
   },
   "outputs": [
    {
     "name": "stdout",
     "output_type": "stream",
     "text": [
      "Populating the interactive namespace from numpy and matplotlib\n"
     ]
    }
   ],
   "source": [
    "%pylab --no-import-all inline\n",
    "import pandas as pd\n",
    "from scipy.stats import hmean"
   ]
  },
  {
   "cell_type": "markdown",
   "metadata": {},
   "source": [
    "# Error metrics for skewed classes\n",
    "Of particular importance is correctly evaluating a learning algorithm wen classes are unbalanced (skewed)\n",
    "\n",
    "Consider a problem where we have to tell if patients have or don't have cancer based on a set of input features.\n",
    "\n",
    "We train a logistic regression model $h_\\theta(x)$ where $y=1$ means that the patient has cancer, $y=0$ means that he/she doesn't.\n",
    "\n",
    "We then find that the learning algorithm has $1\\%$ error on the test set, in other words it outputs $99\\%$ of correct diagnoses.\n",
    "\n",
    "This may look impressive at a first glance but it doesn't anymore if we add a new piece of information: only $0.50\\%$ of patients have cancer.\n",
    "\n",
    "This means that a non-learning algorithm that always outputs $0$ will have $0.50\\%$ error.\n",
    "\n",
    "When one class in our dataset is much more abundant than the other(s) we have a case of dataset unbalance and we say that the classes are skewed. In this cases using classification error may lead to false deductions and is in general a good practice.\n",
    "\n",
    "## Precision/Recall\n",
    "When we are dealing with skewed classes we can use the couple of metrics **precision** and **recall**.\n",
    "\n",
    "These metrics comes from the count of correct and incorrect classification of a learning algorithm on a test set. For the case of our cancer classifier (and for all binary classifiers) classifications will fall in one of four cases, summarized in the **confusion matrix**."
   ]
  },
  {
   "cell_type": "code",
   "execution_count": 4,
   "metadata": {
    "tags": [
     "remove_input"
    ]
   },
   "outputs": [
    {
     "data": {
      "text/html": [
       "<style  type=\"text/css\" >\n",
       "</style><table id=\"T_e80b819c_66ef_11eb_bb2f_40a3cc65d4e3\" ><caption>Scheme of the contingency table for the binary case, called a confusion matrix</caption><thead>    <tr>        <th class=\"blank\" ></th>        <th class=\"blank level0\" ></th>        <th class=\"col_heading level0 col0\" colspan=2>Actual class</th>    </tr>    <tr>        <th class=\"blank\" ></th>        <th class=\"blank level1\" ></th>        <th class=\"col_heading level1 col0\" >1</th>        <th class=\"col_heading level1 col1\" >0</th>    </tr></thead><tbody>\n",
       "                <tr>\n",
       "                        <th id=\"T_e80b819c_66ef_11eb_bb2f_40a3cc65d4e3level0_row0\" class=\"row_heading level0 row0\" rowspan=2>Predicted class</th>\n",
       "                        <th id=\"T_e80b819c_66ef_11eb_bb2f_40a3cc65d4e3level1_row0\" class=\"row_heading level1 row0\" >1</th>\n",
       "                        <td id=\"T_e80b819c_66ef_11eb_bb2f_40a3cc65d4e3row0_col0\" class=\"data row0 col0\" >True positive</td>\n",
       "                        <td id=\"T_e80b819c_66ef_11eb_bb2f_40a3cc65d4e3row0_col1\" class=\"data row0 col1\" >False positive</td>\n",
       "            </tr>\n",
       "            <tr>\n",
       "                                <th id=\"T_e80b819c_66ef_11eb_bb2f_40a3cc65d4e3level1_row1\" class=\"row_heading level1 row1\" >0</th>\n",
       "                        <td id=\"T_e80b819c_66ef_11eb_bb2f_40a3cc65d4e3row1_col0\" class=\"data row1 col0\" >False negative</td>\n",
       "                        <td id=\"T_e80b819c_66ef_11eb_bb2f_40a3cc65d4e3row1_col1\" class=\"data row1 col1\" >True negative</td>\n",
       "            </tr>\n",
       "    </tbody></table>"
      ],
      "text/plain": [
       "<pandas.io.formats.style.Styler at 0x7f8df0f75470>"
      ]
     },
     "execution_count": 4,
     "metadata": {},
     "output_type": "execute_result"
    }
   ],
   "source": [
    "cm = pd.DataFrame([['True positive', 'False positive'], ['False negative', 'True negative']])\n",
    "cm.index = pd.MultiIndex.from_product([['Predicted class'], cm.index[::-1]])\n",
    "cm.columns = pd.MultiIndex.from_product([['Actual class'], cm.columns[::-1]])\n",
    "cm.style.set_caption('Scheme of the contingency table for the binary case, called a confusion matrix')"
   ]
  },
  {
   "cell_type": "markdown",
   "metadata": {},
   "source": [
    "Starting from this tool we can compute precision and recall:\n",
    "\n",
    "### Precision\n",
    "Precision answer the question: how many of the selected cases are relevant? To apply it to the cancer classifier it would be: Of all the patients for which $y=1$, what fraction actually has cancer? It is calculated as:\n",
    "\n",
    "$$\n",
    "\\frac{\\text{#True positives}}{\\text{#Predicted positives}} = \\frac{\\text{#True positives}}{\\text{#True positives} + \\text{#False positives}}\n",
    "$$"
   ]
  },
  {
   "cell_type": "markdown",
   "metadata": {},
   "source": [
    "### Recall\n",
    "Recall answer the question: how many of the relevant cases are selected? To apply it to the cancer classifier it would be: Of all the patients that actually have cancer, what fraction did we correctly detect?\n",
    "\n",
    "$$\n",
    "\\frac{\\text{#True positives}}{\\text{#Actual positives}} = \\frac{\\text{#True positives}}{\\text{#True positives} + \\text{#False negatives}}\n",
    "$$"
   ]
  },
  {
   "cell_type": "markdown",
   "metadata": {},
   "source": [
    "### Trading off precision for recall\n",
    "Let's say that we have trained a logistic regression algorithm $0 \\geq h_\\theta(x) \\geq 1$ and we predict:\n",
    "\n",
    "$$\n",
    "y=\n",
    "\\begin{cases}\n",
    "1 \\quad \\text{if } & h_\\theta(x) \\geq 0.5 \\\\\n",
    "0 \\quad \\text{if } & h_\\theta(x) < 0.5\n",
    "\\end{cases}\n",
    "$$\n",
    "\n",
    "Since telling a patient that he/she has cancer may cause a great chock in him/her, we want to give this news only if we are very confident of the prediction. So we may want to increase the threshold:\n",
    "\n",
    "$$\n",
    "y=\n",
    "\\begin{cases}\n",
    "1 \\quad \\text{if } & h_\\theta(x) \\geq 0.9 \\\\\n",
    "0 \\quad \\text{if } & h_\\theta(x) < 0.9\n",
    "\\end{cases}\n",
    "$$\n",
    "\n",
    "This way we will attain higher precision but lower recall. However now we want to avoid missing to many cases of actual cancer, in this case we may want to lower the threshold:\n",
    "\n",
    "$$\n",
    "y=\n",
    "\\begin{cases}\n",
    "1 \\quad \\text{if } & h_\\theta(x) \\geq 0.3 \\\\\n",
    "0 \\quad \\text{if } & h_\\theta(x) < 0.3\n",
    "\\end{cases}\n",
    "$$\n",
    "\n",
    "And we will attain higher recall but lower precision.\n",
    "\n",
    "In general by lowering the threshold we will trade off precision for recall and if we were to plot recall and precision for a number of possible threshold values we would have something like <a href=\"#prerec\">the figure below</a>:"
   ]
  },
  {
   "cell_type": "code",
   "execution_count": 16,
   "metadata": {
    "tags": [
     "remove_input"
    ]
   },
   "outputs": [
    {
     "data": {
      "image/png": "[encoded data removed]",
      "text/plain": [
       "<Figure size 432x288 with 1 Axes>"
      ]
     },
     "metadata": {},
     "output_type": "display_data"
    }
   ],
   "source": [
    "fig, ax = plt.subplots()\n",
    "ax.plot(-(np.linspace(0, 1)**2))\n",
    "ax.set_xticks([])\n",
    "ax.set_yticks([])\n",
    "ax.set_xlabel('Recall')\n",
    "ax.set_ylabel('Precision');"
   ]
  },
  {
   "cell_type": "markdown",
   "metadata": {},
   "source": [
    "<i id=\"prerec\">An ideal precision-recall curve for decreasing values of threshold (lef-to-right) applied to a logistic regression output scores compared to the actual classes.</i>\n",
    "\n",
    "### A single metric F1-Score\n",
    "Precision and recall are reliable metrics that complement each other in telling the performance of a learning algorithm. But how do we compare precision and recall? \n",
    "\n",
    "In the table below we have the values of precision and recall for three versions of an algorithm, and we would like to have a single number to compare the performance between them."
   ]
  },
  {
   "cell_type": "code",
   "execution_count": 21,
   "metadata": {
    "tags": [
     "remove_input"
    ]
   },
   "outputs": [
    {
     "data": {
      "text/html": [
       "<div>\n",
       "<style scoped>\n",
       "    .dataframe tbody tr th:only-of-type {\n",
       "        vertical-align: middle;\n",
       "    }\n",
       "\n",
       "    .dataframe tbody tr th {\n",
       "        vertical-align: top;\n",
       "    }\n",
       "\n",
       "    .dataframe thead th {\n",
       "        text-align: right;\n",
       "    }\n",
       "</style>\n",
       "<table border=\"1\" class=\"dataframe\">\n",
       "  <thead>\n",
       "    <tr style=\"text-align: right;\">\n",
       "      <th></th>\n",
       "      <th>Precision</th>\n",
       "      <th>Recall</th>\n",
       "    </tr>\n",
       "  </thead>\n",
       "  <tbody>\n",
       "    <tr>\n",
       "      <th>Algorithm 1</th>\n",
       "      <td>0.50</td>\n",
       "      <td>0.4</td>\n",
       "    </tr>\n",
       "    <tr>\n",
       "      <th>Algorithm 2</th>\n",
       "      <td>0.70</td>\n",
       "      <td>0.1</td>\n",
       "    </tr>\n",
       "    <tr>\n",
       "      <th>Algorithm 3</th>\n",
       "      <td>0.02</td>\n",
       "      <td>1.0</td>\n",
       "    </tr>\n",
       "  </tbody>\n",
       "</table>\n",
       "</div>"
      ],
      "text/plain": [
       "             Precision  Recall\n",
       "Algorithm 1       0.50     0.4\n",
       "Algorithm 2       0.70     0.1\n",
       "Algorithm 3       0.02     1.0"
      ]
     },
     "execution_count": 21,
     "metadata": {},
     "output_type": "execute_result"
    }
   ],
   "source": [
    "df = pd.DataFrame(zip(*[[0.5, 0.7, 0.02], [0.4, 0.1, 1.0]]), columns=['Precision', 'Recall'], index=['Algorithm 1', 'Algorithm 2', 'Algorithm 3'])\n",
    "df"
   ]
  },
  {
   "cell_type": "markdown",
   "metadata": {},
   "source": [
    "We could simply take the average of precision and recall $\\left(\\frac{P+R}{2}\\right)$, but this would not be a good strategy for extremes values of the scores. Suppose we have an algorithm predicting $y=1$ all the time (like algorithm 3), it would have very low precision but that would be balanced by a very high recall and it would come out as the best of the three algorithms."
   ]
  },
  {
   "cell_type": "code",
   "execution_count": 26,
   "metadata": {
    "tags": [
     "remove_input"
    ]
   },
   "outputs": [
    {
     "data": {
      "text/html": [
       "<div>\n",
       "<style scoped>\n",
       "    .dataframe tbody tr th:only-of-type {\n",
       "        vertical-align: middle;\n",
       "    }\n",
       "\n",
       "    .dataframe tbody tr th {\n",
       "        vertical-align: top;\n",
       "    }\n",
       "\n",
       "    .dataframe thead th {\n",
       "        text-align: right;\n",
       "    }\n",
       "</style>\n",
       "<table border=\"1\" class=\"dataframe\">\n",
       "  <thead>\n",
       "    <tr style=\"text-align: right;\">\n",
       "      <th></th>\n",
       "      <th>Precision</th>\n",
       "      <th>Recall</th>\n",
       "      <th>Average</th>\n",
       "    </tr>\n",
       "  </thead>\n",
       "  <tbody>\n",
       "    <tr>\n",
       "      <th>Algorithm 1</th>\n",
       "      <td>0.50</td>\n",
       "      <td>0.4</td>\n",
       "      <td>0.45</td>\n",
       "    </tr>\n",
       "    <tr>\n",
       "      <th>Algorithm 2</th>\n",
       "      <td>0.70</td>\n",
       "      <td>0.1</td>\n",
       "      <td>0.40</td>\n",
       "    </tr>\n",
       "    <tr>\n",
       "      <th>Algorithm 3</th>\n",
       "      <td>0.02</td>\n",
       "      <td>1.0</td>\n",
       "      <td>0.51</td>\n",
       "    </tr>\n",
       "  </tbody>\n",
       "</table>\n",
       "</div>"
      ],
      "text/plain": [
       "             Precision  Recall  Average\n",
       "Algorithm 1       0.50     0.4     0.45\n",
       "Algorithm 2       0.70     0.1     0.40\n",
       "Algorithm 3       0.02     1.0     0.51"
      ]
     },
     "execution_count": 26,
     "metadata": {},
     "output_type": "execute_result"
    }
   ],
   "source": [
    "df = df.assign(Average=df.mean(axis=1))\n",
    "df"
   ]
  },
  {
   "cell_type": "markdown",
   "metadata": {},
   "source": [
    "A different way to combine precision and recall is the $F_1$ Score is the harmonic mean between precision and recall $\\left(2\\frac{PR}{P+R}\\right)$ and it's very sensitive to extreme values of precision and recall so that if either one of them is $\\approx 0$, also $F_1$ Score will be $\\approx 0$"
   ]
  },
  {
   "cell_type": "code",
   "execution_count": 32,
   "metadata": {
    "tags": [
     "remove_input"
    ]
   },
   "outputs": [
    {
     "data": {
      "text/html": [
       "<div>\n",
       "<style scoped>\n",
       "    .dataframe tbody tr th:only-of-type {\n",
       "        vertical-align: middle;\n",
       "    }\n",
       "\n",
       "    .dataframe tbody tr th {\n",
       "        vertical-align: top;\n",
       "    }\n",
       "\n",
       "    .dataframe thead th {\n",
       "        text-align: right;\n",
       "    }\n",
       "</style>\n",
       "<table border=\"1\" class=\"dataframe\">\n",
       "  <thead>\n",
       "    <tr style=\"text-align: right;\">\n",
       "      <th></th>\n",
       "      <th>Precision</th>\n",
       "      <th>Recall</th>\n",
       "      <th>Average</th>\n",
       "      <th>$F_1$ Score</th>\n",
       "    </tr>\n",
       "  </thead>\n",
       "  <tbody>\n",
       "    <tr>\n",
       "      <th>Algorithm 1</th>\n",
       "      <td>0.50</td>\n",
       "      <td>0.4</td>\n",
       "      <td>0.45</td>\n",
       "      <td>0.444</td>\n",
       "    </tr>\n",
       "    <tr>\n",
       "      <th>Algorithm 2</th>\n",
       "      <td>0.70</td>\n",
       "      <td>0.1</td>\n",
       "      <td>0.40</td>\n",
       "      <td>0.175</td>\n",
       "    </tr>\n",
       "    <tr>\n",
       "      <th>Algorithm 3</th>\n",
       "      <td>0.02</td>\n",
       "      <td>1.0</td>\n",
       "      <td>0.51</td>\n",
       "      <td>0.039</td>\n",
       "    </tr>\n",
       "  </tbody>\n",
       "</table>\n",
       "</div>"
      ],
      "text/plain": [
       "             Precision  Recall  Average  $F_1$ Score\n",
       "Algorithm 1       0.50     0.4     0.45        0.444\n",
       "Algorithm 2       0.70     0.1     0.40        0.175\n",
       "Algorithm 3       0.02     1.0     0.51        0.039"
      ]
     },
     "execution_count": 32,
     "metadata": {},
     "output_type": "execute_result"
    }
   ],
   "source": [
    "df.assign(**{'$F_1$ Score': hmean(df.iloc[:, :-1], axis=1).round(3)})"
   ]
  },
  {
   "cell_type": "markdown",
   "metadata": {},
   "source": [
    "When measuring performance of a learning algorithm at different thresholds, you should use the **cross validation set** to pick the threshold that maximizes $F_1$ Score (if that's the optimization metric of your choice)."
   ]
  }
 ],
 "metadata": {
  "kernelspec": {
   "display_name": "Python 3",
   "language": "python",
   "name": "python3"
  },
  "language_info": {
   "codemirror_mode": {
    "name": "ipython",
    "version": 3
   },
   "file_extension": ".py",
   "mimetype": "text/x-python",
   "name": "python",
   "nbconvert_exporter": "python",
   "pygments_lexer": "ipython3",
   "version": "3.9.1"
  }
 },
 "nbformat": 4,
 "nbformat_minor": 4
}
