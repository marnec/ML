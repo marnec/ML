{
 "cells": [
  {
   "cell_type": "markdown",
   "id": "f8d1e36b",
   "metadata": {},
   "source": [
    "---\n",
    "layout: default\n",
    "categories: logisticRegression\n",
    "title: \"Neural network - Implementations\"\n",
    "permalink: /ML17.5/\n",
    "order: 17.5\n",
    "comments: true\n",
    "---"
   ]
  },
  {
   "cell_type": "code",
   "execution_count": 45,
   "id": "8e9a63b5",
   "metadata": {
    "tags": [
     "remove_cell"
    ]
   },
   "outputs": [
    {
     "name": "stdout",
     "output_type": "stream",
     "text": [
      "Populating the interactive namespace from numpy and matplotlib\n"
     ]
    }
   ],
   "source": [
    "%reset -f\n",
    "%pylab --no-import-all inline\n",
    "from types import SimpleNamespace\n",
    "\n",
    "import torch\n",
    "import torch.nn as nn\n",
    "import torchvision.datasets as dsets\n",
    "import torchvision.transforms as transforms\n",
    "from plot_ann import ann"
   ]
  },
  {
   "cell_type": "markdown",
   "id": "f6416df8",
   "metadata": {},
   "source": [
    "Once again we are using [MNIST dataset](https://en.wikipedia.org/wiki/MNIST_database) as in <a href=\"page:ML7.5\">ML-7.5</a>. \n",
    "\n",
    "This time around, instead of getting them as PIL images to then manually convert them to tensors, we are exploiting the `transform` argument of the datasets objects [[Datasets](https://pytorch.org/vision/stable/datasets.html)]. \n",
    "\n",
    "We are passing the `transforms.toTensor()` method that converts a PIL Image or `numpy.ndarray` (H x W x C) in the range [0, 255] to a `torch.FloatTensor` of shape (C x H x W) in the range [0.0, 1.0] [[Transforms](https://pytorch.org/vision/stable/transforms.html)]."
   ]
  },
  {
   "cell_type": "code",
   "execution_count": 46,
   "id": "13ba61e0",
   "metadata": {},
   "outputs": [],
   "source": [
    "train_dataset = dsets.MNIST(\n",
    "    root=\"./data\", train=True, transform=transforms.ToTensor(), download=True\n",
    ")\n",
    "\n",
    "test_dataset = dsets.MNIST(root=\"./data\", train=False, transform=transforms.ToTensor())"
   ]
  },
  {
   "cell_type": "code",
   "execution_count": 47,
   "id": "e1a856ab",
   "metadata": {},
   "outputs": [
    {
     "data": {
      "text/plain": [
       "Dataset MNIST\n",
       "    Number of datapoints: 60000\n",
       "    Root location: ./data\n",
       "    Split: Train\n",
       "    StandardTransform\n",
       "Transform: ToTensor()"
      ]
     },
     "execution_count": 47,
     "metadata": {},
     "output_type": "execute_result"
    }
   ],
   "source": [
    "train_dataset"
   ]
  },
  {
   "cell_type": "code",
   "execution_count": 48,
   "id": "da17bbae",
   "metadata": {},
   "outputs": [
    {
     "data": {
      "text/plain": [
       "60000"
      ]
     },
     "execution_count": 48,
     "metadata": {},
     "output_type": "execute_result"
    }
   ],
   "source": [
    "len(train_dataset)"
   ]
  },
  {
   "cell_type": "markdown",
   "id": "41c1f086",
   "metadata": {},
   "source": [
    "The MNIST training set consists of 60000 images but we don't want to train the algorithm as a single batch. Instead, as discussed in <a href=\"page:ML29\">ML-29</a> we are going to train the algorithm on mini-batches of the original training set. \n",
    "\n",
    "Given that we want to set batch size $m_b=128$ images and the number of epochs $=5$ we will have $60000/m_b \\approx 468$ images per batch. This means that in 5 epochs the algorithm will have $2343$ training iterations"
   ]
  },
  {
   "cell_type": "code",
   "execution_count": 49,
   "id": "97d13ce3-d8d0-4110-84a3-bd6451df5468",
   "metadata": {},
   "outputs": [
    {
     "data": {
      "text/plain": [
       "2343"
      ]
     },
     "execution_count": 49,
     "metadata": {},
     "output_type": "execute_result"
    }
   ],
   "source": [
    "batch_size = 128\n",
    "epochs = 5\n",
    "iterations = epochs * len(train_dataset) // batch_size\n",
    "iterations"
   ]
  },
  {
   "cell_type": "markdown",
   "id": "c64c4274-6f98-480e-9d6e-48839afe83f8",
   "metadata": {},
   "source": [
    "Let's make the dataset iteratble with the `DataLoader`"
   ]
  },
  {
   "cell_type": "code",
   "execution_count": 50,
   "id": "ae18e177",
   "metadata": {},
   "outputs": [],
   "source": [
    "train_loader = torch.utils.data.DataLoader(\n",
    "    dataset=train_dataset, batch_size=batch_size, shuffle=True\n",
    ")\n",
    "\n",
    "test_loader = torch.utils.data.DataLoader(\n",
    "    dataset=test_dataset, batch_size=batch_size, shuffle=False\n",
    ")"
   ]
  },
  {
   "cell_type": "markdown",
   "id": "17e5fcc2-b7d8-477e-b92c-0b7218a4257d",
   "metadata": {},
   "source": [
    "Compared to the logistic regression architecture, which is composed by a single linear layer to which is applied a Cross Entropy Loss function (that applies non-linearity and computes the cross-entropy), an FNN is composed of additional linear layer and non-linear layers."
   ]
  },
  {
   "cell_type": "code",
   "execution_count": 51,
   "id": "06fc1a5d-148e-4633-9626-9f88cf2d9476",
   "metadata": {
    "tags": [
     "remove_input"
    ]
   },
   "outputs": [
    {
     "data": {
      "image/png": "[encoded data removed]",
      "text/plain": [
       "<Figure size 432x288 with 1 Axes>"
      ]
     },
     "metadata": {
      "needs_background": "light"
     },
     "output_type": "display_data"
    }
   ],
   "source": [
    "architecture = [4, 4, 10]\n",
    "ax, _, _ = ann(\n",
    "    architecture,\n",
    "    node_colors=list(\"kkwk\" * 2),\n",
    "    node_labels=[\"\", \"\", \"$\\\\vdots$\", \"\"] * 2,\n",
    "    edge_colors=list(\"kkwk\" * 2 + \"wwww\" + \"kkwk\" + \"k\" * 20 + \"w\" * 10 + \"k\" * 10),\n",
    "    layer_labels=[784, 100, 10],\n",
    ")\n",
    "ax.set_aspect(\"equal\")"
   ]
  },
  {
   "cell_type": "markdown",
   "id": "d2260ebf-71f1-455b-a977-292d9d61d6cc",
   "metadata": {},
   "source": [
    "Our model architecture will be:"
   ]
  },
  {
   "cell_type": "code",
   "execution_count": 52,
   "id": "6f1ebcfe",
   "metadata": {},
   "outputs": [],
   "source": [
    "class FeedforwardNeuralNetModel(nn.Module):\n",
    "    def __init__(self, input_dim, hidden_dim, output_dim):\n",
    "        super(FeedforwardNeuralNetModel, self).__init__()\n",
    "        # Linear function\n",
    "        self.fc1 = nn.Linear(input_dim, hidden_dim)\n",
    "\n",
    "        # Non-linearity\n",
    "        self.sigmoid = nn.Sigmoid()\n",
    "\n",
    "        # Linear function (readout)\n",
    "        self.fc2 = nn.Linear(hidden_dim, output_dim)\n",
    "\n",
    "    def forward(self, x):\n",
    "        # Linear function  # LINEAR\n",
    "        out = self.fc1(x)\n",
    "\n",
    "        # Non-linearity  # NON-LINEAR\n",
    "        out = self.sigmoid(out)\n",
    "\n",
    "        # Linear function (readout)  # LINEAR\n",
    "        out = self.fc2(out)\n",
    "        return out"
   ]
  },
  {
   "cell_type": "markdown",
   "id": "a3b2681f-da53-4bac-80b7-64600d094186",
   "metadata": {},
   "source": [
    "MNIST dataset is composed of images of $28 \\times 28$ pixel. Each one of these images are encoded in a vector $x^{(i)} \\in \\mathbb{R}^{28\\cdot28}$ , which will be mapped on a hidden layer and then on the output layer. The output layer must encode for 10 output classes and it is therefore a vector  $ \\hat{y}^{(i)} \\in \\mathbb{R}^{10}$. The hidden layer can have any dimension we want, in this case we decide to have 100 hidden units, so that the input vector will be mapped to a vector $x^{(i)[1]} \\in \\mathbb{R}^{100}$"
   ]
  },
  {
   "cell_type": "code",
   "execution_count": 53,
   "id": "ff4abd72",
   "metadata": {},
   "outputs": [],
   "source": [
    "input_dim = 28 * 28\n",
    "hidden_dim = 100\n",
    "output_dim = 10\n",
    "\n",
    "model = FeedforwardNeuralNetModel(input_dim, hidden_dim, output_dim)"
   ]
  },
  {
   "cell_type": "markdown",
   "id": "eac99195-deff-4400-916c-c3dc71ac5058",
   "metadata": {},
   "source": [
    "The Loss function $\\mathcal{L}$ of our choice is [Cross entropy loss](https://en.wikipedia.org/wiki/Cross_entropy)"
   ]
  },
  {
   "cell_type": "code",
   "execution_count": 54,
   "id": "3a1b62bb",
   "metadata": {},
   "outputs": [],
   "source": [
    "criterion = nn.CrossEntropyLoss()"
   ]
  },
  {
   "cell_type": "markdown",
   "id": "70374055-ed48-4c7a-8a15-4b9f0cd58a37",
   "metadata": {},
   "source": [
    "Learning rate is the speed at which the algorithm learns, setting it too high would result gradient descent being unable to land on the minimum loss, while setting it to small would result in a very slow learning process"
   ]
  },
  {
   "cell_type": "code",
   "execution_count": 55,
   "id": "9210cea8",
   "metadata": {},
   "outputs": [],
   "source": [
    "learning_rate = 0.1\n",
    "\n",
    "optimizer = torch.optim.SGD(model.parameters(), lr=learning_rate)"
   ]
  },
  {
   "cell_type": "markdown",
   "id": "17a3c31a-3904-4e70-bdec-71e15f8bd444",
   "metadata": {},
   "source": [
    "We are ready to start the training process\n",
    "\n",
    "For each epoch we expoit the `DataLoader` to iterate over mini-batches. Then for each mini-batch\n",
    "\n",
    "1. we compute the model output `model(images)` for the images in the mini-batch\n",
    "2. we compute the distance $\\mathcal{L}$ `criterion(outputs, labels)` between predictions and labels\n",
    "3. we compute the gradient that will bring us closer to the labels `loss.backward()`\n",
    "4. we update the parameters in the direction indicated by the gradients `optimizer.step()`"
   ]
  },
  {
   "cell_type": "code",
   "execution_count": 56,
   "id": "4770a54b",
   "metadata": {},
   "outputs": [
    {
     "name": "stdout",
     "output_type": "stream",
     "text": [
      "Iteration: 500. Loss: 0.6400718688964844. Accuracy: 0.8641999959945679\n",
      "Iteration: 1000. Loss: 0.43419456481933594. Accuracy: 0.8948000073432922\n",
      "Iteration: 1500. Loss: 0.4028102457523346. Accuracy: 0.9046000242233276\n",
      "Iteration: 2000. Loss: 0.20865440368652344. Accuracy: 0.9110000133514404\n"
     ]
    }
   ],
   "source": [
    "iter = 0\n",
    "losses = []\n",
    "accuracies = []\n",
    "for epoch in range(epochs):\n",
    "    for i, (images, labels) in enumerate(train_loader):\n",
    "        # Load images with gradient accumulation capabilities\n",
    "        images = images.view(-1, 28 * 28).requires_grad_()\n",
    "\n",
    "        # Clear gradients w.r.t. parameters\n",
    "        optimizer.zero_grad()\n",
    "\n",
    "        # Forward pass to get output/logits\n",
    "        outputs = model(images)\n",
    "\n",
    "        # Calculate Loss: softmax --> cross entropy loss\n",
    "        loss = criterion(outputs, labels)\n",
    "\n",
    "        # Getting gradients w.r.t. parameters\n",
    "        loss.backward()\n",
    "\n",
    "        # Updating parameters\n",
    "        optimizer.step()\n",
    "\n",
    "        iter += 1\n",
    "        losses.append(loss.item())\n",
    "\n",
    "        if iter % 500 == 0:\n",
    "            # Calculate Accuracy\n",
    "            correct = 0\n",
    "            total = 0\n",
    "            # Iterate through test dataset\n",
    "            for images, labels in test_loader:\n",
    "                # Load images with gradient accumulation capabilities\n",
    "                images = images.view(-1, 28 * 28).requires_grad_()\n",
    "\n",
    "                # Forward pass only to get logits/output\n",
    "                outputs = model(images)\n",
    "\n",
    "                # Get predictions from the maximum value\n",
    "                _, predicted = torch.max(outputs.data, 1)\n",
    "\n",
    "                # Total number of labels\n",
    "                total += labels.size(0)\n",
    "\n",
    "                # Total correct predictions\n",
    "                correct += (predicted == labels).sum()\n",
    "                accuracy = correct / total\n",
    "                accuracies.append(accuracy)\n",
    "\n",
    "            # Print Loss\n",
    "            print(\n",
    "                \"Iteration: {}. Loss: {}. Accuracy: {}\".format(\n",
    "                    iter, loss.item(), accuracy\n",
    "                )\n",
    "            )"
   ]
  },
  {
   "cell_type": "markdown",
   "id": "4ff6e383-b1c7-4f80-b2cf-87956c2b2870",
   "metadata": {},
   "source": [
    "We can optionally store the values of $\\mathcal{L}$ at each iteration to later plot its progress"
   ]
  },
  {
   "cell_type": "code",
   "execution_count": 58,
   "id": "d5a57e3d",
   "metadata": {},
   "outputs": [
    {
     "data": {
      "image/png": "[encoded data removed]",
      "text/plain": [
       "<Figure size 432x288 with 1 Axes>"
      ]
     },
     "metadata": {
      "needs_background": "light"
     },
     "output_type": "display_data"
    }
   ],
   "source": [
    "plt.plot(losses);"
   ]
  }
 ],
 "metadata": {
  "interpreter": {
   "hash": "f0344aa6bb741773153b79614bab9aa384dbdb1a602f4f9ffd8e5b5f90405a24"
  },
  "kernelspec": {
   "display_name": "ML",
   "language": "python",
   "name": "ml"
  },
  "language_info": {
   "codemirror_mode": {
    "name": "ipython",
    "version": 3
   },
   "file_extension": ".py",
   "mimetype": "text/x-python",
   "name": "python",
   "nbconvert_exporter": "python",
   "pygments_lexer": "ipython3",
   "version": "3.8.10"
  }
 },
 "nbformat": 4,
 "nbformat_minor": 5
}
