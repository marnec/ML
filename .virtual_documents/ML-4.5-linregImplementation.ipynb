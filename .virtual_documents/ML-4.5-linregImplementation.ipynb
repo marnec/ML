get_ipython().run_line_magic("pylab", " --no-import-all inline")
import matplotlib_inline.backend_inline
matplotlib_inline.backend_inline.set_matplotlib_formats('svg')
plt.rcParams["mathtext.fontset"] = "cm"


import pandas as pd


df = pd.read_csv('./data/house_pricing.csv')
df.head()


xy = df.values.T
X = xy[:-1].T
y = xy[-1]


X[:5]


y[:5].reshape(-1, 1)


X_simple = X[:, 0]
X_simple


X_simple = X_simple.reshape(-1, 1)
X_simple[:5]


from sklearn.linear_model import LinearRegression


linreg = LinearRegression()


linreg = linreg.fit(X_simple, y)


linreg.coef_, linreg.intercept_


fig, ax = plt.subplots()
ax.plot(X_simple, y, ls='none', marker='o')
px = np.linspace(1000, 5000)
ax.plot(px, linreg.predict(px.reshape(-1, 1)))
ax.set_title(f'$\\hat{{y}}={linreg.coef_[0]:.2f} \cdot x '
             f'+ {linreg.intercept_:.2f}$', fontsize=16);


from sklearn.model_selection import train_test_split
X_train, X_test, y_train, y_test = train_test_split(X, y, test_size=0.33)


linreg = LinearRegression().fit(X_train, y_train)


linreg.coef_, linreg.intercept_


y_pred = linreg.predict(X_test)
y_pred


from sklearn.metrics import explained_variance_score
explained_variance_score(y_test, y_pred)


import torch


X_tensor = torch.tensor(X, dtype=torch.float32)
X_tensor[:5]


y_tensor = torch.tensor(y, dtype=torch.float32).unsqueeze(-1)
y_tensor[:5]


X_tensor_norm = (X_tensor - X_tensor.mean()) / torch.sqrt(X_tensor.var())
X_tensor_norm[:5]


model = torch.nn.Linear(2, 1)


epochs = 10
alpha = 0.01
loss_func = torch.nn.MSELoss()
optim = torch.optim.SGD(model.parameters(), lr=alpha)


from torch.autograd import Variable

for epoch in range(epochs):
    inputs = Variable(X_tensor_norm)
    labels = Variable(y_tensor)
    # Clear gradient buffers because from previous epoch
    optim.zero_grad()
    # get output from the model, given the inputs
    outputs = model(inputs)
    # get loss for the predicted output
    loss = loss_func(outputs, labels)
    # get gradients w.r.t to parameters
    loss.backward()
    # update parameters
    optim.step()
    print('epoch {}, loss {}'.format(epoch, loss.item()))


model(inputs)[:5]


# from pl_bolts.models.regression import LinearRegression
# import pytorch_lightning as pl
# from pl_bolts.datamodules import SklearnDataModule

# loaders = SklearnDataModule(X_tensor_norm.numpy(), y_tensor.numpy(), num_workers=4)
# model = LinearRegression(input_dim=2, bias=True)
# trainer = pl.Trainer()
# trainer.fit(model, train_dataloader=loaders.train_dataloader(), val_dataloaders=loaders.val_dataloader())
# trainer.test(test_dataloaders=loaders.test_dataloader())
