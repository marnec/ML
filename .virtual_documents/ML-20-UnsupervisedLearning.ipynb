get_ipython().run_line_magic("pylab", " --no-import-all inline")
plt.rcParams["mathtext.fontset"] = "cm"
from sklearn.cluster import KMeans


scale = .25
p1, p2 = np.random.rand(2, 5, 2) * scale
fig, ax = plt.subplots()
p2 += scale*2
ax.scatter(*np.r_[p1, p2].T, c='C0')
ax.set_xticks([])
ax.set_yticks([])
ax.set_xlabel('$x_2$', fontsize=13)
ax.set_ylabel('$x_1$', fontsize=13);
for p in [p1, p2]:
    ax.add_artist(plt.Circle(p.mean(axis=0), scale, facecolor='none', edgecolor='C2'))
ax.set_aspect('equal')
ax.set_xlim(-scale, 1)
ax.set_ylim(-scale, 1);


p1, p2 = np.random.rand(2, 15, 2) * scale
fig, ax = plt.subplots()
p2 += scale
colors = ['C1', 'C2']
ax.scatter(*np.r_[p1, p2].T, c='C0', alpha=.5)
cs = np.array([[.1, .4], [.4, .1]])
ax.scatter(*cs.T, c=['C1', 'C2'], marker='x');


fig, axes = plt.subplots(1, 2, figsize=(8, 4))
points = np.r_[p1, p2]
c1, c2 = cs
d = lambda a, b: np.linalg.norm(b-a, axis=1)
cidx = np.argmin(np.vstack([d(c1, points), d(c2, points)]).T, axis=1)
for ax, l in zip(axes, ['A', 'B']):
    ax.scatter(*np.r_[p1, p2].T, c=[colors[i] for i in cidx], alpha=.5)
    ax.scatter(*cs.T, c=['C1', 'C2'], marker='x')
    ax.scatter(*cs.T, c=['C1', 'C2'], marker='x')
    ax.set_xticks([])
    ax.set_yticks([])
    ax.set_xlabel('$x_1$', fontsize=13)
    ax.set_ylabel('$x_2$', fontsize=13)
    ax.text(-0.1, 1.15, l, transform=ax.transAxes,
      fontsize=14, va='top', ha='right')
    ax.set_aspect('equal')
axes[0].set_title('Cluster assignement')

pc1 = points[np.invert(cidx.astype(bool))].mean(axis=0)
pc2 = points[cidx.astype(bool)].mean(axis=0)

arr_opts = dict(length_includes_head=True, head_width=.01)
axes[1].arrow(*c1, *pc1-c1, **arr_opts, color='C1')
axes[1].arrow(*c2, *pc2-c2, **arr_opts, color='C2')
axes[1].set_title('Centroid positioning');


noise = np.random.rand(30, 2) -.5
x = np.linspace(0, 4, 30) 
y = x + noise[:, 1]
x = x + noise[:, 0]

fig, ax = plt.subplots()

kmeans = KMeans(n_clusters=3, random_state=0).fit(np.c_[x, y])
colors = ['C1', 'C2', 'C3']
ax.scatter(*kmeans.cluster_centers_.T, c=colors, marker='x')
ax.scatter(x,y, marker='o', c=[colors[l] for l in kmeans.labels_], alpha=.5)
ax.set_xticks([])
ax.set_yticks([])
ax.set_xlabel('Height')
ax.set_ylabel('Weight');


fig, axes = plt.subplots(1, 2, figsize=(10, 4), sharey=True)
x = np.arange(1, 9) + np.array([0] + [10]*7)
axes[0].plot(np.arange(1, 9), -np.log(x), marker='o')
axes[0].annotate('elbow', (2, -np.log(12)), np.array([2, -np.log(12)])+1, 
           arrowprops=dict(arrowstyle="->",
                            connectionstyle="angle3,angleA=0,angleB=-90"))
x = np.arange(1, 9)
axes[1].plot(x, -np.log(x), marker='o')
for ax, l in zip(axes, ['A', 'B']):
    ax.text(-0.1, 1.15, l, transform=ax.transAxes,
      fontsize=14, va='top', ha='right')
    ax.set_yticks([])
    ax.set_xlabel('$K$ (# clusters)', fontsize=13)
    ax.set_ylabel('$J$ (Cost)', fontsize=13);
