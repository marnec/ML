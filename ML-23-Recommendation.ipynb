{
 "cells": [
  {
   "cell_type": "markdown",
   "id": "statutory-customer",
   "metadata": {},
   "source": [
    "---\n",
    "layout: default\n",
    "title: \"Recommendation systems\"\n",
    "categories: recommender\n",
    "permalink: /ML23/\n",
    "order: 23\n",
    "comments: true\n",
    "---"
   ]
  },
  {
   "cell_type": "code",
   "execution_count": 4,
   "id": "logical-security",
   "metadata": {
    "tags": [
     "remove_cell"
    ]
   },
   "outputs": [
    {
     "name": "stdout",
     "output_type": "stream",
     "text": [
      "Populating the interactive namespace from numpy and matplotlib\n"
     ]
    },
    {
     "name": "stderr",
     "output_type": "stream",
     "text": [
      "/home/marnec/.local/lib/python3.9/site-packages/pandas/compat/__init__.py:97: UserWarning: Could not import the lzma module. Your installed Python is incomplete. Attempting to use lzma compression will result in a RuntimeError.\n",
      "  warnings.warn(msg)\n"
     ]
    }
   ],
   "source": [
    "%pylab --no-import-all inline\n",
    "plt.rcParams[\"mathtext.fontset\"] = \"cm\"\n",
    "import pandas as pd"
   ]
  },
  {
   "cell_type": "markdown",
   "id": "metric-amazon",
   "metadata": {},
   "source": [
    "# Recommendation algorithms\n",
    "Recommender systems are somehow ignored in academia but very hot in industry\n",
    "\n",
    "Suppose you have a dataset like the one in the table below, with the number of users $n_u=4$ and the number of movies $n_m=5$. "
   ]
  },
  {
   "cell_type": "code",
   "execution_count": 26,
   "id": "treated-organizer",
   "metadata": {
    "tags": [
     "remove_input"
    ]
   },
   "outputs": [
    {
     "data": {
      "text/html": [
       "<style  type=\"text/css\" >\n",
       "</style><table id=\"T_75bb3_\" ><caption>Table 1 - Ratings of 5 movies assigned by 4 users</caption><thead>    <tr>        <th class=\"blank level0\" ></th>        <th class=\"col_heading level0 col0\" >Alice</th>        <th class=\"col_heading level0 col1\" >Bob</th>        <th class=\"col_heading level0 col2\" >Carol</th>        <th class=\"col_heading level0 col3\" >Dave</th>    </tr></thead><tbody>\n",
       "                <tr>\n",
       "                        <th id=\"T_75bb3_level0_row0\" class=\"row_heading level0 row0\" >Love at last</th>\n",
       "                        <td id=\"T_75bb3_row0_col0\" class=\"data row0 col0\" >5.0</td>\n",
       "                        <td id=\"T_75bb3_row0_col1\" class=\"data row0 col1\" >5.0</td>\n",
       "                        <td id=\"T_75bb3_row0_col2\" class=\"data row0 col2\" >0.0</td>\n",
       "                        <td id=\"T_75bb3_row0_col3\" class=\"data row0 col3\" >0.0</td>\n",
       "            </tr>\n",
       "            <tr>\n",
       "                        <th id=\"T_75bb3_level0_row1\" class=\"row_heading level0 row1\" >Romance forever</th>\n",
       "                        <td id=\"T_75bb3_row1_col0\" class=\"data row1 col0\" >5.0</td>\n",
       "                        <td id=\"T_75bb3_row1_col1\" class=\"data row1 col1\" >nan</td>\n",
       "                        <td id=\"T_75bb3_row1_col2\" class=\"data row1 col2\" >nan</td>\n",
       "                        <td id=\"T_75bb3_row1_col3\" class=\"data row1 col3\" >0.0</td>\n",
       "            </tr>\n",
       "            <tr>\n",
       "                        <th id=\"T_75bb3_level0_row2\" class=\"row_heading level0 row2\" >Cute puppies</th>\n",
       "                        <td id=\"T_75bb3_row2_col0\" class=\"data row2 col0\" >nan</td>\n",
       "                        <td id=\"T_75bb3_row2_col1\" class=\"data row2 col1\" >4.0</td>\n",
       "                        <td id=\"T_75bb3_row2_col2\" class=\"data row2 col2\" >0.0</td>\n",
       "                        <td id=\"T_75bb3_row2_col3\" class=\"data row2 col3\" >nan</td>\n",
       "            </tr>\n",
       "            <tr>\n",
       "                        <th id=\"T_75bb3_level0_row3\" class=\"row_heading level0 row3\" >Car chases</th>\n",
       "                        <td id=\"T_75bb3_row3_col0\" class=\"data row3 col0\" >0.0</td>\n",
       "                        <td id=\"T_75bb3_row3_col1\" class=\"data row3 col1\" >0.0</td>\n",
       "                        <td id=\"T_75bb3_row3_col2\" class=\"data row3 col2\" >5.0</td>\n",
       "                        <td id=\"T_75bb3_row3_col3\" class=\"data row3 col3\" >4.0</td>\n",
       "            </tr>\n",
       "            <tr>\n",
       "                        <th id=\"T_75bb3_level0_row4\" class=\"row_heading level0 row4\" >Katana</th>\n",
       "                        <td id=\"T_75bb3_row4_col0\" class=\"data row4 col0\" >0.0</td>\n",
       "                        <td id=\"T_75bb3_row4_col1\" class=\"data row4 col1\" >0.0</td>\n",
       "                        <td id=\"T_75bb3_row4_col2\" class=\"data row4 col2\" >5.0</td>\n",
       "                        <td id=\"T_75bb3_row4_col3\" class=\"data row4 col3\" >nan</td>\n",
       "            </tr>\n",
       "    </tbody></table>"
      ],
      "text/plain": [
       "<pandas.io.formats.style.Styler at 0x7ff260811880>"
      ]
     },
     "execution_count": 26,
     "metadata": {},
     "output_type": "execute_result"
    }
   ],
   "source": [
    "ppl = ['Alice', 'Bob', 'Carol', 'Dave']\n",
    "mov = ['Love at last', 'Romance forever', 'Cute puppies', 'Car chases', 'Katana']\n",
    "rat = [[5, 5, 0, 0], \n",
    "      [5, None, None, 0],\n",
    "      [None, 4, 0, None],\n",
    "      [0, 0, 5, 4], \n",
    "      [0, 0, 5, None]]\n",
    "\n",
    "df = pd.DataFrame(rat, columns=ppl, index=mov).astype(float)\n",
    "df.style.set_caption(\"Table 1 - Ratings of 5 movies assigned by 4 users\").format('{:.1f}')"
   ]
  },
  {
   "cell_type": "markdown",
   "id": "weird-sampling",
   "metadata": {},
   "source": [
    "Some users did not rated some movies. To denote if a movie $i$ has been rated by user $j$ we denote $r(i,j)=1$ if the movie is rated, $0$ otherwise. If defined, we denote $y^{(i, j)}$ as the rating assigned to movie $i$ by user $j$.\n",
    "\n",
    "A recommendation system tries to predict the rating of unrated movies for each user based on ratings that he/she already assigned. \n",
    "\n",
    "## Content-based recommendation system\n",
    "We can see that in our case Alice and Bob prefer romance movies, while Carol and Dave prefer action movies. \n",
    "\n",
    "It will be useful to define how much each movie belong to each of these categories, so we define two features that express how much each movies is aligned with the definition of \"romance\" ($x_1$) and \"action\" ($x_2$)."
   ]
  },
  {
   "cell_type": "code",
   "execution_count": 28,
   "id": "latter-impossible",
   "metadata": {
    "tags": [
     "remove_input"
    ]
   },
   "outputs": [
    {
     "data": {
      "text/html": [
       "<style  type=\"text/css\" >\n",
       "</style><table id=\"T_85b35_\" ><caption>Table 2 - Ratings of 5 movies assigned by 4 users and features indicating the level of romance ($x_1$) and action ($x_2$) of each movie</caption><thead>    <tr>        <th class=\"blank level0\" ></th>        <th class=\"col_heading level0 col0\" >Alice</th>        <th class=\"col_heading level0 col1\" >Bob</th>        <th class=\"col_heading level0 col2\" >Carol</th>        <th class=\"col_heading level0 col3\" >Dave</th>        <th class=\"col_heading level0 col4\" >$x_1$</th>        <th class=\"col_heading level0 col5\" >$x_2$</th>    </tr></thead><tbody>\n",
       "                <tr>\n",
       "                        <th id=\"T_85b35_level0_row0\" class=\"row_heading level0 row0\" >Love at last</th>\n",
       "                        <td id=\"T_85b35_row0_col0\" class=\"data row0 col0\" >5.0</td>\n",
       "                        <td id=\"T_85b35_row0_col1\" class=\"data row0 col1\" >5.0</td>\n",
       "                        <td id=\"T_85b35_row0_col2\" class=\"data row0 col2\" >0.0</td>\n",
       "                        <td id=\"T_85b35_row0_col3\" class=\"data row0 col3\" >0.0</td>\n",
       "                        <td id=\"T_85b35_row0_col4\" class=\"data row0 col4\" >0.9</td>\n",
       "                        <td id=\"T_85b35_row0_col5\" class=\"data row0 col5\" >0.0</td>\n",
       "            </tr>\n",
       "            <tr>\n",
       "                        <th id=\"T_85b35_level0_row1\" class=\"row_heading level0 row1\" >Romance forever</th>\n",
       "                        <td id=\"T_85b35_row1_col0\" class=\"data row1 col0\" >5.0</td>\n",
       "                        <td id=\"T_85b35_row1_col1\" class=\"data row1 col1\" >nan</td>\n",
       "                        <td id=\"T_85b35_row1_col2\" class=\"data row1 col2\" >nan</td>\n",
       "                        <td id=\"T_85b35_row1_col3\" class=\"data row1 col3\" >0.0</td>\n",
       "                        <td id=\"T_85b35_row1_col4\" class=\"data row1 col4\" >0.1</td>\n",
       "                        <td id=\"T_85b35_row1_col5\" class=\"data row1 col5\" >0.0</td>\n",
       "            </tr>\n",
       "            <tr>\n",
       "                        <th id=\"T_85b35_level0_row2\" class=\"row_heading level0 row2\" >Cute puppies</th>\n",
       "                        <td id=\"T_85b35_row2_col0\" class=\"data row2 col0\" >nan</td>\n",
       "                        <td id=\"T_85b35_row2_col1\" class=\"data row2 col1\" >4.0</td>\n",
       "                        <td id=\"T_85b35_row2_col2\" class=\"data row2 col2\" >0.0</td>\n",
       "                        <td id=\"T_85b35_row2_col3\" class=\"data row2 col3\" >nan</td>\n",
       "                        <td id=\"T_85b35_row2_col4\" class=\"data row2 col4\" >1.0</td>\n",
       "                        <td id=\"T_85b35_row2_col5\" class=\"data row2 col5\" >0.0</td>\n",
       "            </tr>\n",
       "            <tr>\n",
       "                        <th id=\"T_85b35_level0_row3\" class=\"row_heading level0 row3\" >Car chases</th>\n",
       "                        <td id=\"T_85b35_row3_col0\" class=\"data row3 col0\" >0.0</td>\n",
       "                        <td id=\"T_85b35_row3_col1\" class=\"data row3 col1\" >0.0</td>\n",
       "                        <td id=\"T_85b35_row3_col2\" class=\"data row3 col2\" >5.0</td>\n",
       "                        <td id=\"T_85b35_row3_col3\" class=\"data row3 col3\" >4.0</td>\n",
       "                        <td id=\"T_85b35_row3_col4\" class=\"data row3 col4\" >0.1</td>\n",
       "                        <td id=\"T_85b35_row3_col5\" class=\"data row3 col5\" >1.0</td>\n",
       "            </tr>\n",
       "            <tr>\n",
       "                        <th id=\"T_85b35_level0_row4\" class=\"row_heading level0 row4\" >Katana</th>\n",
       "                        <td id=\"T_85b35_row4_col0\" class=\"data row4 col0\" >0.0</td>\n",
       "                        <td id=\"T_85b35_row4_col1\" class=\"data row4 col1\" >0.0</td>\n",
       "                        <td id=\"T_85b35_row4_col2\" class=\"data row4 col2\" >5.0</td>\n",
       "                        <td id=\"T_85b35_row4_col3\" class=\"data row4 col3\" >nan</td>\n",
       "                        <td id=\"T_85b35_row4_col4\" class=\"data row4 col4\" >0.0</td>\n",
       "                        <td id=\"T_85b35_row4_col5\" class=\"data row4 col5\" >0.9</td>\n",
       "            </tr>\n",
       "    </tbody></table>"
      ],
      "text/plain": [
       "<pandas.io.formats.style.Styler at 0x7ff260811070>"
      ]
     },
     "execution_count": 28,
     "metadata": {},
     "output_type": "execute_result"
    }
   ],
   "source": [
    "df2 = df.assign(**{'$x_1$':[.9, .1, .99, .1, 0], \n",
    "                   '$x_2$':[0, .01, 0, 1, .9]})\n",
    "df2.style.set_caption(\"Table 2 - Ratings of 5 movies assigned by 4 users and features indicating the level of romance ($x_1$) and action ($x_2$) of each movie\").format('{:.1f}')"
   ]
  },
  {
   "cell_type": "markdown",
   "id": "graduate-berry",
   "metadata": {},
   "source": [
    "Each movie is now represented by a feature vector $ \\lbrace x_0, x_1, x_2 \\rbrace$ where $x_0=1$ is the intercept.\n",
    "\n",
    "One of the way we could proceed is by treating each separate user as a separate linear regression problem. For each user $j$, we learn a parameter vector $\\theta^{(j)} \\in \\mathbb{R}^3$, to predict user $j$ rating of movie $i$ as $(\\theta ^{(j)})^Tx{(i)}$ stars.\n",
    "\n",
    "Suppose we have somehow obtained a parameter vector $\\theta_1 = [0, 5, 0]$ for Alice, we will have its rating for the \"cute puppies\" movie as:\n",
    "\n",
    "$$x^{(3)} = \n",
    "\\begin{bmatrix}\n",
    "1 \\\\ 0.99 \\\\ 0\n",
    "\\end{bmatrix} \\qquad \\theta_1 = \\begin{bmatrix}0 \\\\ 5 \\\\ 0\\end{bmatrix}\n",
    "$$\n",
    "\n",
    "$$\n",
    "\\begin{aligned}\n",
    "\\left ( \\theta ^{(1)} \\right )^T x^{(3)} & = 5 \\cdot 0.99 \\\\\n",
    "& = 4.95\n",
    "\\end{aligned}\n",
    "$$"
   ]
  },
  {
   "cell_type": "markdown",
   "id": "offshore-receiver",
   "metadata": {},
   "source": [
    "So to learn $\\theta^{(j)}$\n",
    "\n",
    "$$\n",
    "\\min_{\\theta^{(j)}} \\frac{1}{2m_j} \\sum_{i:r(i, j)=1} \\left ( \\left( \\theta^{(j)} \\right) ^Tx^{(i)} -y^{(i,j)} \\right)^2 + \\frac{\\lambda}{2m^{(j)}} \\sum^n_{k=1}\\left(\\theta_k^{(j)}\\right)^2\n",
    "$$\n",
    "\n",
    "where:\n",
    "\n",
    "* $r(i,j) = 1$ if user $j$ has rated movie $i$, $0$ otherwise;\n",
    "* $y^{(i,j)}$ is the rating by user $j$ on movie $i$ (if defined)\n",
    "* $\\theta^{(j)}$ is the parameter vector for user $j$\n",
    "* $x^{(i)}$ is the feature vector for movie $i$\n",
    "* $m^{(j)}$ is the number of movies rated by user $j$\n",
    "\n",
    "Usually by convention the term $m^{(j)}$ is eliminated, and we remain with\n",
    "\n",
    "$$\n",
    "\\min_{\\theta^{(j)}} \\frac{1}{2} \\sum_{i:r(i, j)=1} \\left ( \\left( \\theta^{(j)} \\right) ^Tx^{(i)} -y^{(i,j)} \\right)^2 + \\frac{\\lambda}{2} \\sum^n_{k=1}\\left(\\theta_k^{(j)}\\right)^2\n",
    "$$\n",
    "\n",
    "And to learn the parameters vectors for all users $\\theta^{(1)}, \\theta^{(2)}, \\ldots, \\theta^{(n_u)}$\n",
    "\n",
    "$$\n",
    "\\begin{equation}\n",
    "\\min_{\\theta^{(1)}, \\ldots, \\theta^{(n_u)}} \\frac{1}{2} \\sum^{n_u}_{j=1} \\sum_{i:r(i, j)=1} \\left ( \\left( \\theta^{(j)} \\right) ^Tx^{(i)} -y^{(i,j)} \\right)^2 + \\frac{\\lambda}{2} \\sum^{n_u}_{j=1} \\sum^n_{k=1}\\left(\\theta_k^{(j)}\\right)^2\n",
    "\\end{equation}\n",
    "\\label{eq:learnratings} \\tag{1}\n",
    "$$\n",
    "\n",
    "With gradient descent update\n",
    "\n",
    "$$\n",
    "\\theta_k^{(j)} :=\n",
    "\\begin{cases}\n",
    "\\theta_k^{(j)} - \\alpha \\sum_{i:r(i, j)=1} \\left ( \\left( \\theta^{(j)} \\right) ^Tx^{(i)} -y^{(i,j)} \\right) x_k^{(i)} \\qquad & \\text{for } k=0 \\\\\n",
    "\\theta_k^{(j)} - \\alpha \\left ( \\sum_{i:r(i, j)=1} \\left ( \\left( \\theta^{(j)} \\right) ^Tx^{(i)} -y^{(i,j)} \\right) x_k^{(i)} + \\lambda\\theta_k^{(j)} \\right) \\qquad & \\text{for } k \\neq 0\n",
    "\\end {cases}\n",
    "$$"
   ]
  },
  {
   "cell_type": "markdown",
   "id": "disabled-vienna",
   "metadata": {},
   "source": [
    "## Collaborative filtering\n",
    "Content-based approaches are based on the assumption that we know the features to use for movies and that those features are meaningful.\n",
    "\n",
    "This is often not the case and collaborative filtering is an approach that allows the algorithm to **learn what features are important**.\n",
    "\n",
    "### Predicting movie genre from preference\n",
    "In Table 2 we had features $x_1, x_2$ for each movie, this means that someone has evaluated and assigned those values manually. This is often not the case so let's imagine a different situation where we don't have $x_1, x_2$"
   ]
  },
  {
   "cell_type": "code",
   "execution_count": 32,
   "id": "photographic-sense",
   "metadata": {
    "tags": [
     "remove_input"
    ]
   },
   "outputs": [
    {
     "data": {
      "text/html": [
       "<div>\n",
       "<style scoped>\n",
       "    .dataframe tbody tr th:only-of-type {\n",
       "        vertical-align: middle;\n",
       "    }\n",
       "\n",
       "    .dataframe tbody tr th {\n",
       "        vertical-align: top;\n",
       "    }\n",
       "\n",
       "    .dataframe thead th {\n",
       "        text-align: right;\n",
       "    }\n",
       "</style>\n",
       "<table border=\"1\" class=\"dataframe\">\n",
       "  <thead>\n",
       "    <tr style=\"text-align: right;\">\n",
       "      <th></th>\n",
       "      <th>Alice</th>\n",
       "      <th>Bob</th>\n",
       "      <th>Carol</th>\n",
       "      <th>Dave</th>\n",
       "      <th>$x_1$</th>\n",
       "      <th>$x_2$</th>\n",
       "    </tr>\n",
       "  </thead>\n",
       "  <tbody>\n",
       "    <tr>\n",
       "      <th>Love at last</th>\n",
       "      <td>5.0</td>\n",
       "      <td>5.0</td>\n",
       "      <td>0.0</td>\n",
       "      <td>0.0</td>\n",
       "      <td>NaN</td>\n",
       "      <td>NaN</td>\n",
       "    </tr>\n",
       "    <tr>\n",
       "      <th>Romance forever</th>\n",
       "      <td>5.0</td>\n",
       "      <td>NaN</td>\n",
       "      <td>NaN</td>\n",
       "      <td>0.0</td>\n",
       "      <td>NaN</td>\n",
       "      <td>NaN</td>\n",
       "    </tr>\n",
       "    <tr>\n",
       "      <th>Cute puppies</th>\n",
       "      <td>NaN</td>\n",
       "      <td>4.0</td>\n",
       "      <td>0.0</td>\n",
       "      <td>NaN</td>\n",
       "      <td>NaN</td>\n",
       "      <td>NaN</td>\n",
       "    </tr>\n",
       "    <tr>\n",
       "      <th>Car chases</th>\n",
       "      <td>0.0</td>\n",
       "      <td>0.0</td>\n",
       "      <td>5.0</td>\n",
       "      <td>4.0</td>\n",
       "      <td>NaN</td>\n",
       "      <td>NaN</td>\n",
       "    </tr>\n",
       "    <tr>\n",
       "      <th>Katana</th>\n",
       "      <td>0.0</td>\n",
       "      <td>0.0</td>\n",
       "      <td>5.0</td>\n",
       "      <td>NaN</td>\n",
       "      <td>NaN</td>\n",
       "      <td>NaN</td>\n",
       "    </tr>\n",
       "  </tbody>\n",
       "</table>\n",
       "</div>"
      ],
      "text/plain": [
       "                 Alice  Bob  Carol  Dave  $x_1$  $x_2$\n",
       "Love at last       5.0  5.0    0.0   0.0    NaN    NaN\n",
       "Romance forever    5.0  NaN    NaN   0.0    NaN    NaN\n",
       "Cute puppies       NaN  4.0    0.0   NaN    NaN    NaN\n",
       "Car chases         0.0  0.0    5.0   4.0    NaN    NaN\n",
       "Katana             0.0  0.0    5.0   NaN    NaN    NaN"
      ]
     },
     "execution_count": 32,
     "metadata": {},
     "output_type": "execute_result"
    }
   ],
   "source": [
    "df3 = df2.assign(**{'$x_1$': np.full(5, np.nan), '$x_2$': np.full(5, np.nan)})\n",
    "df3"
   ]
  },
  {
   "cell_type": "markdown",
   "id": "trained-bloom",
   "metadata": {},
   "source": [
    "but we know what genre each user prefers\n",
    "\n",
    "$$\n",
    "\\theta^{(1)} = \n",
    "\\begin{bmatrix}\n",
    "0 \\\\ 5 \\\\ 0\n",
    "\\end{bmatrix} \n",
    "\\qquad \n",
    "\\theta^{(2)} = \n",
    "\\begin{bmatrix}\n",
    "0 \\\\ 5 \\\\ 0\n",
    "\\end{bmatrix} \n",
    "\\qquad \n",
    "\\theta^{(3)} = \n",
    "\\begin{bmatrix}\n",
    "0 \\\\ 0 \\\\ 5\n",
    "\\end{bmatrix} \n",
    "\\qquad \n",
    "\\theta^{(4)} = \n",
    "\\begin{bmatrix}\n",
    "0 \\\\ 0 \\\\ 5\n",
    "\\end{bmatrix} \n",
    "$$\n",
    "\n",
    "With this information it becomes possible to infer $x_1, x_2$ for each movie. Given $\\theta^{(1)}, \\ldots, \\theta^{(n_u)}$ to learn $x^{(i)}$\n",
    "\n",
    "$$\n",
    "\\min_{x^{(i)}} \\frac{1}{2} \\sum_{j:r(i, j)=1} \\left ( \\left( \\theta^{(j)} \\right) ^Tx^{(i)} -y^{(i,j)} \\right)^2 + \\frac{\\lambda}{2} \\sum^n_{k=1}\\left(x_k^{(i)}\\right)^2\n",
    "$$\n",
    "\n",
    "Given $\\theta^{(1)}, \\ldots, \\theta^{(n_u)}$ to learn $x^{(1)}, \\ldots, x^{(n_m)}$\n",
    "\n",
    "$$\n",
    "\\begin{equation}\n",
    "J= \\frac{1}{2} \\sum^{n_m}_{i=1} \\sum_{j:r(i, j)=1} \\left ( \\left( \\theta^{(j)} \\right) ^Tx^{(i)} -y^{(i,j)} \\right)^2 + \\frac{\\lambda}{2} \\sum^{n_m}_{i=1} \\sum^n_{k=1}\\left(x_k^{(i)}\\right)^2\n",
    "\\end{equation}\n",
    "\\label{eq:learnpreference} \\tag{2}\n",
    "$$"
   ]
  },
  {
   "cell_type": "markdown",
   "id": "stopped-avatar",
   "metadata": {},
   "source": [
    "### Collaborative filtering\n",
    "So we have established that:\n",
    "\n",
    "* Given $x^{(1)}, \\ldots, x^{(n_m)}$ we can estimate $\\theta^{(1)}, \\ldots, \\theta^{(n_u)}$ with $\\eqref{eq:learnratings}$ \n",
    "* Given $\\theta^{(1)}, \\ldots, \\theta^{(n_u)}$ we can estimate $x^{(1)}, \\ldots, x^{(n_m)}$ with $\\eqref{eq:learnpreference}$\n",
    "\n",
    "By randomly initializing $\\theta$ we can iteratively obtain better and better estimates of both $\\theta$ and $x$.\n",
    "\n",
    "However, there is a more efficient algorithm that doesn't need to go back and forth between minimizing respect to $\\theta$ and $x$ and it is called **collaborative filtering**.\n",
    "\n",
    "Collaborative filtering is based on the combination of $\\eqref{eq:learnratings}$ and $\\eqref{eq:learnpreference}$, where the cost function $J$ is defined as\n",
    "\n",
    "$$\n",
    "\\begin{aligned}\n",
    "J(x^{(1)}, \\ldots, x^{(n_m)},\\theta^{(1)}, \\ldots, \\theta^{(n_u)}) & = \\frac{1}{2} \\sum_{(i,j):r(i,j)=1} \\left ( \\left( \\theta^{(j)} \\right) ^Tx^{(i)} -y^{(i,j)} \\right)^2 \\\\\n",
    "&+ \\frac{\\lambda}{2} \\sum^{n_m}_{i=1} \\sum^n_{k=1}\\left(x_k^{(i)}\\right)^2\\\\\n",
    "&+ \\frac{\\lambda}{2} \\sum^{n_u}_{j=1} \\sum^n_{k=1}\\left(\\theta_k^{(j)}\\right)^2\n",
    "\\end{aligned}\n",
    "$$\n",
    "\n",
    "and the minimization objective becomes\n",
    "\n",
    "$$\n",
    "\\min_{x^{(1)}, \\ldots, x^{(n_m)},\\theta^{(1)}, \\ldots, \\theta^{(n_u)}} J(x^{(1)}, \\ldots, x^{(n_m)},\\theta^{(1)}, \\ldots, \\theta^{(n_u)}) \n",
    "$$\n",
    "\n",
    "Do notice that the convention $x_0=1$ is not adopted here and consequently we do not have $\\theta_0$. So we have $x \\in \\mathbb{R}^n$ and $\\theta \\in \\mathbb{R}^n$. The reason behind this choice is that since the algorithm is learning all the features, if it needs a feature to be $1$ it can (and will) set it itself.\n",
    "\n",
    "So the training procedure will take the following steps:\n",
    "\n",
    "1. In order for the training procedure to work we need to initialize $x$ and $\\theta$ to some small random values, similarly to neural network training. This serves as symmetry breaking and ensures the algorithm learns features $x^{(1)}, \\dots, x^{(n_m)}$ that are different from each other.\n",
    "\n",
    "2. Then we minimize $J(x^{(1)}, \\ldots, x^{(n_m)},\\theta^{(1)}, \\ldots, \\theta^{(n_u)}) $ using gradient descent (or an optimization algorithm). For each $j=1, \\ldots, n_u, i=1, \\ldots, n_m$\n",
    "\n",
    "$$\n",
    "\\begin{aligned}\n",
    "x^{(i)}_k & := x^{(i)}_k - \\alpha \\left ( \\sum_{j:r(i, j)=1} \\left ( \\left( \\theta^{(j)} \\right)^T x^{(i)} - y^{(i,j)} \\right) \\theta_k^{(j)} + \\lambda x_k^{(i)} \\right) \\\\\n",
    "\\theta_k^{(j)} & := \\theta_k^{(j)} - \\alpha \\left ( \\sum_{i:r(i, j)=1} \\left ( \\left( \\theta^{(j)} \\right) ^Tx^{(i)} -y^{(i,j)} \\right) x_k^{(i)} + \\lambda\\theta_k^{(j)} \\right)\n",
    "\\end{aligned}\n",
    "$$\n",
    "\n",
    "3. For a user with parameters $\\theta$ and a movie with learned features $x$, predict a rating $\\theta^Tx$"
   ]
  },
  {
   "cell_type": "markdown",
   "id": "aggressive-justice",
   "metadata": {},
   "source": [
    "## Finding related movies\n",
    "For each product $i$ we learn a feature vector $x^{(i)} \\in \\mathbb{R}^n$. In order to find movies $j$ related to movie $i$ we have to find small values of the distance between the two movies \n",
    "\n",
    "$$\\| x^{(i)} - x^{(j)} \\|$$\n",
    "\n",
    "## Mean Normalization\n",
    "By applying mean normalization we prevent not being able to recommend any movie to users that haven't rated any. For those users we instead predict that their rating is the average rating of all users for that movie.\n",
    "\n",
    "Suppose you have a new user Eve, that hasn't rated any movie."
   ]
  },
  {
   "cell_type": "code",
   "execution_count": 52,
   "id": "biological-missile",
   "metadata": {
    "tags": [
     "remove_input"
    ]
   },
   "outputs": [
    {
     "data": {
      "text/html": [
       "<div>\n",
       "<style scoped>\n",
       "    .dataframe tbody tr th:only-of-type {\n",
       "        vertical-align: middle;\n",
       "    }\n",
       "\n",
       "    .dataframe tbody tr th {\n",
       "        vertical-align: top;\n",
       "    }\n",
       "\n",
       "    .dataframe thead th {\n",
       "        text-align: right;\n",
       "    }\n",
       "</style>\n",
       "<table border=\"1\" class=\"dataframe\">\n",
       "  <thead>\n",
       "    <tr style=\"text-align: right;\">\n",
       "      <th></th>\n",
       "      <th>Alice</th>\n",
       "      <th>Bob</th>\n",
       "      <th>Carol</th>\n",
       "      <th>Dave</th>\n",
       "      <th>Eve</th>\n",
       "    </tr>\n",
       "  </thead>\n",
       "  <tbody>\n",
       "    <tr>\n",
       "      <th>Love at last</th>\n",
       "      <td>5.0</td>\n",
       "      <td>5.0</td>\n",
       "      <td>0.0</td>\n",
       "      <td>0.0</td>\n",
       "      <td>NaN</td>\n",
       "    </tr>\n",
       "    <tr>\n",
       "      <th>Romance forever</th>\n",
       "      <td>5.0</td>\n",
       "      <td>NaN</td>\n",
       "      <td>NaN</td>\n",
       "      <td>0.0</td>\n",
       "      <td>NaN</td>\n",
       "    </tr>\n",
       "    <tr>\n",
       "      <th>Cute puppies</th>\n",
       "      <td>NaN</td>\n",
       "      <td>4.0</td>\n",
       "      <td>0.0</td>\n",
       "      <td>NaN</td>\n",
       "      <td>NaN</td>\n",
       "    </tr>\n",
       "    <tr>\n",
       "      <th>Car chases</th>\n",
       "      <td>0.0</td>\n",
       "      <td>0.0</td>\n",
       "      <td>5.0</td>\n",
       "      <td>4.0</td>\n",
       "      <td>NaN</td>\n",
       "    </tr>\n",
       "    <tr>\n",
       "      <th>Katana</th>\n",
       "      <td>0.0</td>\n",
       "      <td>0.0</td>\n",
       "      <td>5.0</td>\n",
       "      <td>0.0</td>\n",
       "      <td>NaN</td>\n",
       "    </tr>\n",
       "  </tbody>\n",
       "</table>\n",
       "</div>"
      ],
      "text/plain": [
       "                 Alice  Bob  Carol  Dave  Eve\n",
       "Love at last       5.0  5.0    0.0   0.0  NaN\n",
       "Romance forever    5.0  NaN    NaN   0.0  NaN\n",
       "Cute puppies       NaN  4.0    0.0   NaN  NaN\n",
       "Car chases         0.0  0.0    5.0   4.0  NaN\n",
       "Katana             0.0  0.0    5.0   0.0  NaN"
      ]
     },
     "execution_count": 52,
     "metadata": {},
     "output_type": "execute_result"
    }
   ],
   "source": [
    "df4 = df.assign(Eve=np.full(5, np.nan))\n",
    "df4['Dave']['Katana'] = 0\n",
    "df4"
   ]
  },
  {
   "cell_type": "markdown",
   "id": "civic-segment",
   "metadata": {},
   "source": [
    "Without mean normalization we have\n",
    "\n",
    "$$\n",
    "\\min_{x^{(1)}, \\ldots, x^{(n_m)},\\theta^{(1)}, \\ldots, \\theta^{(n_u)}}  \n",
    "\\underbrace{\\frac{1}{2} \\sum_{(i,j):r(i,j)=1} \\left ( \\left( \\theta^{(j)} \\right) ^Tx^{(i)} -y^{(i,j)} \\right)^2 }_0\n",
    "+ \\underbrace{\\frac{\\lambda}{2} \\sum^{n_m}_{i=1} \\sum^n_{k=1}\\left(x_k^{(i)}\\right)^2}_0\n",
    "+ \\frac{\\lambda}{2} \\sum^{n_u}_{j=1} \\sum^n_{k=1}\\left(\\theta_k^{(j)}\\right)^2\n",
    "$$\n",
    "\n",
    "And consequently for any movie $i$\n",
    "\n",
    "$$\n",
    "\\left (\\theta^{(5)} \\right) x^{(i)} = 0\n",
    "$$\n",
    "\n",
    "But if we subtract the average movie rating to the rating matrix before training and add it back to the prediction we have:\n",
    "\n",
    "$$\n",
    "Y=\n",
    "\\begin{bmatrix}\n",
    " 5&  5&  0&  0& ? \\\\\n",
    " 5& ?& ?&  0& ? \\\\\n",
    "?&  4&  0& ?& ? \\\\\n",
    " 0&  0&  5&  4& ? \\\\\n",
    " 0&  0&  5& 0& ?\n",
    "\\end{bmatrix}\n",
    "\\qquad\n",
    "\\mu=\\begin{bmatrix}\n",
    "2.5 \\\\ 2.5 \\\\ 2.  \\\\ 2.25\\\\ 1.25\n",
    "\\end{bmatrix} \\to Y=\n",
    "\\begin{bmatrix}\n",
    " 2.5 &  2.5 & -2.5 & -2.5 &   ? \\\\ 2.5 &   ?&   ?& -2.5 &   ? \\\\  ?&  2.  & -2.  &   ?&   ? \\\\-2.25& -2.25&  2.75&  1.75&   ? \\\\-1.25& -1.25&  3.75& -1.25&   ?\n",
    "\\end{bmatrix}\n",
    "$$\n",
    "\n",
    "And the prediction would be\n",
    "\n",
    "$$\n",
    "\\underbrace{\\left (\\theta^{(5)} \\right) x^{(i)}}_0 + \\mu_i= 2.5\n",
    "$$\n"
   ]
  }
 ],
 "metadata": {
  "kernelspec": {
   "display_name": "Python 3",
   "language": "python",
   "name": "python3"
  },
  "language_info": {
   "codemirror_mode": {
    "name": "ipython",
    "version": 3
   },
   "file_extension": ".py",
   "mimetype": "text/x-python",
   "name": "python",
   "nbconvert_exporter": "python",
   "pygments_lexer": "ipython3",
   "version": "3.9.1"
  }
 },
 "nbformat": 4,
 "nbformat_minor": 5
}
