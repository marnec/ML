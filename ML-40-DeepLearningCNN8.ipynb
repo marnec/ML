{
 "cells": [
  {
   "cell_type": "markdown",
   "id": "stainless-savings",
   "metadata": {},
   "source": [
    "---\n",
    "layout: default\n",
    "title: \"Deep Learning - CNN - Face recognition\"\n",
    "categories: deeplearning\n",
    "permalink: /ML40/\n",
    "order: 40\n",
    "comments: true\n",
    "---"
   ]
  },
  {
   "cell_type": "code",
   "execution_count": 9,
   "id": "northern-stability",
   "metadata": {
    "tags": [
     "remove_cell"
    ]
   },
   "outputs": [
    {
     "name": "stdout",
     "output_type": "stream",
     "text": [
      "Populating the interactive namespace from numpy and matplotlib\n"
     ]
    }
   ],
   "source": [
    "%pylab --no-import-all inline\n",
    "from IPython.display import set_matplotlib_formats\n",
    "set_matplotlib_formats('svg')\n",
    "plt.rcParams[\"mathtext.fontset\"] = \"cm\"\n",
    "from matplotlib.patches import Rectangle\n",
    "from mpl_flow import Flow\n",
    "import numpy as np"
   ]
  },
  {
   "cell_type": "markdown",
   "id": "headed-marketing",
   "metadata": {},
   "source": [
    "# Face recognition\n"
   ]
  }
 ],
 "metadata": {
  "kernelspec": {
   "display_name": "Python 3",
   "language": "python",
   "name": "python3"
  },
  "language_info": {
   "codemirror_mode": {
    "name": "ipython",
    "version": 3
   },
   "file_extension": ".py",
   "mimetype": "text/x-python",
   "name": "python",
   "nbconvert_exporter": "python",
   "pygments_lexer": "ipython3",
   "version": "3.6.9"
  }
 },
 "nbformat": 4,
 "nbformat_minor": 5
}
