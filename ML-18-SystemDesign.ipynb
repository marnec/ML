{
 "cells": [
  {
   "cell_type": "markdown",
   "metadata": {},
   "source": [
    "---\n",
    "layout: default\n",
    "title: \"Machine learning system design\"\n",
    "categories: design\n",
    "permalink: /ML18/\n",
    "order: 18\n",
    "comments: true\n",
    "---"
   ]
  },
  {
   "cell_type": "code",
   "execution_count": 1,
   "metadata": {},
   "outputs": [
    {
     "name": "stdout",
     "output_type": "stream",
     "text": [
      "Populating the interactive namespace from numpy and matplotlib\n"
     ]
    }
   ],
   "source": [
    "%pylab --no-import-all inline"
   ]
  },
  {
   "cell_type": "markdown",
   "metadata": {
    "tags": [
     "remove_cell"
    ]
   },
   "source": [
    "# Machine learning system design\n",
    "What are the decision that we have to take to effectively and efficiently train a machine learning algorithm? Suppose we want to build a classifier that can discriminate between spam and legitimate emails.\n",
    "\n",
    "How do we choose the features for our emails?\n",
    "\n",
    "There is not really a way to tell in advance if you'll need complex features, more data or anything else so a good approach is usually to take these 3 steps:\n",
    "\n",
    "* start with a simple alogrithm that can be implemented quickly, implement it and test it on the cross-validation set;\n",
    "* plot learning curves to decide what is more likely to help;\n",
    "* error analysis: manually examine the examples in the cross validation set that your algorihtm made errors on: identifying possible systematic errors can help to detect current shortcomings of the system.\n",
    "\n",
    "Let's say that you have built spam-email classifier and you have $m_\\text{CV}=500$ examples in the cross validation set and the algorithm misclassifies 100 emails. Following the suggestions above you would manually examine the 100 misclassified email and categorize them based on:\n",
    "\n",
    "* type of email\n",
    "* what feature(s) would have helped correctly classify the email"
   ]
  }
 ],
 "metadata": {
  "kernelspec": {
   "display_name": "Python 3",
   "language": "python",
   "name": "python3"
  },
  "language_info": {
   "codemirror_mode": {
    "name": "ipython",
    "version": 3
   },
   "file_extension": ".py",
   "mimetype": "text/x-python",
   "name": "python",
   "nbconvert_exporter": "python",
   "pygments_lexer": "ipython3",
   "version": "3.6.9"
  }
 },
 "nbformat": 4,
 "nbformat_minor": 4
}
