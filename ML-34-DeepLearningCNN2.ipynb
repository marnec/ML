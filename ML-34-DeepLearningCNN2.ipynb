{
 "cells": [
  {
   "cell_type": "markdown",
   "id": "owned-maldives",
   "metadata": {},
   "source": [
    "---\n",
    "layout: default\n",
    "title: \"Deep Learning - CNN - Convolutional NN\"\n",
    "categories: deeplearning\n",
    "permalink: /ML34/\n",
    "order: 34\n",
    "comments: true\n",
    "---"
   ]
  },
  {
   "cell_type": "code",
   "execution_count": 1,
   "id": "stuck-capitol",
   "metadata": {
    "tags": [
     "remove_cell"
    ]
   },
   "outputs": [
    {
     "name": "stdout",
     "output_type": "stream",
     "text": [
      "Populating the interactive namespace from numpy and matplotlib\n"
     ]
    }
   ],
   "source": [
    "%pylab --no-import-all inline\n",
    "from plot_ann import ann\n",
    "plt.rcParams[\"mathtext.fontset\"] = \"cm\"\n",
    "import pandas as pd\n",
    "import cv2\n",
    "from scipy.signal import convolve2d, correlate2d"
   ]
  },
  {
   "cell_type": "code",
   "execution_count": null,
   "id": "hollywood-secretariat",
   "metadata": {},
   "outputs": [],
   "source": []
  }
 ],
 "metadata": {
  "kernelspec": {
   "display_name": "Python 3",
   "language": "python",
   "name": "python3"
  },
  "language_info": {
   "codemirror_mode": {
    "name": "ipython",
    "version": 3
   },
   "file_extension": ".py",
   "mimetype": "text/x-python",
   "name": "python",
   "nbconvert_exporter": "python",
   "pygments_lexer": "ipython3",
   "version": "3.8.5"
  }
 },
 "nbformat": 4,
 "nbformat_minor": 5
}
