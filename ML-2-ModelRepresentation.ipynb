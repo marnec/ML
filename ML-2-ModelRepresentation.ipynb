{
 "cells": [
  {
   "cell_type": "markdown",
   "metadata": {},
   "source": [
    "---\n",
    "layout: default\n",
    "title: \"Linear Regression - Model Representation\"\n",
    "categories: linearRegression\n",
    "permalink: /ML2/\n",
    "order: 2\n",
    "comments: true\n",
    "---"
   ]
  },
  {
   "cell_type": "code",
   "execution_count": 1,
   "metadata": {
    "tags": [
     "remove_cell"
    ]
   },
   "outputs": [
    {
     "name": "stdout",
     "output_type": "stream",
     "text": [
      "Populating the interactive namespace from numpy and matplotlib\n"
     ]
    },
    {
     "name": "stderr",
     "output_type": "stream",
     "text": [
      "/home/marnec/.local/lib/python3.9/site-packages/pandas/compat/__init__.py:97: UserWarning: Could not import the lzma module. Your installed Python is incomplete. Attempting to use lzma compression will result in a RuntimeError.\n",
      "  warnings.warn(msg)\n"
     ]
    }
   ],
   "source": [
    "%pylab --no-import-all inline\n",
    "import pandas as pd\n",
    "import seaborn as sns"
   ]
  },
  {
   "cell_type": "markdown",
   "metadata": {},
   "source": [
    "# Model Representation\n",
    "Let's use as an example the housing prices in Portland Oregon and plot them with respect to the surface of the house in square feets (<a href=\"#fig:housepricescatter\">figure below</a>)"
   ]
  },
  {
   "cell_type": "code",
   "execution_count": 2,
   "metadata": {
    "tags": [
     "remove_input"
    ]
   },
   "outputs": [
    {
     "data": {
      "image/png": "[encoded data removed]",
      "text/plain": [
       "<Figure size 432x288 with 1 Axes>"
      ]
     },
     "metadata": {
      "needs_background": "light"
     },
     "output_type": "display_data"
    }
   ],
   "source": [
    "training_set = pd.read_csv('data/house_pricing.csv').drop('rooms', axis=1)\n",
    "training_set.price /= 1000\n",
    "sns.regplot(data=training_set, x='sqf', y='price', ci=None, line_kws={'color':'none'});"
   ]
  },
  {
   "cell_type": "markdown",
   "metadata": {},
   "source": [
    "<i id=\"fig:housepricescatter\">Scatterplot of house prices as a function of the living area in square foots</i>\n",
    "\n",
    "Let's say that you want to know the possible price of an house given its surface. One thing that you could do is to draw a straight line that describes the growth of prices with surface (<a href=\"#fig:linreghouseprices\"></a>)."
   ]
  },
  {
   "cell_type": "code",
   "execution_count": 3,
   "metadata": {
    "tags": [
     "remove_input"
    ]
   },
   "outputs": [
    {
     "data": {
      "image/png": "[encoded data removed]",
      "text/plain": [
       "<Figure size 432x288 with 1 Axes>"
      ]
     },
     "metadata": {
      "needs_background": "light"
     },
     "output_type": "display_data"
    }
   ],
   "source": [
    "sns.regplot(data=training_set, x='sqf', y='price', ci=None, line_kws={'color':'C1'});"
   ]
  },
  {
   "cell_type": "markdown",
   "metadata": {},
   "source": [
    "<i id=\"fig:linreghouseprices\">A possible description of the dependence of house prices from square foots</i>\n",
    "\n",
    "This is an example of supervised learning since we know the answer for each example in the dataset and it is also an example of regression problem, where we try to predict a contnuous value.\n",
    "\n",
    "In supervised learning we have a training set that contains examples $(x, y)$ and our job is learning how to predict labels $y$ for new examples $x$"
   ]
  },
  {
   "cell_type": "code",
   "execution_count": 4,
   "metadata": {
    "tags": [
     "remove_input"
    ]
   },
   "outputs": [
    {
     "data": {
      "text/html": [
       "<style  type=\"text/css\" >\n",
       "#T_3ddd7_row0_col0,#T_3ddd7_row0_col1,#T_3ddd7_row1_col0,#T_3ddd7_row1_col1,#T_3ddd7_row2_col0,#T_3ddd7_row2_col1,#T_3ddd7_row3_col0,#T_3ddd7_row3_col1,#T_3ddd7_row4_col0,#T_3ddd7_row4_col1{\n",
       "            text-align:  left;\n",
       "        }</style><table id=\"T_3ddd7_\" ><thead>    <tr>        <th class=\"col_heading level0 col0\" >sqf</th>        <th class=\"col_heading level0 col1\" >price</th>    </tr></thead><tbody>\n",
       "                <tr>\n",
       "                                <td id=\"T_3ddd7_row0_col0\" class=\"data row0 col0\" >2104</td>\n",
       "                        <td id=\"T_3ddd7_row0_col1\" class=\"data row0 col1\" >399.900000</td>\n",
       "            </tr>\n",
       "            <tr>\n",
       "                                <td id=\"T_3ddd7_row1_col0\" class=\"data row1 col0\" >1600</td>\n",
       "                        <td id=\"T_3ddd7_row1_col1\" class=\"data row1 col1\" >329.900000</td>\n",
       "            </tr>\n",
       "            <tr>\n",
       "                                <td id=\"T_3ddd7_row2_col0\" class=\"data row2 col0\" >2400</td>\n",
       "                        <td id=\"T_3ddd7_row2_col1\" class=\"data row2 col1\" >369.000000</td>\n",
       "            </tr>\n",
       "            <tr>\n",
       "                                <td id=\"T_3ddd7_row3_col0\" class=\"data row3 col0\" >1416</td>\n",
       "                        <td id=\"T_3ddd7_row3_col1\" class=\"data row3 col1\" >232.000000</td>\n",
       "            </tr>\n",
       "            <tr>\n",
       "                                <td id=\"T_3ddd7_row4_col0\" class=\"data row4 col0\" >3000</td>\n",
       "                        <td id=\"T_3ddd7_row4_col1\" class=\"data row4 col1\" >539.900000</td>\n",
       "            </tr>\n",
       "    </tbody></table>"
      ],
      "text/plain": [
       "<pandas.io.formats.style.Styler at 0x7f46ba8338e0>"
      ]
     },
     "execution_count": 4,
     "metadata": {},
     "output_type": "execute_result"
    }
   ],
   "source": [
    "training_set.head().style.set_properties(**{'text-align': 'left'}).hide_index()"
   ]
  },
  {
   "cell_type": "markdown",
   "metadata": {},
   "source": [
    "* $m$ denotes the number of training examples \n",
    "* $x$ denotes the input variables / features\n",
    "* $y$ denotes the output variable / target\n",
    "* $x, y$ is a training example\n",
    "* $^{(i)}$ is the index in the training set (# row) \n",
    "* $x^{(i)}, y^{(i)}$ is the specific training example at row $i$"
   ]
  },
  {
   "cell_type": "markdown",
   "metadata": {},
   "source": [
    "So $x^{(2)}$ is the second (if we count from 1 as it is common in math) or the third (if we count from 0 as it is common in computer science) row of $x$"
   ]
  },
  {
   "cell_type": "markdown",
   "metadata": {},
   "source": [
    "  \n",
    "A pair $\\left(x^{(i)} , y^{(i)}\\right)$ is called a training example, and the dataset that we’ll be using to learn (a list of $m$ training examples) is called a training set. Note that the superscript $^{(i)}$ in the notation is simply an index into the training set, and has nothing to do with exponentiation. We will also use $X$ to denote the space of input values, and $Y$ to denote the space of output values. In this example, $X = Y = \\mathbb{R}$. \n",
    "\n",
    "To describe the supervised learning problem slightly more formally, our goal is, given a training set, to learn a function $h : X \\to Y$ so that $h(x)$ is a “good” predictor for the corresponding value of $y$. For historical reasons, this function $h$ is called a hypothesis. Seen pictorially, the process is therefore like this:\n",
    "\n",
    "![ML](./data/img/ML-flowchart.png)\n",
    "\n",
    "When the target variable that we’re trying to predict is continuous, such as in our housing example, we call the learning problem a regression problem. When $y$ can take on only a small number of discrete values (such as if, given the living area, we wanted to predict if a dwelling is a house or an apartment, say), we call it a classification problem."
   ]
  },
  {
   "cell_type": "markdown",
   "metadata": {},
   "source": [
    "## How to repesent a linear regression hypothesis\n",
    "The output of a machine learning algorythm is a function $h$. But how do we represent $h$?. Our initial choice is to represent $h$ as a linear function:\n",
    "\n",
    "$$y = h_\\theta(x) = \\theta_0 + \\theta_1x$$\n",
    "\n",
    "Sometimes, we might want to use more complex non-linear functions, but this is the simplest building block of regression algorithms which can be built upon later."
   ]
  },
  {
   "cell_type": "code",
   "execution_count": 5,
   "metadata": {
    "tags": [
     "remove_input"
    ]
   },
   "outputs": [
    {
     "data": {
      "image/png": "[encoded data removed]",
      "text/plain": [
       "<Figure size 432x288 with 1 Axes>"
      ]
     },
     "metadata": {
      "needs_background": "light"
     },
     "output_type": "display_data"
    }
   ],
   "source": [
    "fig, ax = plt.subplots()\n",
    "sns.regplot(data=training_set, x='sqf', y='price', ci=None, line_kws={'color':'none'})\n",
    "sns.regplot(data=training_set, x='sqf', y='price', ci=None, line_kws={'color':'C1'}, scatter=False, label='$y = h_\\\\theta(x) = \\\\theta_0 + \\\\theta_1x$')\n",
    "ax.legend();"
   ]
  },
  {
   "cell_type": "markdown",
   "metadata": {},
   "source": [
    "where $\\theta_0$ is the offset of $y$ from 0; $\\theta_1$ is the slope of the line, since it scales how much $y$ varies compared to $x$.\n",
    "\n",
    "# Non-linear regression\n",
    "We can improve our features and the form of our hypothesis function in a couple different ways. We can combine multiple features into one. For example, we can combine $x_1$ and $x_2$ into a new feature $x_3$ by taking $x_1 \\dot x_2x$\n",
    "\n",
    "## Polynomial Regression\n",
    "Our hypothesis function need not be linear (a straight line) if that does not fit the data well.\n",
    "\n",
    "We can change the behavior or curve of our hypothesis function by making it a quadratic, cubic or square root function (or any other form).\n",
    "\n",
    "For example, if our hypothesis function is $h_\\theta(x) = \\theta_0 + \\theta_1 x_1$ then we can create additional features based on $x_1$, to get the quadratic function $h_\\theta(x) = \\theta_0 + \\theta_1 x_1 + \\theta_2 x_1^2$ or the cubic function $h_\\theta(x) = \\theta_0 + \\theta_1 x_1 + \\theta_2 x_1^2 + \\theta_3 x_1^3$. In the cubic version, we have created new features $x_2$ and $x_3$ where $x_2 = x_1^2$ and $x_3 = x_1^3$. \n",
    "\n",
    "To make it a square root function, we could do: $h_\\theta(x) = \\theta_0 + \\theta_1 x_1 + \\theta_2 \\sqrt{x_1}$\n",
    "\n",
    "One important thing to keep in mind is, if you choose your features this way then feature scaling becomes very important.\n",
    "\n",
    "eg. if $x_1$ has range $[1, 1\\,000]$ then range of $x_1^2$ becomes $[1, 1\\,000\\,000]$ and that of $x_1^3$ becomes $[1, 1\\,000\\,000\\,000]$"
   ]
  }
 ],
 "metadata": {
  "kernelspec": {
   "display_name": "Python 3",
   "language": "python",
   "name": "python3"
  },
  "language_info": {
   "codemirror_mode": {
    "name": "ipython",
    "version": 3
   },
   "file_extension": ".py",
   "mimetype": "text/x-python",
   "name": "python",
   "nbconvert_exporter": "python",
   "pygments_lexer": "ipython3",
   "version": "3.9.1"
  }
 },
 "nbformat": 4,
 "nbformat_minor": 4
}
