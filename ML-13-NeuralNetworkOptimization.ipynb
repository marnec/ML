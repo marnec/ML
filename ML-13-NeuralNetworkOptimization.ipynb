{
 "cells": [
  {
   "cell_type": "markdown",
   "metadata": {},
   "source": [
    "---\n",
    "layout: default\n",
    "title: \"Neural Networks - Backpropagation\"\n",
    "categories: neuralNetwork\n",
    "permalink: /ML13/\n",
    "order: 13\n",
    "comments: true\n",
    "---"
   ]
  },
  {
   "cell_type": "code",
   "execution_count": 2,
   "metadata": {
    "tags": [
     "remove_cell"
    ]
   },
   "outputs": [
    {
     "name": "stdout",
     "output_type": "stream",
     "text": [
      "Populating the interactive namespace from numpy and matplotlib\n"
     ]
    }
   ],
   "source": [
    "%pylab --no-import-all inline\n",
    "from plot_ann import ann\n",
    "from graphviz import Digraph\n",
    "from mpl_flow import Flow"
   ]
  },
  {
   "cell_type": "markdown",
   "metadata": {},
   "source": [
    "# Gradien Descent\n",
    "The aim of a neural network is, to minimize the cost function calculated on its parameters, which, if using the same network as in \n",
    "<a href=\"ML10#simpleann\">ML-10</a>, are: \n",
    "\n",
    "$$\n",
    "\\begin{align}\n",
    "& W^{[1]} \\in \\mathbb{R}^{(n^{[1]}, n^{[0]})} \\\\\n",
    "& b^{[1]} \\in \\mathbb{R}^{(n^{[1]}, 1)} \\\\\n",
    "& W^{[2]} \\in \\mathbb{R}^{(n^{[2]}, n^{[1]})} \\\\\n",
    "& b^{[2]} \\in \\mathbb{R}^{(n^{[2]}, 1)}\n",
    "\\end{align}\n",
    "$$\n",
    "\n",
    "The cost function ($J$) is defined as the average over the training examples of the loss function ($\\mathcal{L}$) for a single example:\n",
    "\n",
    "$$\n",
    "J(W^{[1]},b^{[1]}, W^{[2]}, b^{[2]}) = \\frac{1}{m} \\sum_{i=1}^m \\mathcal{L}\\left(\\hat{y}, y \\right)\n",
    "$$\n",
    "\n",
    "where, if the network is used for binary classification, $\\mathcal{L}$ can be exactly the same as in logistic regression.\n",
    "\n",
    "In order to train the network, we will need to perform gradient descent, so:\n",
    "\n",
    "* For each iteration until convergence:\n",
    "\n",
    "    1. compute the prediciton $\\hat{y}$\n",
    "    2. compute the derivatives $\\frac{\\partial J}{\\partial W^{[1]}}, \\frac{\\partial J}{\\partial b^{[1]}},\\frac{\\partial J}{\\partial W^{[2]}}, \\frac{\\partial J}{\\partial b^{[2]}}$\n",
    "    3. update the parameters $W^{[1]}=W^{[1]}-\\alpha \\frac{\\partial J}{\\partial W^{[1]}},\\cdots$\n",
    "\n",
    "\n",
    "# Backpropagation\n",
    "In order to compute the derivatives in a neural network, we use a technique called **backpropagation**, where we proceed step by step backwards in the computation of the contribution to $J$ from weights of the different layers from the rightmost to the leftmost taking advantage of the [chain rule](https://en.wikipedia.org/wiki/Chain_rule)."
   ]
  },
  {
   "cell_type": "code",
   "execution_count": 22,
   "metadata": {
    "tags": [
     "remove_input"
    ]
   },
   "outputs": [
    {
     "data": {
      "image/png": "[encoded data removed]",
      "text/plain": [
       "<Figure size 720x144 with 1 Axes>"
      ]
     },
     "metadata": {
      "needs_background": "light"
     },
     "output_type": "display_data"
    }
   ],
   "source": [
    "fig, ax = plt.subplots(figsize=(10, 2))\n",
    "f = Flow(ax=ax)\n",
    "f.node('x', label='$x$')\n",
    "f.node('W1', label='$W^{[1]}$', travel='s', connect=False)\n",
    "f.node('b1', label='$b^{[1]}$', travel='s', connect=False)\n",
    "f.node('z1', label='$z^{[1]}=W^{[1]}x+b^{[1]}$', startpoint='x')\n",
    "f.edge('W1', 'z1')\n",
    "f.edge('b1', 'z1')\n",
    "f.node('a1', label='$a^{[1]}=g(z^{[1]})$')\n",
    "f.node('W2', label='$W^{[2]}$', travel='s', connect=False)\n",
    "f.node('b2', label='$b^{[2]}$', travel='s', connect=False)\n",
    "f.node('z2', label='$z^{[2]}=W^{[2]}x+b^{[2]}$', startpoint='a1')\n",
    "f.edge('W2', 'z2')\n",
    "f.edge('b2', 'z2')\n",
    "f.node('a2', label='$a^{[2]}=g(z^{[2]})$', startpoint='z2')\n",
    "f.node('L', label='$\\\\mathcal{L}(a^{[2]}, y)$')\n",
    "# f.edge('L', 'a2', tailport='s', headport='s', arrowprops=dict(connectionstyle='arc3,rad=0.5', color='r'), c='r', label='$da^{[2]}$')\n",
    "f.edge('a2', 'z2', tailport='s', headport='s', arrowprops=dict(connectionstyle='arc3,rad=0.5', color='r'), c='r', label='$dz^{[2]}$')\n",
    "f.edge('z2', 'W2', tailport='s', headport='e', arrowprops=dict(connectionstyle='arc3,rad=0.3', color='r'), c='r', label='$dW^{[2]}$')\n",
    "f.edge('z2', 'b2', tailport='s', headport='e', arrowprops=dict(connectionstyle='arc3,rad=0.5', color='r'), c='r', label='$db^{[2]}$')\n",
    "f.edge('W2', 'z1', tailport='w', headport='s', arrowprops=dict(connectionstyle='arc3,rad=0.3', color='r'), c='r', label='$dz^{[1]}$')\n",
    "f.edge('z1', 'W1', tailport='s', headport='e', arrowprops=dict(connectionstyle='arc3,rad=0.3', color='r'), c='r', label='$dW^{[1]}$')\n",
    "f.edge('z1', 'b1', tailport='s', headport='e', arrowprops=dict(connectionstyle='arc3,rad=0.5', color='r'), c='r', label='$db^{[1]}$')"
   ]
  },
  {
   "cell_type": "markdown",
   "metadata": {},
   "source": [
    "The derivative $dW^{[2]}= \\frac{\\partial J}{\\partial W^{[2]}}$ and $db^{[2]}= \\frac{\\partial J}{\\partial b^{[2]}}$ are esaily calculated in two steps:\n",
    "\n",
    "$$\n",
    "\\begin{aligned}\n",
    "&dZ^{[2]}=A^{[2]} - Y\\\\\n",
    "&dW^{[2]}= \\frac{1}{m}dZ^{[2]}A^{[1]T}\\\\\n",
    "&db^{[2]}= \\frac{1}{m}\\sum dZ^{[2]}\n",
    "\\end{aligned}\n",
    "$$\n",
    "\n",
    "We can see that in order to calculate $dW^{[2]}$ and $db^{[2]}$, we need to calculate the term $dZ^{[2]}$, that represents the error a layer.\n",
    "\n",
    "To calculate $dW^{[1]}$ and $db^{[1]}$, we need $dZ^{[2]}$, which is calculated building on the the calculation in the previous layer\n",
    "\n",
    "$$\n",
    "\\begin{aligned}\n",
    "&dZ^{[1]}= W^{[2]T} dZ^{[2]} \\odot g' (Z^{[1]})\\\\\n",
    "&dW^{[1]}= \\frac{1}{m}dZ^{[2]}\\\\\n",
    "&db^{[1]}= \\frac{1}{m}\\sum dZ^{[1]}\n",
    "\\end{aligned}\n",
    "$$"
   ]
  }
 ],
 "metadata": {
  "kernelspec": {
   "display_name": "Python 3",
   "language": "python",
   "name": "python3"
  },
  "language_info": {
   "codemirror_mode": {
    "name": "ipython",
    "version": 3
   },
   "file_extension": ".py",
   "mimetype": "text/x-python",
   "name": "python",
   "nbconvert_exporter": "python",
   "pygments_lexer": "ipython3",
   "version": "3.8.5"
  }
 },
 "nbformat": 4,
 "nbformat_minor": 4
}
