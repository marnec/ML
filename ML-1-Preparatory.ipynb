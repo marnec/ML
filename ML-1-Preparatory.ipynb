{
 "cells": [
  {
   "cell_type": "markdown",
   "id": "adjusted-least",
   "metadata": {},
   "source": [
    "---\n",
    "layout: default\n",
    "title: \"Preparatory concepts\"\n",
    "categories: introduction\n",
    "permalink: /ML1/\n",
    "order: 1\n",
    "comments: true\n",
    "---"
   ]
  },
  {
   "cell_type": "code",
   "execution_count": 1,
   "id": "lined-confusion",
   "metadata": {
    "tags": [
     "remove_cell"
    ]
   },
   "outputs": [
    {
     "name": "stdout",
     "output_type": "stream",
     "text": [
      "Populating the interactive namespace from numpy and matplotlib\n"
     ]
    },
    {
     "name": "stderr",
     "output_type": "stream",
     "text": [
      "/home/marnec/.local/lib/python3.9/site-packages/pandas/compat/__init__.py:97: UserWarning: Could not import the lzma module. Your installed Python is incomplete. Attempting to use lzma compression will result in a RuntimeError.\n",
      "  warnings.warn(msg)\n"
     ]
    }
   ],
   "source": [
    "%pylab --no-import-all inline\n",
    "import pandas as pd\n",
    "from graphviz import Digraph\n",
    "from mpl_flow import Flow"
   ]
  },
  {
   "cell_type": "markdown",
   "id": "antique-escape",
   "metadata": {},
   "source": [
    "# Derivatives and computation graph\n",
    "Derivatives are a fundamental concept in machine learning, they are the building block of optimization and having an understanding of what a derivative is vastly helps in understanding how optimization and gradient descent work.\n",
    "\n",
    "## Derivative\n",
    "Suppose we have a function $f(a) = 3a$, then $f(2) = 6$. If we take a small increment of $a$ ($a'$) we will have $f(2.001) = 6.003$. Connecting $a$ and $a'$ forms a triangle, with an height ($a'-a$) and a width ($f(a') - f(a)$) (<a href=\"#fig:derivative\">figure below</a>).\n",
    "\n",
    "The slope $\\frac{\\text{height} }{\\text{width}}=3$ so we say that the derivative of $f(a)$ at the point $a=2$ is $3$. Height and width are the the vertical and horizontal distances and the slope is also expressed as $\\frac{df(a)}{da}$ or as $\\frac{d}{da}f(a)$. The reason why $a'$ doesn't appear in this representation is because, formally, the derivative is calculated at a very small increment of $a$ such as $a' \\approx a$.\n",
    "\n",
    "For a straight line (<a href=\"#fig:derivative\">figure below</a>, panel A) the derivative is constant along the whole line."
   ]
  },
  {
   "cell_type": "code",
   "execution_count": 2,
   "id": "integral-andrews",
   "metadata": {
    "tags": [
     "remove_input"
    ]
   },
   "outputs": [
    {
     "data": {
      "image/png": "[encoded data removed]",
      "text/plain": [
       "<Figure size 720x288 with 2 Axes>"
      ]
     },
     "metadata": {
      "needs_background": "light"
     },
     "output_type": "display_data"
    }
   ],
   "source": [
    "fig, axes = plt.subplots(1, 2, figsize=(10, 4))\n",
    "ax, ax2 = axes\n",
    "xmax = 5\n",
    "x = np.linspace(0, xmax)\n",
    "y = 3*x\n",
    "ax.plot(x, y)\n",
    "ax.set_aspect('equal')\n",
    "ax.set_xlim(-xmax*.1, xmax*3)\n",
    "ax.plot([2, 4, 4, 2], [6, 12, 6, 6], marker='o', lw=2, markevery=[0, 1])\n",
    "\n",
    "ax.set_xticks([2, 4])\n",
    "ax.set_xticklabels([2, 2.001])\n",
    "ax.set_yticks([6, 12])\n",
    "ax.set_yticklabels([6, 6.003])\n",
    "ax.set_xlabel('')\n",
    "ax.annotate('0.001', (1.6, 5), xytext=(4.4, 5), va='center',  arrowprops={'arrowstyle': '<->'})\n",
    "ax.annotate('0.003', (5, 5.7), xytext=(5, 12.6), ha='center',  arrowprops={'arrowstyle': '<->'});\n",
    "ax.text(5.5, 9, '$df(a)$', fontsize=13)\n",
    "ax.text(3, 4.5, '$da$', va='top', ha='center', fontsize=13)\n",
    "ax.set_title('$f(a)=3a$', fontsize=13)\n",
    "ax.text(-0.1, 1.1, 'A', transform=ax.transAxes,\n",
    "  fontsize=15, va='top')\n",
    "\n",
    "ax2.plot(x, x**2)\n",
    "ax2.set_xlim(-xmax*.1, xmax*1.4)\n",
    "\n",
    "x1, x2 = 10, 15\n",
    "dx = np.r_[x[[x1, x2]], x[x2], x[x1]]\n",
    "dy = np.r_[x[[x1, x2]], x[x1], x[x1]]**2\n",
    "ax2.plot(dx, dy, marker='o', markevery=[0, 1])\n",
    "\n",
    "x1, x2 = 40, 45\n",
    "dx = np.r_[x[[x1, x2]], x[x2], x[x1]]\n",
    "dy = np.r_[x[[x1, x2]], x[x1], x[x1]]**2\n",
    "ax2.plot(dx, dy, marker='o', markevery=[0, 1])\n",
    "ax2.set_title('$f(a)=a^2$', fontsize=13)\n",
    "ax2.set_xticks([])\n",
    "ax2.set_xticklabels([])\n",
    "ax2.set_yticks([])\n",
    "ax2.set_yticklabels([])\n",
    "ax2.text(-0.1, 1.1, 'B', transform=ax2.transAxes,\n",
    "  fontsize=15, va='top');"
   ]
  },
  {
   "cell_type": "markdown",
   "id": "immune-constraint",
   "metadata": {},
   "source": [
    "<i id=\"fig:derivative\">The concept of derivative applied to a straight line (A), where the derivative is constant along the whole length of the function; and to a non-linear function (B), where the derivative changes based on the value of $a$.</i>\n",
    "\n",
    "## Computational graph\n",
    "The computational graph explains the forward- and backward- propagation (as to say the flow of the computation) that takes place in the training of a neural network. \n",
    "\n",
    "To illustrate the computation graph let's use a simpler example than a full blown neural network, let's say that we are writing a function $J(a, b, c) = 3(a+bc)$. In order to compute this function there are three steps: \n",
    "\n",
    "1. $u = bc$\n",
    "2. $v = a + u$\n",
    "3. $J=3v$\n",
    "\n",
    "We can draw these steps in a computational graph (<a href=\"#compgraph\">figure below</a>)"
   ]
  },
  {
   "cell_type": "code",
   "execution_count": 3,
   "id": "surprising-rotation",
   "metadata": {
    "tags": [
     "remove_input"
    ]
   },
   "outputs": [
    {
     "data": {
      "image/png": "[encoded data removed]",
      "text/plain": [
       "<Figure size 432x288 with 1 Axes>"
      ]
     },
     "metadata": {
      "needs_background": "light"
     },
     "output_type": "display_data"
    }
   ],
   "source": [
    "f = Flow()\n",
    "f.node('a', xlabel=5)\n",
    "f.node('b', travel='s', connect=False, xlabel=3)\n",
    "f.node('c', travel='s', connect=False, xlabel=2)\n",
    "f.node('u', label='$u=bc$', xlabel=6, startpoint='b')\n",
    "f.node('v', label='$v=a+u$', xlabel=11)\n",
    "f.node('j', label='$J=3v$', xlabel=33)\n",
    "f.edge('c', 'u')\n",
    "f.edge('a', 'v')"
   ]
  },
  {
   "cell_type": "markdown",
   "id": "weighted-direction",
   "metadata": {},
   "source": [
    "<i id=\"compgraph\">Computational graph showing the flow of a very simple process</i>\n",
    "\n",
    "Suppose we want to calculate $\\frac{dJ}{dv}$ ( in other words if we change the value $v$ of a little amount how would the value of $J$ change?). \n",
    "\n",
    "* $J = 3v$\n",
    "* $v = 11 \\to 3.001$\n",
    "* $J = 33 \\to 33.003$\n",
    "\n",
    "So \n",
    "\n",
    "$$\\frac{dJ}{dv}=\\frac{0.003}{0.001}=3$$\n",
    "\n",
    "In the terminology of backpropagation if we want to compute $\\frac{dJ}{dv}$ we take one step back from $J$ to $v$"
   ]
  },
  {
   "cell_type": "code",
   "execution_count": 4,
   "id": "complicated-celtic",
   "metadata": {
    "tags": [
     "remove_input"
    ]
   },
   "outputs": [
    {
     "data": {
      "image/png": "[encoded data removed]",
      "text/plain": [
       "<Figure size 432x288 with 1 Axes>"
      ]
     },
     "metadata": {
      "needs_background": "light"
     },
     "output_type": "display_data"
    }
   ],
   "source": [
    "f = Flow()\n",
    "f.node('a', xlabel=5)\n",
    "f.node('b', travel='s', connect=False, xlabel=3)\n",
    "f.node('c', travel='s', connect=False, xlabel=2)\n",
    "f.node('u', label='$u=bc$', xlabel=6, startpoint='b')\n",
    "f.node('v', label='$v=a+u$', xlabel=11)\n",
    "f.node('j', label='$J=3v$', xlabel=33)\n",
    "f.edge('c', 'u')\n",
    "f.edge('a', 'v')\n",
    "f.edge('j', 'v', headport='se', tailport='sw', arrowprops=dict(color='red', connectionstyle='arc3,rad=.5'))\n",
    "# dot2.edge('j', 'v', headport='s', tailport='s', color='red')\n"
   ]
  },
  {
   "cell_type": "markdown",
   "id": "joined-savage",
   "metadata": {},
   "source": [
    "We now want to calculate $\\frac{dJ}{da}$, in other words the change of value $J$ when $a$ changes\n",
    "\n",
    "* $a = 5 \\to 5.001$\n",
    "* $v = 11 \\to 11.001$\n",
    "* $J = 33 \\to 33.003$\n",
    "\n",
    "So, once again\n",
    "\n",
    "$$\\frac{dJ}{da}=\\frac{0.003}{0.001}=3$$\n",
    "\n",
    "Where the net change is given by \n",
    "\n",
    "$$\n",
    "\\frac{dJ}{da}=\\frac{dJ}{dv}\\frac{dv}{da}\n",
    "$$\n",
    "\n",
    "\n",
    "In calculus this is called the **chain rule** where $a$ affects $v$ that affects $J$ ($a\\to v \\to J$). So that the change of $J$ when $a$ is given by the product $\\frac{dJ}{dv}\\frac{dv}{da}$. This illustrates how having computed $\\frac{dJ}{dv}$ helps in calculating $\\frac{dJ}{da}$"
   ]
  },
  {
   "cell_type": "code",
   "execution_count": 5,
   "id": "binding-conspiracy",
   "metadata": {
    "tags": [
     "remove_input"
    ]
   },
   "outputs": [
    {
     "data": {
      "image/png": "[encoded data removed]",
      "text/plain": [
       "<Figure size 432x288 with 1 Axes>"
      ]
     },
     "metadata": {
      "needs_background": "light"
     },
     "output_type": "display_data"
    }
   ],
   "source": [
    "f = Flow()\n",
    "f.node('a', xlabel=5)\n",
    "f.node('b', travel='s', connect=False, xlabel=3)\n",
    "f.node('c', travel='s', connect=False, xlabel=2)\n",
    "f.node('u', label='$u=bc$', xlabel=6, startpoint='b')\n",
    "f.node('v', label='$v=a+u$', xlabel=11)\n",
    "f.node('j', label='$J=3v$', xlabel=33)\n",
    "f.edge('c', 'u')\n",
    "f.edge('a', 'v')\n",
    "f.edge('j', 'v', headport='se', tailport='sw', arrowprops=dict(color='red', connectionstyle='arc3,rad=.5'))\n",
    "f.edge('v', 'a', headport='e', tailport='n', arrowprops=dict(color='red', connectionstyle='arc3,rad=-.3'))"
   ]
  },
  {
   "cell_type": "markdown",
   "id": "european-moderator",
   "metadata": {},
   "source": [
    "# Python vectorization\n",
    "In the pre-deep-learning era vectorization was optional, in the deep-learning era vectorization absolutely necessary since both the size of networks and of data is vastly increased.\n",
    "\n",
    "## Vector-vector product\n",
    "In particular, in deep learning (and in machine learning in general) we need to calculate \n",
    "\n",
    "$$\n",
    "z = w^Tx+b\n",
    "$$\n",
    "\n",
    "for \n",
    "\n",
    "$$\n",
    "w =\n",
    "\\begin{bmatrix}\n",
    "\\vdots \\\\ \\vdots\n",
    "\\end{bmatrix} \\in \\mathbb{R}^{n_x}\n",
    "\\qquad \n",
    "x = \\begin{bmatrix}\n",
    "\\vdots \\\\ \\vdots\n",
    "\\end{bmatrix} \\in \\mathbb{R}^{n_x}\n",
    "$$\n",
    "\n",
    "The vectorized form of this operation in python is "
   ]
  },
  {
   "cell_type": "code",
   "execution_count": 6,
   "id": "existing-jacob",
   "metadata": {
    "tags": [
     "remove_input"
    ]
   },
   "outputs": [],
   "source": [
    "w, x, b = np.random.rand(3, 10)"
   ]
  },
  {
   "cell_type": "code",
   "execution_count": 7,
   "id": "marine-decline",
   "metadata": {
    "tags": [
     "remove_output"
    ]
   },
   "outputs": [
    {
     "data": {
      "text/plain": [
       "array([3.57563127, 3.41352604, 3.1028731 , 3.29865773, 3.35007464,\n",
       "       2.98679438, 3.61300207, 3.23147002, 3.37867717, 3.17444148])"
      ]
     },
     "execution_count": 7,
     "metadata": {},
     "output_type": "execute_result"
    }
   ],
   "source": [
    "np.dot(w, x) + b"
   ]
  },
  {
   "cell_type": "markdown",
   "id": "charming-attribute",
   "metadata": {},
   "source": [
    "where `np.dot(w, x)` $\\equiv w^Tx$"
   ]
  },
  {
   "cell_type": "markdown",
   "id": "convenient-assets",
   "metadata": {},
   "source": [
    "## Matrix-vector product\n",
    "Incidentally, the matrix-vector product $Av$, where \n",
    "\n",
    "$$\n",
    "A = \\begin{bmatrix}\n",
    "\\ddots &  \\\\\n",
    "&   \\\\\n",
    "&  \\ddots \\\\\n",
    "\\end{bmatrix} \\in \\mathbb{R}^{m \\times n} \\qquad \n",
    "v=\\begin{bmatrix}\n",
    "\\vdots \\\\ \\vdots\n",
    "\\end{bmatrix} \\in \\mathbb{R}^n\n",
    "$$"
   ]
  },
  {
   "cell_type": "code",
   "execution_count": 8,
   "id": "touched-accessory",
   "metadata": {
    "tags": [
     "remove_input"
    ]
   },
   "outputs": [],
   "source": [
    "v = np.random.rand(10)\n",
    "A = np.random.rand(3, 10)"
   ]
  },
  {
   "cell_type": "code",
   "execution_count": 9,
   "id": "handy-legend",
   "metadata": {
    "tags": [
     "remove_output"
    ]
   },
   "outputs": [
    {
     "data": {
      "text/plain": [
       "array([2.65668484, 2.16145829, 2.49165513])"
      ]
     },
     "execution_count": 9,
     "metadata": {},
     "output_type": "execute_result"
    }
   ],
   "source": [
    "np.dot(A, v)"
   ]
  },
  {
   "cell_type": "markdown",
   "id": "governmental-affiliate",
   "metadata": {},
   "source": [
    "Notice that the exact same syntax performs both vecto-vector and matrix-vector multiplication, this is due to the overload implemented in the `np.dot` function. To know more about it, check out [its documentation](https://numpy.org/doc/stable/reference/generated/numpy.dot.html)\n",
    "\n",
    "## Vectorized element-wise operations\n",
    "To apply a function element by element to whole arrays you can simply use`np.ufuncs` ([numpy universal functions](https://numpy.org/doc/stable/reference/generated/numpy.ufunc.html#numpy.ufunc))"
   ]
  },
  {
   "cell_type": "code",
   "execution_count": 10,
   "id": "revised-edwards",
   "metadata": {
    "tags": [
     "remove_input"
    ]
   },
   "outputs": [],
   "source": [
    "v = np.random.rand(10).round(2)"
   ]
  },
  {
   "cell_type": "code",
   "execution_count": 11,
   "id": "accomplished-humor",
   "metadata": {},
   "outputs": [
    {
     "data": {
      "text/plain": [
       "array([0.13, 0.98, 0.16, 0.9 , 0.73, 0.39, 0.46, 0.01, 0.25, 0.69])"
      ]
     },
     "execution_count": 11,
     "metadata": {},
     "output_type": "execute_result"
    }
   ],
   "source": [
    "v"
   ]
  },
  {
   "cell_type": "code",
   "execution_count": 12,
   "id": "bacterial-turning",
   "metadata": {},
   "outputs": [
    {
     "data": {
      "text/plain": [
       "array([1.14, 2.66, 1.17, 2.46, 2.08, 1.48, 1.58, 1.01, 1.28, 1.99])"
      ]
     },
     "execution_count": 12,
     "metadata": {},
     "output_type": "execute_result"
    }
   ],
   "source": [
    "np.exp(v).round(2)"
   ]
  },
  {
   "cell_type": "code",
   "execution_count": 13,
   "id": "extensive-windsor",
   "metadata": {},
   "outputs": [
    {
     "data": {
      "text/plain": [
       "array([-2.04, -0.02, -1.83, -0.11, -0.31, -0.94, -0.78, -4.61, -1.39,\n",
       "       -0.37])"
      ]
     },
     "execution_count": 13,
     "metadata": {},
     "output_type": "execute_result"
    }
   ],
   "source": [
    "np.log(v).round(2)"
   ]
  },
  {
   "cell_type": "code",
   "execution_count": 14,
   "id": "unnecessary-chorus",
   "metadata": {},
   "outputs": [
    {
     "data": {
      "text/plain": [
       "array([1.13, 1.98, 1.16, 1.9 , 1.73, 1.39, 1.46, 1.01, 1.25, 1.69])"
      ]
     },
     "execution_count": 14,
     "metadata": {},
     "output_type": "execute_result"
    }
   ],
   "source": [
    "v + 1"
   ]
  },
  {
   "cell_type": "code",
   "execution_count": 15,
   "id": "satisfactory-ensemble",
   "metadata": {},
   "outputs": [
    {
     "data": {
      "text/plain": [
       "array([0.26, 1.96, 0.32, 1.8 , 1.46, 0.78, 0.92, 0.02, 0.5 , 1.38])"
      ]
     },
     "execution_count": 15,
     "metadata": {},
     "output_type": "execute_result"
    }
   ],
   "source": [
    "v * 2"
   ]
  },
  {
   "cell_type": "markdown",
   "id": "falling-leisure",
   "metadata": {},
   "source": [
    "## Broadcasting\n",
    "To a complete guide to broadcasting check out [numpy great documentation](https://numpy.org/doc/stable/user/basics.broadcasting.html#:~:text=The%20term%20broadcasting%20describes%20how,that%20they%20have%20compatible%20shapes.&text=NumPy%20operations%20are%20usually%20done,element%2Dby%2Delement%20basis.)"
   ]
  },
  {
   "cell_type": "code",
   "execution_count": 16,
   "id": "international-imaging",
   "metadata": {
    "tags": [
     "remove_input"
    ]
   },
   "outputs": [
    {
     "data": {
      "text/html": [
       "<div>\n",
       "<style scoped>\n",
       "    .dataframe tbody tr th:only-of-type {\n",
       "        vertical-align: middle;\n",
       "    }\n",
       "\n",
       "    .dataframe tbody tr th {\n",
       "        vertical-align: top;\n",
       "    }\n",
       "\n",
       "    .dataframe thead th {\n",
       "        text-align: right;\n",
       "    }\n",
       "</style>\n",
       "<table border=\"1\" class=\"dataframe\">\n",
       "  <thead>\n",
       "    <tr style=\"text-align: right;\">\n",
       "      <th></th>\n",
       "      <th>Apples</th>\n",
       "      <th>Beef</th>\n",
       "      <th>Eggs</th>\n",
       "      <th>Potatoes</th>\n",
       "    </tr>\n",
       "  </thead>\n",
       "  <tbody>\n",
       "    <tr>\n",
       "      <th>Carb</th>\n",
       "      <td>56.0</td>\n",
       "      <td>0</td>\n",
       "      <td>4.4</td>\n",
       "      <td>6.8</td>\n",
       "    </tr>\n",
       "    <tr>\n",
       "      <th>Protein</th>\n",
       "      <td>1.2</td>\n",
       "      <td>104</td>\n",
       "      <td>52.0</td>\n",
       "      <td>8.0</td>\n",
       "    </tr>\n",
       "    <tr>\n",
       "      <th>Fat</th>\n",
       "      <td>1.8</td>\n",
       "      <td>135</td>\n",
       "      <td>99.0</td>\n",
       "      <td>0.9</td>\n",
       "    </tr>\n",
       "  </tbody>\n",
       "</table>\n",
       "</div>"
      ],
      "text/plain": [
       "         Apples  Beef  Eggs  Potatoes\n",
       "Carb       56.0     0   4.4       6.8\n",
       "Protein     1.2   104  52.0       8.0\n",
       "Fat         1.8   135  99.0       0.9"
      ]
     },
     "execution_count": 16,
     "metadata": {},
     "output_type": "execute_result"
    }
   ],
   "source": [
    "A = pd.DataFrame([[56, 0, 4.4, 6.8], [1.2, 104, 52, 8], [1.8, 135, 99, 0.9]], \n",
    "                        columns=['Apples', 'Beef', 'Eggs', 'Potatoes'], index=['Carb', 'Protein', 'Fat'])\n",
    "A"
   ]
  },
  {
   "cell_type": "code",
   "execution_count": 17,
   "id": "upset-surgery",
   "metadata": {},
   "outputs": [
    {
     "data": {
      "text/plain": [
       "array([[ 56. ,   0. ,   4.4,   6.8],\n",
       "       [  1.2, 104. ,  52. ,   8. ],\n",
       "       [  1.8, 135. ,  99. ,   0.9]])"
      ]
     },
     "execution_count": 17,
     "metadata": {},
     "output_type": "execute_result"
    }
   ],
   "source": [
    "A = A.values\n",
    "A"
   ]
  },
  {
   "cell_type": "code",
   "execution_count": 18,
   "id": "limited-celebration",
   "metadata": {},
   "outputs": [
    {
     "data": {
      "text/plain": [
       "array([ 59. , 239. , 155.4,  15.7])"
      ]
     },
     "execution_count": 18,
     "metadata": {},
     "output_type": "execute_result"
    }
   ],
   "source": [
    "cal = A.sum(axis=0)\n",
    "cal"
   ]
  },
  {
   "cell_type": "code",
   "execution_count": 19,
   "id": "referenced-proceeding",
   "metadata": {},
   "outputs": [
    {
     "data": {
      "text/plain": [
       "array([[94.91525424,  0.        ,  2.83140283, 43.31210191],\n",
       "       [ 2.03389831, 43.51464435, 33.46203346, 50.95541401],\n",
       "       [ 3.05084746, 56.48535565, 63.70656371,  5.73248408]])"
      ]
     },
     "execution_count": 19,
     "metadata": {},
     "output_type": "execute_result"
    }
   ],
   "source": [
    "(A / cal.reshape(1, 4) * 100)"
   ]
  },
  {
   "cell_type": "code",
   "execution_count": 20,
   "id": "opponent-airplane",
   "metadata": {},
   "outputs": [
    {
     "data": {
      "text/plain": [
       "array([[94.91525424,  0.        ,  2.83140283, 43.31210191],\n",
       "       [ 2.03389831, 43.51464435, 33.46203346, 50.95541401],\n",
       "       [ 3.05084746, 56.48535565, 63.70656371,  5.73248408]])"
      ]
     },
     "execution_count": 20,
     "metadata": {},
     "output_type": "execute_result"
    }
   ],
   "source": [
    "A / cal * 100"
   ]
  },
  {
   "cell_type": "markdown",
   "id": "standard-ireland",
   "metadata": {},
   "source": [
    "In general if you have a $m, n$ matrix (A) \n",
    "\n",
    "* if you apply an operation with an $1, n$ matrix (B), then B will be copied $m$ times and the operations applied element-wise\n",
    "* if you apply an operation with an $m, 1$ matrix (C), then C will be copied $n$ times and the operations applied element-wise"
   ]
  },
  {
   "cell_type": "markdown",
   "id": "martial-bloom",
   "metadata": {},
   "source": [
    "## numpy Vectors\n",
    "`numpy` offers great flexibility at the cost of rigorousness, sometimes wrong-looking expression give unexpectedly correct results and vice versa.\n",
    "Heres a series of considerations and suggestions for dealing with `numpy`.\n",
    "\n",
    "For example let's take a random vector of 5 elements"
   ]
  },
  {
   "cell_type": "code",
   "execution_count": 21,
   "id": "burning-denver",
   "metadata": {},
   "outputs": [
    {
     "data": {
      "text/plain": [
       "array([0.70273802, 0.59057133, 0.92142553, 0.38603558, 0.37320026])"
      ]
     },
     "execution_count": 21,
     "metadata": {},
     "output_type": "execute_result"
    }
   ],
   "source": [
    "a = np.random.rand(5)\n",
    "a"
   ]
  },
  {
   "cell_type": "markdown",
   "id": "incredible-length",
   "metadata": {},
   "source": [
    "Whose shape is"
   ]
  },
  {
   "cell_type": "code",
   "execution_count": 22,
   "id": "naughty-flexibility",
   "metadata": {},
   "outputs": [
    {
     "data": {
      "text/plain": [
       "(5,)"
      ]
     },
     "execution_count": 22,
     "metadata": {},
     "output_type": "execute_result"
    }
   ],
   "source": [
    "a.shape"
   ]
  },
  {
   "cell_type": "markdown",
   "id": "functional-calgary",
   "metadata": {},
   "source": [
    "This is called a rank 1 vector in python and it's neither a row vector nor a column vector and its behavior is sometimes unexpected. \n",
    "\n",
    "For example, its transpose is equal to itself "
   ]
  },
  {
   "cell_type": "code",
   "execution_count": 23,
   "id": "ranking-coordination",
   "metadata": {},
   "outputs": [
    {
     "data": {
      "text/plain": [
       "array([0.70273802, 0.59057133, 0.92142553, 0.38603558, 0.37320026])"
      ]
     },
     "execution_count": 23,
     "metadata": {},
     "output_type": "execute_result"
    }
   ],
   "source": [
    "a.T"
   ]
  },
  {
   "cell_type": "markdown",
   "id": "alternative-trailer",
   "metadata": {},
   "source": [
    "and the inner product of `a` and `a.T` is not a matrix instead is a scalar"
   ]
  },
  {
   "cell_type": "code",
   "execution_count": 24,
   "id": "proper-helmet",
   "metadata": {},
   "outputs": [
    {
     "data": {
      "text/plain": [
       "1.9799421335211578"
      ]
     },
     "execution_count": 24,
     "metadata": {},
     "output_type": "execute_result"
    }
   ],
   "source": [
    "np.dot(a, a.T)"
   ]
  },
  {
   "cell_type": "markdown",
   "id": "intensive-train",
   "metadata": {},
   "source": [
    "So, instead of using rank 1 vectors you may want to use rank 2 vectors, which have a much more predictable behavior."
   ]
  },
  {
   "cell_type": "code",
   "execution_count": 25,
   "id": "fluid-radio",
   "metadata": {},
   "outputs": [
    {
     "data": {
      "text/plain": [
       "array([[0.5600209 ],\n",
       "       [0.05814544],\n",
       "       [0.98815322],\n",
       "       [0.24366541],\n",
       "       [0.16702286]])"
      ]
     },
     "execution_count": 25,
     "metadata": {},
     "output_type": "execute_result"
    }
   ],
   "source": [
    "a = np.random.rand(5, 1)\n",
    "a"
   ]
  },
  {
   "cell_type": "code",
   "execution_count": 26,
   "id": "suffering-dealing",
   "metadata": {},
   "outputs": [
    {
     "data": {
      "text/plain": [
       "array([[0.5600209 , 0.05814544, 0.98815322, 0.24366541, 0.16702286]])"
      ]
     },
     "execution_count": 26,
     "metadata": {},
     "output_type": "execute_result"
    }
   ],
   "source": [
    "a.T"
   ]
  },
  {
   "cell_type": "code",
   "execution_count": 27,
   "id": "configured-mentor",
   "metadata": {},
   "outputs": [
    {
     "data": {
      "text/plain": [
       "array([[0.31362341, 0.03256266, 0.55338646, 0.13645772, 0.09353629],\n",
       "       [0.03256266, 0.00338089, 0.0574566 , 0.01416803, 0.00971162],\n",
       "       [0.55338646, 0.0574566 , 0.97644678, 0.24077876, 0.16504418],\n",
       "       [0.13645772, 0.01416803, 0.24077876, 0.05937283, 0.04069769],\n",
       "       [0.09353629, 0.00971162, 0.16504418, 0.04069769, 0.02789664]])"
      ]
     },
     "execution_count": 27,
     "metadata": {},
     "output_type": "execute_result"
    }
   ],
   "source": [
    "np.dot(a, a.T)"
   ]
  },
  {
   "cell_type": "markdown",
   "id": "brief-python",
   "metadata": {},
   "source": [
    "rank 1 arrays can always be reshaped in row or columns vectors (or higher dimensional matrices)"
   ]
  },
  {
   "cell_type": "code",
   "execution_count": 28,
   "id": "motivated-democracy",
   "metadata": {},
   "outputs": [
    {
     "data": {
      "text/plain": [
       "array([0.63684256, 0.57294573, 0.41888045, 0.70994363, 0.3930198 ])"
      ]
     },
     "execution_count": 28,
     "metadata": {},
     "output_type": "execute_result"
    }
   ],
   "source": [
    "a = np.random.rand(5)\n",
    "a"
   ]
  },
  {
   "cell_type": "code",
   "execution_count": 29,
   "id": "israeli-belarus",
   "metadata": {},
   "outputs": [
    {
     "data": {
      "text/plain": [
       "array([[0.63684256],\n",
       "       [0.57294573],\n",
       "       [0.41888045],\n",
       "       [0.70994363],\n",
       "       [0.3930198 ]])"
      ]
     },
     "execution_count": 29,
     "metadata": {},
     "output_type": "execute_result"
    }
   ],
   "source": [
    "a.reshape(5, 1)"
   ]
  },
  {
   "cell_type": "code",
   "execution_count": 30,
   "id": "fourth-spotlight",
   "metadata": {},
   "outputs": [
    {
     "data": {
      "text/plain": [
       "array([[0.63684256, 0.57294573, 0.41888045, 0.70994363, 0.3930198 ]])"
      ]
     },
     "execution_count": 30,
     "metadata": {},
     "output_type": "execute_result"
    }
   ],
   "source": [
    "a.reshape(1, 5)"
   ]
  }
 ],
 "metadata": {
  "kernelspec": {
   "display_name": "Python 3",
   "language": "python",
   "name": "python3"
  },
  "language_info": {
   "codemirror_mode": {
    "name": "ipython",
    "version": 3
   },
   "file_extension": ".py",
   "mimetype": "text/x-python",
   "name": "python",
   "nbconvert_exporter": "python",
   "pygments_lexer": "ipython3",
   "version": "3.9.1"
  }
 },
 "nbformat": 4,
 "nbformat_minor": 5
}
