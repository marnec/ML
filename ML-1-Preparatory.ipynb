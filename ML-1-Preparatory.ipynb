{
 "cells": [
  {
   "cell_type": "markdown",
   "id": "included-flower",
   "metadata": {},
   "source": [
    "---\n",
    "layout: default\n",
    "title: \"Preparatory concepts\"\n",
    "categories: introduction\n",
    "permalink: /ML1/\n",
    "order: 1\n",
    "comments: true\n",
    "---"
   ]
  },
  {
   "cell_type": "code",
   "execution_count": 1,
   "id": "conceptual-waters",
   "metadata": {
    "tags": [
     "remove_cell"
    ]
   },
   "outputs": [
    {
     "name": "stdout",
     "output_type": "stream",
     "text": [
      "Populating the interactive namespace from numpy and matplotlib\n"
     ]
    },
    {
     "name": "stderr",
     "output_type": "stream",
     "text": [
      "/home/marnec/.local/lib/python3.9/site-packages/pandas/compat/__init__.py:97: UserWarning: Could not import the lzma module. Your installed Python is incomplete. Attempting to use lzma compression will result in a RuntimeError.\n",
      "  warnings.warn(msg)\n"
     ]
    }
   ],
   "source": [
    "%pylab --no-import-all inline\n",
    "import pandas as pd\n",
    "from graphviz import Digraph\n",
    "from mpl_flow import Flow"
   ]
  },
  {
   "cell_type": "markdown",
   "id": "ordered-database",
   "metadata": {},
   "source": [
    "# Derivatives and computation graph\n",
    "Derivatives are a fundamental concept in machine learning, they are the building block of optimization and having an understanding of what a derivative is vastly helps in understanding how optimization and gradient descent work.\n",
    "\n",
    "## Derivative\n",
    "Suppose we have a function $f(a) = 3a$, then $f(2) = 6$. If we take a small increment of $a$ ($a'$) we will have $f(2.001) = 6.003$. Connecting $a$ and $a'$ forms a triangle, with an height ($a'-a$) and a width ($f(a') - f(a)$) (<a href=\"#fig:derivative\">figure below</a>).\n",
    "\n",
    "The slope $\\frac{\\text{height} }{\\text{width}}=3$ so we say that the derivative of $f(a)$ at the point $a=2$ is $3$. Height and width are the the vertical and horizontal distances and the slope is also expressed as $\\frac{df(a)}{da}$ or as $\\frac{d}{da}f(a)$. The reason why $a'$ doesn't appear in this representation is because, formally, the derivative is calculated at a very small increment of $a$ such as $a' \\approx a$.\n",
    "\n",
    "For a straight line (<a href=\"#fig:derivative\">figure below</a>, panel A) the derivative is constant along the whole line."
   ]
  },
  {
   "cell_type": "code",
   "execution_count": 2,
   "id": "wooden-belgium",
   "metadata": {
    "tags": [
     "remove_input"
    ]
   },
   "outputs": [
    {
     "data": {
      "image/png": "[encoded data removed]",
      "text/plain": [
       "<Figure size 720x288 with 2 Axes>"
      ]
     },
     "metadata": {
      "needs_background": "light"
     },
     "output_type": "display_data"
    }
   ],
   "source": [
    "fig, axes = plt.subplots(1, 2, figsize=(10, 4))\n",
    "ax, ax2 = axes\n",
    "xmax = 5\n",
    "x = np.linspace(0, xmax)\n",
    "y = 3*x\n",
    "ax.plot(x, y)\n",
    "ax.set_aspect('equal')\n",
    "ax.set_xlim(-xmax*.1, xmax*3)\n",
    "ax.plot([2, 4, 4, 2], [6, 12, 6, 6], marker='o', lw=2, markevery=[0, 1])\n",
    "\n",
    "ax.set_xticks([2, 4])\n",
    "ax.set_xticklabels([2, 2.001])\n",
    "ax.set_yticks([6, 12])\n",
    "ax.set_yticklabels([6, 6.003])\n",
    "ax.set_xlabel('')\n",
    "ax.annotate('0.001', (1.6, 5), xytext=(4.4, 5), va='center',  arrowprops={'arrowstyle': '<->'})\n",
    "ax.annotate('0.003', (5, 5.7), xytext=(5, 12.6), ha='center',  arrowprops={'arrowstyle': '<->'});\n",
    "ax.text(5.5, 9, '$df(a)$', fontsize=13)\n",
    "ax.text(3, 4.5, '$da$', va='top', ha='center', fontsize=13)\n",
    "ax.set_title('$f(a)=3a$', fontsize=13)\n",
    "ax.text(-0.1, 1.1, 'A', transform=ax.transAxes,\n",
    "  fontsize=15, va='top')\n",
    "\n",
    "ax2.plot(x, x**2)\n",
    "ax2.set_xlim(-xmax*.1, xmax*1.4)\n",
    "\n",
    "x1, x2 = 10, 15\n",
    "dx = np.r_[x[[x1, x2]], x[x2], x[x1]]\n",
    "dy = np.r_[x[[x1, x2]], x[x1], x[x1]]**2\n",
    "ax2.plot(dx, dy, marker='o', markevery=[0, 1])\n",
    "\n",
    "x1, x2 = 40, 45\n",
    "dx = np.r_[x[[x1, x2]], x[x2], x[x1]]\n",
    "dy = np.r_[x[[x1, x2]], x[x1], x[x1]]**2\n",
    "ax2.plot(dx, dy, marker='o', markevery=[0, 1])\n",
    "ax2.set_title('$f(a)=a^2$', fontsize=13)\n",
    "ax2.set_xticks([])\n",
    "ax2.set_xticklabels([])\n",
    "ax2.set_yticks([])\n",
    "ax2.set_yticklabels([])\n",
    "ax2.text(-0.1, 1.1, 'B', transform=ax2.transAxes,\n",
    "  fontsize=15, va='top');"
   ]
  },
  {
   "cell_type": "markdown",
   "id": "obvious-positive",
   "metadata": {},
   "source": [
    "<i id=\"fig:derivative\">The concept of derivative applied to a straight line (A), where the derivative is constant along the whole length of the function; and to a non-linear function (B), where the derivative changes based on the value of $a$.</i>\n",
    "\n",
    "## Computational graph\n",
    "The computational graph explains the forward- and backward- propagation (as to say the flow of the computation) that takes place in the training of a neural network. \n",
    "\n",
    "To illustrate the computation graph let's use a simpler example than a full blown neural network, let's say that we are writing a function $J(a, b, c) = 3(a+bc)$. In order to compute this function there are three steps: \n",
    "\n",
    "1. $u = bc$\n",
    "2. $v = a + u$\n",
    "3. $J=3v$\n",
    "\n",
    "We can draw these steps in a computational graph"
   ]
  },
  {
   "cell_type": "code",
   "execution_count": 3,
   "id": "overall-satin",
   "metadata": {
    "tags": [
     "remove_input"
    ]
   },
   "outputs": [
    {
     "data": {
      "image/svg+xml": [
       "<?xml version=\"1.0\" encoding=\"UTF-8\" standalone=\"no\"?>\n",
       "<!DOCTYPE svg PUBLIC \"-//W3C//DTD SVG 1.1//EN\"\n",
       " \"http://www.w3.org/Graphics/SVG/1.1/DTD/svg11.dtd\">\n",
       "<!-- Generated by graphviz version 2.40.1 (20161225.0304)\n",
       " -->\n",
       "<!-- Title: %3 Pages: 1 -->\n",
       "<svg width=\"339pt\" height=\"167pt\"\n",
       " viewBox=\"0.00 0.00 339.00 167.00\" xmlns=\"http://www.w3.org/2000/svg\" xmlns:xlink=\"http://www.w3.org/1999/xlink\">\n",
       "<g id=\"graph0\" class=\"graph\" transform=\"scale(1 1) rotate(0) translate(4 163)\">\n",
       "<title>%3</title>\n",
       "<polygon fill=\"#ffffff\" stroke=\"transparent\" points=\"-4,4 -4,-163 335,-163 335,4 -4,4\"/>\n",
       "<!-- a -->\n",
       "<g id=\"node1\" class=\"node\">\n",
       "<title>a</title>\n",
       "<ellipse fill=\"none\" stroke=\"#000000\" cx=\"34\" cy=\"-141\" rx=\"27\" ry=\"18\"/>\n",
       "<text text-anchor=\"middle\" x=\"34\" y=\"-137.3\" font-family=\"Times,serif\" font-size=\"14.00\" fill=\"#000000\">a</text>\n",
       "<text text-anchor=\"middle\" x=\"3.5\" y=\"-111.8\" font-family=\"Times,serif\" font-size=\"14.00\" fill=\"#000000\">5</text>\n",
       "</g>\n",
       "<!-- v -->\n",
       "<g id=\"node5\" class=\"node\">\n",
       "<title>v</title>\n",
       "<polygon fill=\"none\" stroke=\"#000000\" points=\"241,-132 187,-132 187,-96 241,-96 241,-132\"/>\n",
       "<text text-anchor=\"middle\" x=\"214\" y=\"-110.3\" font-family=\"Times,serif\" font-size=\"14.00\" fill=\"#000000\">v=a+u</text>\n",
       "<text text-anchor=\"middle\" x=\"180\" y=\"-84.8\" font-family=\"Times,serif\" font-size=\"14.00\" fill=\"#000000\">11</text>\n",
       "</g>\n",
       "<!-- a&#45;&gt;v -->\n",
       "<g id=\"edge2\" class=\"edge\">\n",
       "<title>a&#45;&gt;v:w</title>\n",
       "<path fill=\"none\" stroke=\"#000000\" d=\"M58.9402,-133.8354C87.9138,-126.1333 137.4334,-114.8732 181.8847,-114.0481\"/>\n",
       "<polygon fill=\"#000000\" stroke=\"#000000\" points=\"182.0167,-115.797 187,-114 181.9837,-112.2972 182.0167,-115.797\"/>\n",
       "</g>\n",
       "<!-- b -->\n",
       "<g id=\"node2\" class=\"node\">\n",
       "<title>b</title>\n",
       "<ellipse fill=\"none\" stroke=\"#000000\" cx=\"34\" cy=\"-87\" rx=\"27\" ry=\"18\"/>\n",
       "<text text-anchor=\"middle\" x=\"34\" y=\"-83.3\" font-family=\"Times,serif\" font-size=\"14.00\" fill=\"#000000\">b</text>\n",
       "<text text-anchor=\"middle\" x=\"3.5\" y=\"-57.8\" font-family=\"Times,serif\" font-size=\"14.00\" fill=\"#000000\">3</text>\n",
       "</g>\n",
       "<!-- u -->\n",
       "<g id=\"node4\" class=\"node\">\n",
       "<title>u</title>\n",
       "<polygon fill=\"none\" stroke=\"#000000\" points=\"151,-105 97,-105 97,-69 151,-69 151,-105\"/>\n",
       "<text text-anchor=\"middle\" x=\"124\" y=\"-83.3\" font-family=\"Times,serif\" font-size=\"14.00\" fill=\"#000000\">u=bc</text>\n",
       "<text text-anchor=\"middle\" x=\"93.5\" y=\"-57.8\" font-family=\"Times,serif\" font-size=\"14.00\" fill=\"#000000\">6</text>\n",
       "</g>\n",
       "<!-- b&#45;&gt;u -->\n",
       "<g id=\"edge1\" class=\"edge\">\n",
       "<title>b&#45;&gt;u:w</title>\n",
       "<path fill=\"none\" stroke=\"#000000\" d=\"M61.2887,-87C70.8124,-87 81.6979,-87 91.9987,-87\"/>\n",
       "<polygon fill=\"#000000\" stroke=\"#000000\" points=\"92,-88.7501 97,-87 92,-85.2501 92,-88.7501\"/>\n",
       "</g>\n",
       "<!-- c -->\n",
       "<g id=\"node3\" class=\"node\">\n",
       "<title>c</title>\n",
       "<ellipse fill=\"none\" stroke=\"#000000\" cx=\"34\" cy=\"-33\" rx=\"27\" ry=\"18\"/>\n",
       "<text text-anchor=\"middle\" x=\"34\" y=\"-29.3\" font-family=\"Times,serif\" font-size=\"14.00\" fill=\"#000000\">c</text>\n",
       "<text text-anchor=\"middle\" x=\"3.5\" y=\"-3.8\" font-family=\"Times,serif\" font-size=\"14.00\" fill=\"#000000\">2</text>\n",
       "</g>\n",
       "<!-- c&#45;&gt;u -->\n",
       "<g id=\"edge3\" class=\"edge\">\n",
       "<title>c&#45;&gt;u:w</title>\n",
       "<path fill=\"none\" stroke=\"#000000\" d=\"M49.3683,-48.042C63.1484,-61.2739 82.646,-79.3075 92.3569,-85.1157\"/>\n",
       "<polygon fill=\"#000000\" stroke=\"#000000\" points=\"91.7089,-86.7413 97,-87 93.0251,-83.4982 91.7089,-86.7413\"/>\n",
       "</g>\n",
       "<!-- u&#45;&gt;v -->\n",
       "<g id=\"edge4\" class=\"edge\">\n",
       "<title>u&#45;&gt;v:w</title>\n",
       "<path fill=\"none\" stroke=\"#000000\" d=\"M151.1669,-104.2524C160.3962,-108.7998 171.0866,-112.7302 181.7652,-113.7457\"/>\n",
       "<polygon fill=\"#000000\" stroke=\"#000000\" points=\"181.9209,-115.5052 187,-114 182.0908,-112.0094 181.9209,-115.5052\"/>\n",
       "</g>\n",
       "<!-- j -->\n",
       "<g id=\"node6\" class=\"node\">\n",
       "<title>j</title>\n",
       "<polygon fill=\"none\" stroke=\"#000000\" points=\"331,-132 277,-132 277,-96 331,-96 331,-132\"/>\n",
       "<text text-anchor=\"middle\" x=\"304\" y=\"-110.3\" font-family=\"Times,serif\" font-size=\"14.00\" fill=\"#000000\">J=3v</text>\n",
       "<text text-anchor=\"middle\" x=\"270\" y=\"-84.8\" font-family=\"Times,serif\" font-size=\"14.00\" fill=\"#000000\">33</text>\n",
       "</g>\n",
       "<!-- v&#45;&gt;j -->\n",
       "<g id=\"edge5\" class=\"edge\">\n",
       "<title>v&#45;&gt;j:w</title>\n",
       "<path fill=\"none\" stroke=\"#000000\" d=\"M241.2887,-114C250.8124,-114 261.6979,-114 271.9987,-114\"/>\n",
       "<polygon fill=\"#000000\" stroke=\"#000000\" points=\"272,-115.7501 277,-114 272,-112.2501 272,-115.7501\"/>\n",
       "</g>\n",
       "</g>\n",
       "</svg>\n"
      ],
      "text/plain": [
       "<graphviz.dot.Digraph at 0x7f9331be9fa0>"
      ]
     },
     "execution_count": 3,
     "metadata": {},
     "output_type": "execute_result"
    }
   ],
   "source": [
    "# Create Digraph object\n",
    "dot = Digraph(edge_attr={'arrowsize': '0.5', 'headport':'w'})\n",
    "\n",
    "with dot.subgraph() as s:\n",
    "    s.attr(rank='same')\n",
    "    s.node('a', xlabel='5', xlp='1,3')\n",
    "    s.node('b', xlabel='3')\n",
    "    s.node('c', xlabel='2')\n",
    "\n",
    "with dot.subgraph() as s:\n",
    "    s.node('u', label='u=bc', shape='rect', xlabel='6')\n",
    "    s.node('v', label='v=a+u', shape='rect', xlabel='11')\n",
    "    s.node('j', label='J=3v', shape='rect', xlabel='33')\n",
    "\n",
    "# Add edge between 1 and 2\n",
    "dot.edges(['bu', 'av', 'cu', 'uv', 'vj'])\n",
    "dot.attr(rankdir='LR')\n",
    "dot"
   ]
  },
  {
   "cell_type": "code",
   "execution_count": 22,
   "id": "dense-bridge",
   "metadata": {},
   "outputs": [
    {
     "data": {
      "image/png": "[encoded data removed]",
      "text/plain": [
       "<Figure size 432x288 with 1 Axes>"
      ]
     },
     "metadata": {
      "needs_background": "light"
     },
     "output_type": "display_data"
    }
   ],
   "source": [
    "f = Flow()\n",
    "f.node('a', xlabel=5)\n",
    "f.node('b', travel='s', connect=False, xlabel=3)\n",
    "f.node('c', travel='s', connect=False, xlabel=2)\n",
    "f.node('u', label='$u=bc$', xlabel=6, startpoint='b')\n",
    "f.node('v', label='$v=a+u$', xlabel=11)\n",
    "f.node('j', label='$J=3v$', xlabel=33)\n",
    "f.edge('c', 'u')\n",
    "f.edge('a', 'v')"
   ]
  },
  {
   "cell_type": "markdown",
   "id": "outstanding-photographer",
   "metadata": {},
   "source": [
    "Suppose we want to calculate $\\frac{dJ}{dv}$ ( in other words if we change the value $v$ of a little amount how would the value of $J$ change?). \n",
    "\n",
    "* $J = 3v$\n",
    "* $v = 11 \\to 3.001$\n",
    "* $J = 33 \\to 33.003$\n",
    "\n",
    "So \n",
    "\n",
    "$$\\frac{dJ}{dv}=\\frac{0.003}{0.001}=3$$\n",
    "\n",
    "In the terminology of backpropagation if we want to compute $\\frac{dJ}{dv}$ we take one step back from $J$ to $v$"
   ]
  },
  {
   "cell_type": "code",
   "execution_count": 5,
   "id": "least-assessment",
   "metadata": {
    "tags": [
     "remove_input"
    ]
   },
   "outputs": [
    {
     "ename": "NameError",
     "evalue": "name 'cp' is not defined",
     "output_type": "error",
     "traceback": [
      "\u001b[0;31m---------------------------------------------------------------------------\u001b[0m",
      "\u001b[0;31mNameError\u001b[0m                                 Traceback (most recent call last)",
      "\u001b[0;32m<ipython-input-5-f82832dde50f>\u001b[0m in \u001b[0;36m<module>\u001b[0;34m\u001b[0m\n\u001b[0;32m----> 1\u001b[0;31m \u001b[0mdot2\u001b[0m \u001b[0;34m=\u001b[0m \u001b[0mcp\u001b[0m\u001b[0;34m(\u001b[0m\u001b[0mdot\u001b[0m\u001b[0;34m)\u001b[0m\u001b[0;34m\u001b[0m\u001b[0;34m\u001b[0m\u001b[0m\n\u001b[0m\u001b[1;32m      2\u001b[0m \u001b[0mdot2\u001b[0m\u001b[0;34m.\u001b[0m\u001b[0medge\u001b[0m\u001b[0;34m(\u001b[0m\u001b[0;34m'j'\u001b[0m\u001b[0;34m,\u001b[0m \u001b[0;34m'v'\u001b[0m\u001b[0;34m,\u001b[0m \u001b[0mheadport\u001b[0m\u001b[0;34m=\u001b[0m\u001b[0;34m's'\u001b[0m\u001b[0;34m,\u001b[0m \u001b[0mtailport\u001b[0m\u001b[0;34m=\u001b[0m\u001b[0;34m's'\u001b[0m\u001b[0;34m,\u001b[0m \u001b[0mcolor\u001b[0m\u001b[0;34m=\u001b[0m\u001b[0;34m'red'\u001b[0m\u001b[0;34m)\u001b[0m\u001b[0;34m\u001b[0m\u001b[0;34m\u001b[0m\u001b[0m\n\u001b[1;32m      3\u001b[0m \u001b[0mdot2\u001b[0m\u001b[0;34m\u001b[0m\u001b[0;34m\u001b[0m\u001b[0m\n",
      "\u001b[0;31mNameError\u001b[0m: name 'cp' is not defined"
     ]
    }
   ],
   "source": [
    "dot2 = cp(dot)\n",
    "dot2.edge('j', 'v', headport='s', tailport='s', color='red')\n",
    "dot2"
   ]
  },
  {
   "cell_type": "markdown",
   "id": "billion-utility",
   "metadata": {},
   "source": [
    "We now want to calculate $\\frac{dJ}{da}$, in other words the change of value $J$ when $a$ changes\n",
    "\n",
    "* $a = 5 \\to 5.001$\n",
    "* $v = 11 \\to 11.001$\n",
    "* $J = 33 \\to 33.003$\n",
    "\n",
    "So, once again\n",
    "\n",
    "$$\\frac{dJ}{da}=\\frac{0.003}{0.001}=3$$\n",
    "\n",
    "Where the net change is given by \n",
    "\n",
    "$$\n",
    "\\frac{dJ}{da}=\\frac{dJ}{dv}\\frac{dv}{da}\n",
    "$$\n",
    "\n",
    "\n",
    "In calculus this is called the **chain rule** where $a$ affects $v$ that affects $J$ ($a\\to v \\to J$). So that the change of $J$ when $a$ is given by the product $\\frac{dJ}{dv}\\frac{dv}{da}$. This illustrates how having computed $\\frac{dJ}{dv}$ helps in calculating $\\frac{dJ}{da}$"
   ]
  },
  {
   "cell_type": "code",
   "execution_count": null,
   "id": "activated-seventh",
   "metadata": {
    "tags": [
     "remove_input"
    ]
   },
   "outputs": [],
   "source": [
    "dot3 = cp(dot2)\n",
    "dot3.edge('v', 'a', headport='s', tailport='s', color='red')\n",
    "dot3"
   ]
  },
  {
   "cell_type": "markdown",
   "id": "selected-telling",
   "metadata": {},
   "source": [
    "# Python vectorization\n",
    "In the pre-deep-learning era vectorization was optional, in the deep-learning era vectorization absolutely necessary since both the size of networks and of data is vastly increased.\n",
    "\n",
    "## Vector-vector product\n",
    "In particular, in deep learning (and in machine learning in general) we need to calculate \n",
    "\n",
    "$$\n",
    "z = w^Tx+b\n",
    "$$\n",
    "\n",
    "for \n",
    "\n",
    "$$\n",
    "w =\n",
    "\\begin{bmatrix}\n",
    "\\vdots \\\\ \\vdots\n",
    "\\end{bmatrix} \\in \\mathbb{R}^{n_x}\n",
    "\\qquad \n",
    "x = \\begin{bmatrix}\n",
    "\\vdots \\\\ \\vdots\n",
    "\\end{bmatrix} \\in \\mathbb{R}^{n_x}\n",
    "$$\n",
    "\n",
    "The vectorized form of this operation in python is "
   ]
  },
  {
   "cell_type": "code",
   "execution_count": null,
   "id": "standard-actress",
   "metadata": {
    "tags": [
     "remove_input"
    ]
   },
   "outputs": [],
   "source": [
    "w, x, b = np.random.rand(3, 10)"
   ]
  },
  {
   "cell_type": "code",
   "execution_count": null,
   "id": "elect-tomorrow",
   "metadata": {
    "tags": [
     "remove_output"
    ]
   },
   "outputs": [],
   "source": [
    "np.dot(w, x) + b"
   ]
  },
  {
   "cell_type": "markdown",
   "id": "musical-plaza",
   "metadata": {},
   "source": [
    "where `np.dot(w, x)` $\\equiv w^Tx$"
   ]
  },
  {
   "cell_type": "markdown",
   "id": "statewide-image",
   "metadata": {},
   "source": [
    "## Matrix-vector product\n",
    "Incidentally, the matrix-vector product $Av$, where \n",
    "\n",
    "$$\n",
    "A = \\begin{bmatrix}\n",
    "\\ddots &  \\\\\n",
    "&   \\\\\n",
    "&  \\ddots \\\\\n",
    "\\end{bmatrix} \\in \\mathbb{R}^{m \\times n} \\qquad \n",
    "v=\\begin{bmatrix}\n",
    "\\vdots \\\\ \\vdots\n",
    "\\end{bmatrix} \\in \\mathbb{R}^n\n",
    "$$"
   ]
  },
  {
   "cell_type": "code",
   "execution_count": null,
   "id": "african-canberra",
   "metadata": {
    "tags": [
     "remove_input"
    ]
   },
   "outputs": [],
   "source": [
    "v = np.random.rand(10)\n",
    "A = np.random.rand(3, 10)"
   ]
  },
  {
   "cell_type": "code",
   "execution_count": null,
   "id": "broken-horror",
   "metadata": {
    "tags": [
     "remove_output"
    ]
   },
   "outputs": [],
   "source": [
    "np.dot(A, v)"
   ]
  },
  {
   "cell_type": "markdown",
   "id": "identical-donna",
   "metadata": {},
   "source": [
    "Notice that the exact same syntax performs both vecto-vector and matrix-vector multiplication, this is due to the overload implemented in the `np.dot` function. To know more about it, check out [its documentation](https://numpy.org/doc/stable/reference/generated/numpy.dot.html)\n",
    "\n",
    "## Vectorized element-wise operations\n",
    "To apply a function element by element to whole arrays you can simply use`np.ufuncs` ([numpy universal functions](https://numpy.org/doc/stable/reference/generated/numpy.ufunc.html#numpy.ufunc))"
   ]
  },
  {
   "cell_type": "code",
   "execution_count": null,
   "id": "mature-shopper",
   "metadata": {
    "tags": [
     "remove_input"
    ]
   },
   "outputs": [],
   "source": [
    "v = np.random.rand(10).round(2)"
   ]
  },
  {
   "cell_type": "code",
   "execution_count": null,
   "id": "close-butter",
   "metadata": {},
   "outputs": [],
   "source": [
    "v"
   ]
  },
  {
   "cell_type": "code",
   "execution_count": null,
   "id": "color-publicity",
   "metadata": {},
   "outputs": [],
   "source": [
    "np.exp(v).round(2)"
   ]
  },
  {
   "cell_type": "code",
   "execution_count": null,
   "id": "running-hardwood",
   "metadata": {},
   "outputs": [],
   "source": [
    "np.log(v).round(2)"
   ]
  },
  {
   "cell_type": "code",
   "execution_count": null,
   "id": "processed-episode",
   "metadata": {},
   "outputs": [],
   "source": [
    "v + 1"
   ]
  },
  {
   "cell_type": "code",
   "execution_count": null,
   "id": "established-locking",
   "metadata": {},
   "outputs": [],
   "source": [
    "v * 2"
   ]
  },
  {
   "cell_type": "markdown",
   "id": "developed-rachel",
   "metadata": {},
   "source": [
    "## Broadcasting\n",
    "To a complete guide to broadcasting check out [numpy great documentation](https://numpy.org/doc/stable/user/basics.broadcasting.html#:~:text=The%20term%20broadcasting%20describes%20how,that%20they%20have%20compatible%20shapes.&text=NumPy%20operations%20are%20usually%20done,element%2Dby%2Delement%20basis.)"
   ]
  },
  {
   "cell_type": "code",
   "execution_count": null,
   "id": "knowing-sally",
   "metadata": {},
   "outputs": [],
   "source": [
    "A = pd.DataFrame([[56, 0, 4.4, 6.8], [1.2, 104, 52, 8], [1.8, 135, 99, 0.9]], \n",
    "                        columns=['Apples', 'Beef', 'Eggs', 'Potatoes'], index=['Carb', 'Protein', 'Fat'])\n",
    "A"
   ]
  },
  {
   "cell_type": "code",
   "execution_count": null,
   "id": "impressive-orbit",
   "metadata": {},
   "outputs": [],
   "source": [
    "A = A.values\n",
    "A"
   ]
  },
  {
   "cell_type": "code",
   "execution_count": null,
   "id": "manual-accent",
   "metadata": {},
   "outputs": [],
   "source": [
    "cal = A.sum(axis=0)\n",
    "cal"
   ]
  },
  {
   "cell_type": "code",
   "execution_count": null,
   "id": "necessary-village",
   "metadata": {},
   "outputs": [],
   "source": [
    "(A / cal.reshape(1, 4) * 100)"
   ]
  },
  {
   "cell_type": "code",
   "execution_count": null,
   "id": "intermediate-england",
   "metadata": {},
   "outputs": [],
   "source": [
    "A / cal * 100"
   ]
  },
  {
   "cell_type": "markdown",
   "id": "dying-bacon",
   "metadata": {},
   "source": [
    "In general if you have a $m, n$ matrix (A) \n",
    "\n",
    "* if you apply an operation with an $1, n$ matrix (B), then B will be copied $m$ times and the operations applied element-wise\n",
    "* if you apply an operation with an $m, 1$ matrix (C), then C will be copied $n$ times and the operations applied element-wise"
   ]
  },
  {
   "cell_type": "markdown",
   "id": "built-material",
   "metadata": {},
   "source": [
    "## numpy Vectors\n",
    "`numpy` offers great flexibility at the cost of rigorousness, sometimes wrong-looking expression give unexpectedly correct results and vice versa.\n",
    "Heres a series of considerations and suggestions for dealing with `numpy`.\n",
    "\n",
    "For example let's take a random vector of 5 elements"
   ]
  },
  {
   "cell_type": "code",
   "execution_count": null,
   "id": "economic-senior",
   "metadata": {},
   "outputs": [],
   "source": [
    "a = np.random.rand(5)\n",
    "a"
   ]
  },
  {
   "cell_type": "markdown",
   "id": "equivalent-celebrity",
   "metadata": {},
   "source": [
    "Whose shape is"
   ]
  },
  {
   "cell_type": "code",
   "execution_count": null,
   "id": "utility-singapore",
   "metadata": {},
   "outputs": [],
   "source": [
    "a.shape"
   ]
  },
  {
   "cell_type": "markdown",
   "id": "hawaiian-institute",
   "metadata": {},
   "source": [
    "This is called a rank 1 vector in python and it's neither a row vector nor a column vector and its behavior is sometimes unexpected. \n",
    "\n",
    "For example, its transpose is equal to itself "
   ]
  },
  {
   "cell_type": "code",
   "execution_count": null,
   "id": "acceptable-mauritius",
   "metadata": {},
   "outputs": [],
   "source": [
    "a.T"
   ]
  },
  {
   "cell_type": "markdown",
   "id": "streaming-shareware",
   "metadata": {},
   "source": [
    "and the inner product of `a` and `a.T` is not a matrix instead is a scalar"
   ]
  },
  {
   "cell_type": "code",
   "execution_count": null,
   "id": "funded-spain",
   "metadata": {},
   "outputs": [],
   "source": [
    "np.dot(a, a.T)"
   ]
  },
  {
   "cell_type": "markdown",
   "id": "broad-sampling",
   "metadata": {},
   "source": [
    "So, instead of using rank 1 vectors you may want to use rank 2 vectors, which have a much more predictable behavior."
   ]
  },
  {
   "cell_type": "code",
   "execution_count": null,
   "id": "violent-parade",
   "metadata": {},
   "outputs": [],
   "source": [
    "a = np.random.rand(5, 1)\n",
    "a"
   ]
  },
  {
   "cell_type": "code",
   "execution_count": null,
   "id": "adjacent-registrar",
   "metadata": {},
   "outputs": [],
   "source": [
    "a.T"
   ]
  },
  {
   "cell_type": "code",
   "execution_count": null,
   "id": "developed-adaptation",
   "metadata": {},
   "outputs": [],
   "source": [
    "np.dot(a, a.T)"
   ]
  },
  {
   "cell_type": "markdown",
   "id": "arctic-comedy",
   "metadata": {},
   "source": [
    "rank 1 arrays can always be reshaped in row or columns vectors (or higher dimensional matrices)"
   ]
  },
  {
   "cell_type": "code",
   "execution_count": null,
   "id": "corresponding-conversation",
   "metadata": {},
   "outputs": [],
   "source": [
    "a = np.random.rand(5)\n",
    "a"
   ]
  },
  {
   "cell_type": "code",
   "execution_count": null,
   "id": "senior-pavilion",
   "metadata": {},
   "outputs": [],
   "source": [
    "a.reshape(5, 1)"
   ]
  },
  {
   "cell_type": "code",
   "execution_count": null,
   "id": "confused-edinburgh",
   "metadata": {},
   "outputs": [],
   "source": [
    "a.reshape(1, 5)"
   ]
  }
 ],
 "metadata": {
  "kernelspec": {
   "display_name": "Python 3",
   "language": "python",
   "name": "python3"
  },
  "language_info": {
   "codemirror_mode": {
    "name": "ipython",
    "version": 3
   },
   "file_extension": ".py",
   "mimetype": "text/x-python",
   "name": "python",
   "nbconvert_exporter": "python",
   "pygments_lexer": "ipython3",
   "version": "3.9.1"
  }
 },
 "nbformat": 4,
 "nbformat_minor": 5
}
